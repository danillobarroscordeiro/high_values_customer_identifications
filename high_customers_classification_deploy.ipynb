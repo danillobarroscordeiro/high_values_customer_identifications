{
 "cells": [
  {
   "cell_type": "markdown",
   "id": "b7138727-dfc0-4901-ad63-644cb660ddf9",
   "metadata": {},
   "source": [
    "# Solution Planning\n",
    "\n",
    "## Input\n",
    "\n",
    "    Business Problem\n",
    "        Select most valuable customers to create a loyalty program called Insiders\n",
    "\n",
    "    Data\n",
    "        One year of e-commerce sales\n",
    "\n",
    "## Output\n",
    "\n",
    "    A list of customers that will be part of Insiders\n",
    "    A report answering business questions\n",
    "        Who are the eligible customers to participate in the Insiders program?\n",
    "        How many customers will be part of the program?\n",
    "        What are the main characteristics of these customers?\n",
    "        What revenue percentage comes from Insiders?\n",
    "        What are the conditions for a customer to be eligible for the Insiders program?\n",
    "        What are the conditions for a customer to be removed from the Insiders program?\n",
    "        What is the guarantee that the Insiders program is better than the regular customer database?\n",
    "        What actions can the marketing team make to increase the revenue?\n",
    "\n",
    "## Tasks\n",
    "\n",
    "    A report answering business questions:\n",
    "\n",
    "        Who are the eligible customers to participate in the Insiders program?\n",
    "            Understand the criteria to a eligible customer.\n",
    "            Criteria examples:\n",
    "                Revenue\n",
    "                    High average ticket\n",
    "                    High LTV (lifetime value)\n",
    "                    Low recency\n",
    "                    High basket size\n",
    "                    Low churn probability\n",
    "                Expenses\n",
    "                    Return rate\n",
    "                Buying Experience\n",
    "                    High average notes on reviews\n",
    "\n",
    "        How many customers will be part of the program?\n",
    "            Calculate the percentage of customers that belong to Insiders program over the total number of customers.\n",
    "\n",
    "        What are the main characteristics of these customers?\n",
    "            Indicate customer characteristics:\n",
    "                Age\n",
    "                City\n",
    "                Education level\n",
    "                Localization, etc.\n",
    "            Indicate consumption characteristics:\n",
    "                Clusters attributes\n",
    "\n",
    "        What revenue percentage comes from Insiders?\n",
    "            Calculate the percentage of Insiders revenue over the total revenue.\n",
    "\n",
    "        What is the Insiders' expected revenue for the coming months?\n",
    "            Calculate Insiders' LTV\n",
    "            Calculate Cohort Analysis.\n",
    "\n",
    "        What are the conditions for a customer to be eligible for the Insiders program?\n",
    "            Define verification periodicity (monthly, quarterly, etc.)\n",
    "            The customer must be similar to a customer on Insiders.\n",
    "\n",
    "        What are the conditions for a customer to be removed from the Insiders program?\n",
    "            Define verification periodicity (monthly, quarterly, etc.)\n",
    "            The customer must be dissimilar to a customer on Insiders.\n",
    "\n",
    "        What is the guarantee that the Insiders program is better than the regular customer database?\n",
    "            Perform A/B Test\n",
    "            Perform A/B Bayesian Test\n",
    "            Perform Hypothesis Test\n",
    "\n",
    "        What actions can the marketing team make to increase the revenue?\n",
    "            Discount\n",
    "            Buying preferences\n",
    "            Shipping options\n",
    "            Promote a visit to the company, etc.\n",
    "\n"
   ]
  },
  {
   "cell_type": "markdown",
   "id": "ee3e48cb-bcf7-427b-bf52-bcba8dde7520",
   "metadata": {
    "execution": {
     "iopub.execute_input": "2023-02-15T12:02:37.011271Z",
     "iopub.status.busy": "2023-02-15T12:02:37.010987Z",
     "iopub.status.idle": "2023-02-15T12:02:41.293084Z",
     "shell.execute_reply": "2023-02-15T12:02:41.292242Z",
     "shell.execute_reply.started": "2023-02-15T12:02:37.011250Z"
    },
    "tags": []
   },
   "source": [
    "# Imports and helper functions"
   ]
  },
  {
   "cell_type": "code",
   "execution_count": 3,
   "id": "4042e3dd-e48c-4e1b-9f54-d3946065955c",
   "metadata": {
    "ExecuteTime": {
     "end_time": "2023-05-10T08:30:36.344422Z",
     "start_time": "2023-05-10T08:30:32.821302Z"
    },
    "execution": {
     "iopub.execute_input": "2023-02-21T12:35:53.289237Z",
     "iopub.status.busy": "2023-02-21T12:35:53.288998Z",
     "iopub.status.idle": "2023-02-21T12:35:53.293603Z",
     "shell.execute_reply": "2023-02-21T12:35:53.293132Z",
     "shell.execute_reply.started": "2023-02-21T12:35:53.289225Z"
    },
    "tags": []
   },
   "outputs": [],
   "source": [
    "import sqlalchemy\n",
    "import sqlite3\n",
    "from scipy.cluster import hierarchy\n",
    "import umap\n",
    "from sklearn.preprocessing import RobustScaler\n",
    "from datetime import datetime as dt\n",
    "import snakecase\n",
    "import re\n",
    "import numpy as np\n",
    "import dtype_diet\n",
    "import pandas as pd\n",
    "pd.set_option('display.float_format', lambda x: '%.2f' % x)\n",
    "\n",
    "\n",
    "def data_description(df):\n",
    "    print('Variables:\\n\\n{}'.format(df.dtypes), end='\\n\\n')\n",
    "    print('Number of rows {}'.format(df.shape[0]), end='\\n\\n')\n",
    "    print('Number of columns {}'.format(df.shape[1]), end='\\n\\n')\n",
    "    print('NA analysis'.format(end='\\n'))\n",
    "\n",
    "    for i in df.columns:\n",
    "        print('column {}: {} {}'.format(\n",
    "            i, df[i].isna().any(), df[i].isna().sum()))"
   ]
  },
  {
   "cell_type": "markdown",
   "id": "bf328ef0-4e28-4af1-bd1f-fc0ada49809a",
   "metadata": {
    "tags": []
   },
   "source": [
    "# Loading data"
   ]
  },
  {
   "cell_type": "code",
   "execution_count": 32,
   "id": "0e66082f-7768-4796-b85a-1dea98871c6c",
   "metadata": {
    "ExecuteTime": {
     "end_time": "2023-05-10T08:36:49.027132Z",
     "start_time": "2023-05-10T08:36:48.681289Z"
    },
    "execution": {
     "iopub.execute_input": "2023-02-21T12:35:54.302755Z",
     "iopub.status.busy": "2023-02-21T12:35:54.302092Z",
     "iopub.status.idle": "2023-02-21T12:35:54.616038Z",
     "shell.execute_reply": "2023-02-21T12:35:54.615546Z",
     "shell.execute_reply.started": "2023-02-21T12:35:54.302728Z"
    },
    "tags": []
   },
   "outputs": [],
   "source": [
    "df = pd.read_csv('../high_value_customer_identification/data.csv',low_memory=True)"
   ]
  },
  {
   "cell_type": "markdown",
   "id": "d407a342-0aa5-43f1-a978-637f2b3dd649",
   "metadata": {},
   "source": [
    "# Data Description"
   ]
  },
  {
   "cell_type": "code",
   "execution_count": 33,
   "id": "c9a38c70-b559-4f19-b0db-92cdd11bc614",
   "metadata": {
    "ExecuteTime": {
     "end_time": "2023-05-08T12:49:34.227507Z",
     "start_time": "2023-05-08T12:49:34.095134Z"
    },
    "execution": {
     "iopub.execute_input": "2023-02-17T12:21:50.816172Z",
     "iopub.status.busy": "2023-02-17T12:21:50.815743Z",
     "iopub.status.idle": "2023-02-17T12:21:50.990446Z",
     "shell.execute_reply": "2023-02-17T12:21:50.989911Z",
     "shell.execute_reply.started": "2023-02-17T12:21:50.816137Z"
    },
    "tags": []
   },
   "outputs": [
    {
     "name": "stdout",
     "output_type": "stream",
     "text": [
      "Variables:\n",
      "\n",
      "InvoiceNo       object\n",
      "StockCode       object\n",
      "Description     object\n",
      "Quantity         int64\n",
      "InvoiceDate     object\n",
      "UnitPrice      float64\n",
      "CustomerID     float64\n",
      "Country         object\n",
      "dtype: object\n",
      "\n",
      "Number of rows 541909\n",
      "\n",
      "Number of columns 8\n",
      "\n",
      "NA analysis\n",
      "column InvoiceNo: False 0\n",
      "column StockCode: False 0\n",
      "column Description: True 1454\n",
      "column Quantity: False 0\n",
      "column InvoiceDate: False 0\n",
      "column UnitPrice: False 0\n",
      "column CustomerID: True 135080\n",
      "column Country: False 0\n"
     ]
    }
   ],
   "source": [
    "data_description(df)"
   ]
  },
  {
   "cell_type": "markdown",
   "id": "1d8555c3-f86c-4145-9f40-35031466b785",
   "metadata": {},
   "source": [
    "# Data Wrangling"
   ]
  },
  {
   "cell_type": "code",
   "execution_count": 33,
   "id": "216b802d-9c56-46ee-aa0f-5784b987f2fe",
   "metadata": {
    "ExecuteTime": {
     "end_time": "2023-05-10T08:36:50.689978Z",
     "start_time": "2023-05-10T08:36:50.562852Z"
    },
    "execution": {
     "iopub.execute_input": "2023-02-21T12:10:34.153728Z",
     "iopub.status.busy": "2023-02-21T12:10:34.153553Z",
     "iopub.status.idle": "2023-02-21T12:10:34.279797Z",
     "shell.execute_reply": "2023-02-21T12:10:34.279327Z",
     "shell.execute_reply.started": "2023-02-21T12:10:34.153715Z"
    },
    "tags": []
   },
   "outputs": [],
   "source": [
    "for i in df.columns:\n",
    "    df = df.rename(columns={i: snakecase.convert(i)}\n",
    "    )"
   ]
  },
  {
   "cell_type": "markdown",
   "id": "84672c96-b063-4ee9-a216-94f382a520a8",
   "metadata": {},
   "source": [
    "## Categorical attributes analysis"
   ]
  },
  {
   "cell_type": "markdown",
   "id": "2ac61536-2807-4677-a37c-2a7af70f3add",
   "metadata": {},
   "source": [
    "### invoice_no"
   ]
  },
  {
   "cell_type": "code",
   "execution_count": 34,
   "id": "42a75d63-06e4-4969-b0bd-97090e2d54c1",
   "metadata": {
    "ExecuteTime": {
     "end_time": "2023-05-10T08:36:52.567361Z",
     "start_time": "2023-05-10T08:36:52.201084Z"
    },
    "execution": {
     "iopub.execute_input": "2023-02-21T12:10:36.008333Z",
     "iopub.status.busy": "2023-02-21T12:10:36.007739Z",
     "iopub.status.idle": "2023-02-21T12:10:36.400787Z",
     "shell.execute_reply": "2023-02-21T12:10:36.400307Z",
     "shell.execute_reply.started": "2023-02-21T12:10:36.008318Z"
    },
    "tags": []
   },
   "outputs": [],
   "source": [
    "# There is some invoices with a letter C, probably is return invoices.\n",
    "# They will be removed to just focus on buying invoices for the moment.\n",
    "df['invoice_no'].unique()\n",
    "df = df[~df['invoice_no']\n",
    "    .astype(str)\n",
    "    .apply(lambda x: bool(re.search('[^0-9]+', x)))\n",
    "]"
   ]
  },
  {
   "cell_type": "markdown",
   "id": "2d3c6847-1b00-4b44-a4a2-6af295806d56",
   "metadata": {
    "execution": {
     "iopub.execute_input": "2023-02-15T15:27:05.546068Z",
     "iopub.status.busy": "2023-02-15T15:27:05.545756Z",
     "iopub.status.idle": "2023-02-15T15:27:05.951918Z",
     "shell.execute_reply": "2023-02-15T15:27:05.951001Z",
     "shell.execute_reply.started": "2023-02-15T15:27:05.546047Z"
    },
    "tags": []
   },
   "source": [
    "### stock_code"
   ]
  },
  {
   "cell_type": "code",
   "execution_count": 35,
   "id": "a367bcd4-6af9-4604-b7af-ebcccb7a841f",
   "metadata": {
    "ExecuteTime": {
     "end_time": "2023-05-10T08:36:54.372624Z",
     "start_time": "2023-05-10T08:36:54.034117Z"
    },
    "execution": {
     "iopub.execute_input": "2023-02-21T12:10:37.295300Z",
     "iopub.status.busy": "2023-02-21T12:10:37.295000Z",
     "iopub.status.idle": "2023-02-21T12:10:37.656408Z",
     "shell.execute_reply": "2023-02-21T12:10:37.655903Z",
     "shell.execute_reply.started": "2023-02-21T12:10:37.295277Z"
    },
    "tags": []
   },
   "outputs": [],
   "source": [
    "# There is some stockCode with just a letter (D, M,m), some with letter and number\n",
    "# and others with numbers. Also, there is some stockcode with just letters (POST,DOT...).\n",
    "# The POST,DOT,BANK CHARGES, PADS and AMAZONFEE will be removed as\n",
    "# they do not represents products but other operations.\n",
    "\n",
    "np.array(df[df['stock_code']\n",
    "                .astype(str)\n",
    "                .apply(lambda x: bool(re.search('[A-Z]{3,}', x)))]['stock_code']\n",
    "                .unique()\n",
    ")\n",
    "df = df[~df['stock_code'].isin(\n",
    "    ['DOT', 'BANK CHARGES', 'AMAZONFEE', 'PADS', 'POST', 'M', 'D', 'm']\n",
    "    )\n",
    "]"
   ]
  },
  {
   "cell_type": "markdown",
   "id": "a073edbe-157a-4f20-b0db-48875bd26e91",
   "metadata": {},
   "source": [
    "### invoice_date"
   ]
  },
  {
   "cell_type": "code",
   "execution_count": 36,
   "id": "de9767f7",
   "metadata": {
    "ExecuteTime": {
     "end_time": "2023-05-10T08:36:57.976924Z",
     "start_time": "2023-05-10T08:36:55.640905Z"
    },
    "execution": {
     "iopub.execute_input": "2023-02-21T12:10:40.084131Z",
     "iopub.status.busy": "2023-02-21T12:10:40.083770Z",
     "iopub.status.idle": "2023-02-21T12:10:42.485181Z",
     "shell.execute_reply": "2023-02-21T12:10:42.484752Z",
     "shell.execute_reply.started": "2023-02-21T12:10:40.084118Z"
    },
    "tags": []
   },
   "outputs": [],
   "source": [
    "df['invoice_date'] = df['invoice_date'].apply(\n",
    "    lambda x: dt.strptime(x, '%d-%b-%y')\n",
    ")"
   ]
  },
  {
   "cell_type": "markdown",
   "id": "1119e05c-47cb-4ccc-bb9e-ba0b2140c035",
   "metadata": {},
   "source": [
    "## Quantitative analysis"
   ]
  },
  {
   "cell_type": "code",
   "execution_count": 37,
   "id": "58cbcbc0",
   "metadata": {
    "ExecuteTime": {
     "end_time": "2023-05-10T08:36:58.718284Z",
     "start_time": "2023-05-10T08:36:58.691329Z"
    },
    "execution": {
     "iopub.execute_input": "2023-02-21T12:10:46.628125Z",
     "iopub.status.busy": "2023-02-21T12:10:46.627940Z",
     "iopub.status.idle": "2023-02-21T12:10:46.659902Z",
     "shell.execute_reply": "2023-02-21T12:10:46.659381Z",
     "shell.execute_reply.started": "2023-02-21T12:10:46.628112Z"
    },
    "tags": []
   },
   "outputs": [],
   "source": [
    "# There is some itens with negative quantities and unit_price equals to zero.\n",
    "# Looking at description could be products that were in stock but something\n",
    "# happened such as they were lost, damaged or other situations.  \n",
    "# These situations does not represents customer purchases. They would be removed.\n",
    "# There are purchases with high quantities per item but it \n",
    "# appears to be normal purchases so they would be kept in data.\n",
    "\n",
    "df = df[df['quantity'] > 0]"
   ]
  },
  {
   "cell_type": "code",
   "execution_count": 38,
   "id": "41bf3e71",
   "metadata": {
    "ExecuteTime": {
     "end_time": "2023-05-10T08:37:00.072783Z",
     "start_time": "2023-05-10T08:37:00.040301Z"
    },
    "execution": {
     "iopub.execute_input": "2023-02-21T12:10:47.474638Z",
     "iopub.status.busy": "2023-02-21T12:10:47.474018Z",
     "iopub.status.idle": "2023-02-21T12:10:47.502595Z",
     "shell.execute_reply": "2023-02-21T12:10:47.501846Z",
     "shell.execute_reply.started": "2023-02-21T12:10:47.474613Z"
    },
    "tags": []
   },
   "outputs": [],
   "source": [
    "# There are products with unit_price equals to zero and most of these lines\n",
    "# do not have neither product descriptions nor customer id. \n",
    "# These do not seems to be normal purchases and since this situations \n",
    "# represents less than 1% of the total data they will be removed.\n",
    "\n",
    "df = df[df['unit_price'] != 0]"
   ]
  },
  {
   "cell_type": "markdown",
   "id": "95086831-069b-4615-aa95-9181f27f33dc",
   "metadata": {
    "tags": []
   },
   "source": [
    "## Checking/Replace NAs"
   ]
  },
  {
   "cell_type": "code",
   "execution_count": 41,
   "id": "1fa8daa3-64cd-46ae-9432-093ab5ffe80a",
   "metadata": {
    "ExecuteTime": {
     "end_time": "2023-05-10T08:39:41.415256Z",
     "start_time": "2023-05-10T08:39:41.274936Z"
    },
    "execution": {
     "iopub.execute_input": "2023-02-21T12:10:48.477534Z",
     "iopub.status.busy": "2023-02-21T12:10:48.477016Z",
     "iopub.status.idle": "2023-02-21T12:10:48.623589Z",
     "shell.execute_reply": "2023-02-21T12:10:48.623025Z",
     "shell.execute_reply.started": "2023-02-21T12:10:48.477508Z"
    },
    "tags": []
   },
   "outputs": [],
   "source": [
    "# In order to not loosing more than 20% of whole data because some\n",
    "# customers do not have ID, we will create artifical IDs starting with 25000\n",
    "df_aux = pd.DataFrame(\n",
    "    df[df['customer_id'].isna()]['invoice_no']\n",
    "    .drop_duplicates()\n",
    "    )\n",
    "df_aux = df_aux.assign(customer_id=np.arange(20000, 20000 + len(df_aux), 1))   \n",
    "\n",
    "\n",
    "df = pd.merge(df,df_aux, how='left', on='invoice_no')\n",
    "df['customer_id'] = (df['customer_id_x']\n",
    "                            .combine_first(df['customer_id_y'])\n",
    "                            .astype(int)\n",
    ")\n",
    "df = df.drop(columns=['customer_id_x', 'customer_id_y'], axis=1)"
   ]
  },
  {
   "cell_type": "markdown",
   "id": "385f3b75-a174-4c78-9a20-40c793142fb9",
   "metadata": {},
   "source": [
    "# Feature Engineering"
   ]
  },
  {
   "cell_type": "code",
   "execution_count": 42,
   "id": "2e690586-6dd0-479d-bcf9-d4f15a57a8ea",
   "metadata": {
    "ExecuteTime": {
     "end_time": "2023-05-10T08:39:50.032998Z",
     "start_time": "2023-05-10T08:39:50.010685Z"
    },
    "execution": {
     "iopub.execute_input": "2023-02-21T12:10:51.367827Z",
     "iopub.status.busy": "2023-02-21T12:10:51.367543Z",
     "iopub.status.idle": "2023-02-21T12:10:51.611815Z",
     "shell.execute_reply": "2023-02-21T12:10:51.611076Z",
     "shell.execute_reply.started": "2023-02-21T12:10:51.367805Z"
    },
    "tags": []
   },
   "outputs": [],
   "source": [
    "df1 = df.drop(columns=['description', 'country'])\n",
    "del(df)"
   ]
  },
  {
   "cell_type": "markdown",
   "id": "d63650f2-a2d7-424e-804e-35bd4b8e3df7",
   "metadata": {},
   "source": [
    "### Gross Revenue"
   ]
  },
  {
   "cell_type": "code",
   "execution_count": 43,
   "id": "a373df79",
   "metadata": {
    "ExecuteTime": {
     "end_time": "2023-05-10T08:39:51.103431Z",
     "start_time": "2023-05-10T08:39:51.007361Z"
    }
   },
   "outputs": [],
   "source": [
    "df_purchases = df1[['customer_id','invoice_no']].drop_duplicates()\n",
    "df1_aux = (df1.loc[:,['invoice_no','quantity','unit_price']]\n",
    "            .assign(gross_revenue=df1['quantity']*df1['unit_price'])\n",
    ")                   \n",
    "df1_aux = (df1_aux[['invoice_no','gross_revenue']]\n",
    "            .groupby('invoice_no')\n",
    "            .sum()\n",
    "            .reset_index()\n",
    ")\n",
    "df_purchases = pd.merge(df_purchases,df1_aux, how='left', on='invoice_no')\n",
    "df1_1 = (df_purchases[['customer_id','gross_revenue']]\n",
    "        .groupby('customer_id')\n",
    "        .sum()\n",
    "        .reset_index()\n",
    ")"
   ]
  },
  {
   "cell_type": "markdown",
   "id": "0b87876a-d7e6-4be3-a32e-8674b4b931ff",
   "metadata": {},
   "source": [
    "###  Recency"
   ]
  },
  {
   "cell_type": "code",
   "execution_count": 44,
   "id": "f66fe354-922d-4fbb-a3df-15137b037f14",
   "metadata": {
    "ExecuteTime": {
     "end_time": "2023-05-10T08:39:52.203803Z",
     "start_time": "2023-05-10T08:39:52.186016Z"
    },
    "execution": {
     "iopub.execute_input": "2023-02-21T12:10:58.019609Z",
     "iopub.status.busy": "2023-02-21T12:10:58.019343Z",
     "iopub.status.idle": "2023-02-21T12:10:58.048633Z",
     "shell.execute_reply": "2023-02-21T12:10:58.047994Z",
     "shell.execute_reply.started": "2023-02-21T12:10:58.019590Z"
    },
    "tags": []
   },
   "outputs": [],
   "source": [
    "df1_aux = (df1[['customer_id', 'invoice_date']]\n",
    "           .groupby('customer_id')\n",
    "           .max()\n",
    "           .reset_index()\n",
    ")\n",
    "df1_aux['recency_days'] = (df1['invoice_date'].max()\n",
    "                                                - df1_aux['invoice_date']).dt.days \n",
    "\n",
    "df1_1 = pd.merge(\n",
    "    df1_1, df1_aux[['customer_id', 'recency_days']],\n",
    "    on='customer_id', how='left')"
   ]
  },
  {
   "cell_type": "markdown",
   "id": "6bccb5b6-50d3-4746-a4e1-90439ea3d231",
   "metadata": {},
   "source": [
    "### Quantity of purchases"
   ]
  },
  {
   "cell_type": "code",
   "execution_count": 45,
   "id": "969fb8f6-061c-4cd7-b288-f6ff42fff505",
   "metadata": {
    "ExecuteTime": {
     "end_time": "2023-05-10T08:39:53.252822Z",
     "start_time": "2023-05-10T08:39:53.192372Z"
    },
    "execution": {
     "iopub.execute_input": "2023-02-21T12:10:59.009677Z",
     "iopub.status.busy": "2023-02-21T12:10:59.009402Z",
     "iopub.status.idle": "2023-02-21T12:10:59.070548Z",
     "shell.execute_reply": "2023-02-21T12:10:59.070075Z",
     "shell.execute_reply.started": "2023-02-21T12:10:59.009655Z"
    },
    "tags": []
   },
   "outputs": [],
   "source": [
    "df1_aux = (df1[['customer_id','invoice_no']]\n",
    "            .groupby('customer_id')\n",
    "            .nunique()\n",
    "            .reset_index()\n",
    "            .rename(columns={'invoice_no': 'qtd_purchases'})\n",
    ")\n",
    "df1_1 = pd.merge(df1_1, df1_aux, on='customer_id', how='left')"
   ]
  },
  {
   "cell_type": "markdown",
   "id": "10e948bf",
   "metadata": {},
   "source": [
    "### Quantity of products"
   ]
  },
  {
   "cell_type": "code",
   "execution_count": 46,
   "id": "aeb26c70",
   "metadata": {
    "ExecuteTime": {
     "end_time": "2023-05-10T08:39:54.516687Z",
     "start_time": "2023-05-10T08:39:54.414165Z"
    }
   },
   "outputs": [],
   "source": [
    "df1_aux = (df1[['customer_id', 'stock_code']]\n",
    "            .groupby('customer_id')\n",
    "            .nunique()\n",
    "            .reset_index()\n",
    "            .rename(columns={'stock_code':'qtd_products'})\n",
    ")\n",
    "df1_1 = pd.merge(df1_1, df1_aux, on='customer_id', how='left')"
   ]
  },
  {
   "cell_type": "markdown",
   "id": "ae9dda71",
   "metadata": {},
   "source": [
    "# Data Preparation"
   ]
  },
  {
   "cell_type": "code",
   "execution_count": 47,
   "id": "96e44f5e",
   "metadata": {
    "ExecuteTime": {
     "end_time": "2023-05-10T08:39:55.646959Z",
     "start_time": "2023-05-10T08:39:55.643657Z"
    }
   },
   "outputs": [],
   "source": [
    "df2 = df1_1.copy()\n",
    "df2 = df2.drop(columns='customer_id')"
   ]
  },
  {
   "cell_type": "code",
   "execution_count": 48,
   "id": "7544e07d",
   "metadata": {
    "ExecuteTime": {
     "end_time": "2023-05-10T08:39:57.147678Z",
     "start_time": "2023-05-10T08:39:57.136329Z"
    }
   },
   "outputs": [],
   "source": [
    "rs = RobustScaler()\n",
    "df2['gross_revenue'] = rs.fit_transform(\n",
    "    df2[['gross_revenue']].values)\n",
    "df2['recency_days'] = rs.fit_transform(\n",
    "    df2[['recency_days']].values)\n",
    "df2['qtd_purchases'] = rs.fit_transform(\n",
    "    df2[['qtd_purchases']].values)\n",
    "df2['qtd_products'] = rs.fit_transform(\n",
    "    df2[['qtd_products']].values)"
   ]
  },
  {
   "cell_type": "markdown",
   "id": "38172393",
   "metadata": {
    "ExecuteTime": {
     "end_time": "2023-02-22T19:08:04.356969Z",
     "start_time": "2023-02-22T19:08:04.355186Z"
    }
   },
   "source": [
    "# Embedding space analysis"
   ]
  },
  {
   "cell_type": "code",
   "execution_count": 49,
   "id": "32889e89",
   "metadata": {
    "ExecuteTime": {
     "end_time": "2023-05-10T08:39:58.030880Z",
     "start_time": "2023-05-10T08:39:58.028093Z"
    }
   },
   "outputs": [],
   "source": [
    "df3 = df2.copy()"
   ]
  },
  {
   "cell_type": "markdown",
   "id": "32b1b37e",
   "metadata": {},
   "source": [
    "## UMAP"
   ]
  },
  {
   "cell_type": "code",
   "execution_count": 50,
   "id": "108f48d7",
   "metadata": {
    "ExecuteTime": {
     "end_time": "2023-05-10T08:40:04.827403Z",
     "start_time": "2023-05-10T08:39:59.511899Z"
    }
   },
   "outputs": [],
   "source": [
    "reducer = umap.UMAP(random_state=42)\n",
    "embedding_umap = reducer.fit_transform(df3)\n",
    "df_umap = pd.DataFrame()\n",
    "df_umap['embedding_x'] = embedding_umap[:, 0]\n",
    "df_umap['embedding_y'] = embedding_umap[:, 1]\n",
    "df3 = df_umap"
   ]
  },
  {
   "cell_type": "markdown",
   "id": "980aae4a",
   "metadata": {},
   "source": [
    "# Model Training"
   ]
  },
  {
   "cell_type": "markdown",
   "id": "e4c1c636",
   "metadata": {},
   "source": [
    "## Final model"
   ]
  },
  {
   "cell_type": "code",
   "execution_count": 51,
   "id": "a6c132fe",
   "metadata": {
    "ExecuteTime": {
     "end_time": "2023-05-10T08:40:04.878413Z",
     "start_time": "2023-05-10T08:40:04.876318Z"
    }
   },
   "outputs": [],
   "source": [
    "df4 = df_umap"
   ]
  },
  {
   "cell_type": "code",
   "execution_count": 52,
   "id": "59f54009",
   "metadata": {
    "ExecuteTime": {
     "end_time": "2023-05-10T08:40:06.032223Z",
     "start_time": "2023-05-10T08:40:05.508589Z"
    },
    "scrolled": true
   },
   "outputs": [],
   "source": [
    "hc_model = hierarchy.linkage(df4, 'ward')\n",
    "# Model predict\n",
    "labels = hierarchy.fcluster(hc_model, 6, criterion='maxclust')"
   ]
  },
  {
   "cell_type": "markdown",
   "id": "69400f1d",
   "metadata": {},
   "source": [
    "# Cluster analysis"
   ]
  },
  {
   "cell_type": "markdown",
   "id": "72c74e2c",
   "metadata": {},
   "source": [
    "## Cluster profile"
   ]
  },
  {
   "cell_type": "code",
   "execution_count": 53,
   "id": "64a39376",
   "metadata": {
    "ExecuteTime": {
     "end_time": "2023-05-10T08:40:07.305482Z",
     "start_time": "2023-05-10T08:40:07.301817Z"
    }
   },
   "outputs": [],
   "source": [
    "#removing fake customers\n",
    "df5 = df1_1.copy()\n",
    "df5['cluster'] = labels\n",
    "df5 = df5[df5['customer_id'] < 20000]"
   ]
  },
  {
   "cell_type": "code",
   "execution_count": 54,
   "id": "23df5712",
   "metadata": {
    "ExecuteTime": {
     "end_time": "2023-05-10T08:40:08.633659Z",
     "start_time": "2023-05-10T08:40:08.604493Z"
    }
   },
   "outputs": [
    {
     "data": {
      "text/html": [
       "<div>\n",
       "<style scoped>\n",
       "    .dataframe tbody tr th:only-of-type {\n",
       "        vertical-align: middle;\n",
       "    }\n",
       "\n",
       "    .dataframe tbody tr th {\n",
       "        vertical-align: top;\n",
       "    }\n",
       "\n",
       "    .dataframe thead th {\n",
       "        text-align: right;\n",
       "    }\n",
       "</style>\n",
       "<table border=\"1\" class=\"dataframe\">\n",
       "  <thead>\n",
       "    <tr style=\"text-align: right;\">\n",
       "      <th></th>\n",
       "      <th>cluster</th>\n",
       "      <th>customer_id</th>\n",
       "      <th>perc_customer</th>\n",
       "      <th>gross_revenue</th>\n",
       "      <th>recency_days</th>\n",
       "      <th>qtd_purchases</th>\n",
       "      <th>qtd_products</th>\n",
       "    </tr>\n",
       "  </thead>\n",
       "  <tbody>\n",
       "    <tr>\n",
       "      <th>3</th>\n",
       "      <td>4</td>\n",
       "      <td>1007</td>\n",
       "      <td>23.23</td>\n",
       "      <td>3122.04</td>\n",
       "      <td>15.00</td>\n",
       "      <td>8.00</td>\n",
       "      <td>117.00</td>\n",
       "    </tr>\n",
       "    <tr>\n",
       "      <th>5</th>\n",
       "      <td>6</td>\n",
       "      <td>1036</td>\n",
       "      <td>23.90</td>\n",
       "      <td>1001.66</td>\n",
       "      <td>36.00</td>\n",
       "      <td>4.00</td>\n",
       "      <td>50.00</td>\n",
       "    </tr>\n",
       "    <tr>\n",
       "      <th>4</th>\n",
       "      <td>5</td>\n",
       "      <td>826</td>\n",
       "      <td>19.06</td>\n",
       "      <td>538.01</td>\n",
       "      <td>63.00</td>\n",
       "      <td>2.00</td>\n",
       "      <td>29.00</td>\n",
       "    </tr>\n",
       "    <tr>\n",
       "      <th>0</th>\n",
       "      <td>1</td>\n",
       "      <td>657</td>\n",
       "      <td>15.16</td>\n",
       "      <td>290.66</td>\n",
       "      <td>46.00</td>\n",
       "      <td>1.00</td>\n",
       "      <td>19.00</td>\n",
       "    </tr>\n",
       "    <tr>\n",
       "      <th>2</th>\n",
       "      <td>3</td>\n",
       "      <td>700</td>\n",
       "      <td>16.15</td>\n",
       "      <td>229.09</td>\n",
       "      <td>239.00</td>\n",
       "      <td>1.00</td>\n",
       "      <td>14.00</td>\n",
       "    </tr>\n",
       "    <tr>\n",
       "      <th>1</th>\n",
       "      <td>2</td>\n",
       "      <td>108</td>\n",
       "      <td>2.49</td>\n",
       "      <td>212.87</td>\n",
       "      <td>366.00</td>\n",
       "      <td>1.00</td>\n",
       "      <td>12.50</td>\n",
       "    </tr>\n",
       "  </tbody>\n",
       "</table>\n",
       "</div>"
      ],
      "text/plain": [
       "   cluster  customer_id  perc_customer  gross_revenue  recency_days  \\\n",
       "3        4         1007          23.23        3122.04         15.00   \n",
       "5        6         1036          23.90        1001.66         36.00   \n",
       "4        5          826          19.06         538.01         63.00   \n",
       "0        1          657          15.16         290.66         46.00   \n",
       "2        3          700          16.15         229.09        239.00   \n",
       "1        2          108           2.49         212.87        366.00   \n",
       "\n",
       "   qtd_purchases  qtd_products  \n",
       "3           8.00        117.00  \n",
       "5           4.00         50.00  \n",
       "4           2.00         29.00  \n",
       "0           1.00         19.00  \n",
       "2           1.00         14.00  \n",
       "1           1.00         12.50  "
      ]
     },
     "metadata": {},
     "output_type": "display_data"
    }
   ],
   "source": [
    "df_cluster = (df5[['customer_id', 'cluster']]\n",
    "                .groupby('cluster')\n",
    "                .count()\n",
    "                .reset_index()\n",
    ")\n",
    "df_cluster = df_cluster.assign(\n",
    "    perc_customer=100*(df_cluster['customer_id'] / \n",
    "                                            df_cluster['customer_id'].sum())\n",
    ")\n",
    "df_avg_gross_revenue = (df5[['cluster', 'gross_revenue']]\n",
    "                                    .groupby('cluster')\n",
    "                                    .median()\n",
    "                                    .reset_index()\n",
    ")\n",
    "df_cluster = pd.merge(\n",
    "    df_cluster, df_avg_gross_revenue, how='inner', on='cluster')\n",
    "\n",
    "# Avg recency\n",
    "df_recency = df5[['cluster', 'recency_days']].groupby(\n",
    "    'cluster').median().reset_index()\n",
    "df_cluster = pd.merge(\n",
    "    df_cluster, df_recency, how='inner', on='cluster')\n",
    "\n",
    "# Avg quantity of purchases\n",
    "df_recency = (df5[['cluster', 'qtd_purchases']]\n",
    "                .groupby('cluster')\n",
    "                .median()\n",
    "                .reset_index()\n",
    ")\n",
    "df_cluster = pd.merge(\n",
    "    df_cluster, df_recency, how='inner', on='cluster')\n",
    "\n",
    "# Avg quantity of products\n",
    "df_qtd_products = (df5[['cluster', 'qtd_products']]\n",
    "                            .groupby('cluster')\n",
    "                            .median()\n",
    "                            .reset_index()\n",
    ")\n",
    "df_cluster = pd.merge(\n",
    "    df_cluster, df_qtd_products, how='inner', on='cluster')\n",
    "\n",
    "df_cluster_result = df_cluster.sort_values(\n",
    "    by='gross_revenue', ascending=False)\n",
    "display(df_cluster_result)"
   ]
  },
  {
   "cell_type": "markdown",
   "id": "13ff2dd2",
   "metadata": {
    "ExecuteTime": {
     "end_time": "2023-02-27T15:24:16.717945Z",
     "start_time": "2023-02-27T15:24:16.714596Z"
    }
   },
   "source": [
    "Cluster 4 (Candidate of insiders)\n",
    "\n",
    "- Number of customers: 1007 (23.23%)\n",
    "- median of gross_revenue: £2671.46\n",
    "- median of Recency: 24 days\n",
    "- median of quantity of purchases in one year: 6 purchases\n",
    "- median of quantity of distinct products bought: 150 products\n",
    "\n",
    "Cluster 6 (Cluster more products)\n",
    "\n",
    "- Number of customers: 1036 (23.90%)\n",
    "- median of gross_revenue: £547.06\n",
    "- median of Recency: 40 days\n",
    "- median of quantity of purchases in one year: 3 purchases\n",
    "- median of quantity of distinct products bought: 53 products\n",
    "\n",
    "\n",
    "Cluster 5 (Cluster even more products)\n",
    "\n",
    "- Number of customers: 826 (19.06%)\n",
    "- median of gross_revenue: £1059.97\n",
    "- median of Recency: 64 days\n",
    "- median of quantity of purchases in one year: 2 purchases\n",
    "- median of quantity of distinct products bought: 29 products\n",
    "\n",
    "\n",
    "Cluster 1 (Cluster more purchases )\n",
    "\n",
    "- Number of customers: 657 (15.16%)\n",
    "- Average gross_revenue: £232.14\n",
    "- Average Recency: 45 days\n",
    "- Average of quantity of purchases in one year: 1 purchase\n",
    "- Average of quantity of distinct products bought: 15 products\n",
    "\n",
    "\n",
    "Cluster 3 (Cluster decrease recency days)\n",
    "- Number of customers: 700 (2.49%)\n",
    "- median of gross_revenue: £196.43\n",
    "- median of Recency: 232 days\n",
    "- median of quantity of purchases in one year: 1 purchase\n",
    "- median of quantity of distinct products bought: 14 products\n",
    "\n",
    "\n",
    "Cluster 2 (Cluster decrease even more recency days)\n",
    "\n",
    "- Number of customers: 108 (22.%)\n",
    "- median gross_revenue: £105.72\n",
    "- median Recency: 364 days\n",
    "- median of quantity of purchases in one year: 1 purchase\n",
    "- median of quantity of distinct products bought: 9 products"
   ]
  },
  {
   "cell_type": "markdown",
   "id": "ae29b866",
   "metadata": {},
   "source": [
    "# Deploy to production"
   ]
  },
  {
   "cell_type": "markdown",
   "id": "3a698c7f",
   "metadata": {},
   "source": [
    "## Insert into SQLITE"
   ]
  },
  {
   "cell_type": "code",
   "execution_count": 64,
   "id": "2a7f61b5",
   "metadata": {
    "ExecuteTime": {
     "end_time": "2023-05-10T08:58:09.776995Z",
     "start_time": "2023-05-10T08:58:09.699494Z"
    }
   },
   "outputs": [
    {
     "data": {
      "text/plain": [
       "4334"
      ]
     },
     "execution_count": 64,
     "metadata": {},
     "output_type": "execute_result"
    }
   ],
   "source": [
    "query_create_table = \"\"\"\n",
    "    CREATE TABLE insiders (\n",
    "    customer_id INTEGER,\n",
    "    gross_revenue REAL,\n",
    "    recency_days INTEGER,\n",
    "    qtd_purchases INTEGER,\n",
    "    qtd_products INTEGER,\n",
    "    cluster INTEGER\n",
    "    )\n",
    "\"\"\"\n",
    "\n",
    "conn = sqlite3.connect('insiders_db.sqlite')\n",
    "conn.execute(query_create_table)\n",
    "conn.commit()\n",
    "conn.close()\n",
    "\n",
    "conn = sqlalchemy.create_engine(\n",
    "    'sqlite:///insiders_db.sqlite')\n",
    "df5.to_sql(\n",
    "    'insiders', con=conn, if_exists='append', index=False)"
   ]
  }
 ],
 "metadata": {
  "hide_input": false,
  "kernelspec": {
   "display_name": "Python 3 (ipykernel)",
   "language": "python",
   "name": "python3"
  },
  "language_info": {
   "codemirror_mode": {
    "name": "ipython",
    "version": 3
   },
   "file_extension": ".py",
   "mimetype": "text/x-python",
   "name": "python",
   "nbconvert_exporter": "python",
   "pygments_lexer": "ipython3",
   "version": "3.10.9"
  },
  "toc": {
   "base_numbering": 1,
   "nav_menu": {},
   "number_sections": true,
   "sideBar": true,
   "skip_h1_title": false,
   "title_cell": "Table of Contents",
   "title_sidebar": "Contents",
   "toc_cell": false,
   "toc_position": {},
   "toc_section_display": true,
   "toc_window_display": false
  },
  "varInspector": {
   "cols": {
    "lenName": 16,
    "lenType": 16,
    "lenVar": 40
   },
   "kernels_config": {
    "python": {
     "delete_cmd_postfix": "",
     "delete_cmd_prefix": "del ",
     "library": "var_list.py",
     "varRefreshCmd": "print(var_dic_list())"
    },
    "r": {
     "delete_cmd_postfix": ") ",
     "delete_cmd_prefix": "rm(",
     "library": "var_list.r",
     "varRefreshCmd": "cat(var_dic_list()) "
    }
   },
   "types_to_exclude": [
    "module",
    "function",
    "builtin_function_or_method",
    "instance",
    "_Feature"
   ],
   "window_display": false
  }
 },
 "nbformat": 4,
 "nbformat_minor": 5
}
