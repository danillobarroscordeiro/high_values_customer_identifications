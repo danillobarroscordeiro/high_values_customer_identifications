{
 "cells": [
  {
   "cell_type": "markdown",
   "id": "b7138727-dfc0-4901-ad63-644cb660ddf9",
   "metadata": {},
   "source": [
    "# Solution Planning\n",
    "\n",
    "## Input\n",
    "\n",
    "    Business Problem\n",
    "        Select most valuable customers to create a loyalty program called Insiders\n",
    "\n",
    "    Data\n",
    "        One year of e-commerce sales\n",
    "\n",
    "## Output\n",
    "\n",
    "    A list of customers that will be part of Insiders\n",
    "    A report answering business questions\n",
    "        Who are the eligible customers to participate in the Insiders program?\n",
    "        How many customers will be part of the program?\n",
    "        What are the main characteristics of these customers?\n",
    "        What revenue percentage comes from Insiders?\n",
    "        What are the conditions for a customer to be eligible for the Insiders program?\n",
    "        What are the conditions for a customer to be removed from the Insiders program?\n",
    "        What is the guarantee that the Insiders program is better than the regular customer database?\n",
    "        What actions can the marketing team make to increase the revenue?\n",
    "\n",
    "## Tasks\n",
    "\n",
    "    A report answering business questions:\n",
    "\n",
    "        Who are the eligible customers to participate in the Insiders program?\n",
    "            Understand the criteria to a eligible customer.\n",
    "            Criteria examples:\n",
    "                Revenue\n",
    "                    High average ticket\n",
    "                    High LTV (lifetime value)\n",
    "                    Low recency\n",
    "                    High basket size\n",
    "                    Low churn probability\n",
    "                Expenses\n",
    "                    Return rate\n",
    "                Buying Experience\n",
    "                    High average notes on reviews\n",
    "\n",
    "        How many customers will be part of the program?\n",
    "            Calculate the percentage of customers that belong to Insiders program over the total number of customers.\n",
    "\n",
    "        What are the main characteristics of these customers?\n",
    "            Indicate customer characteristics:\n",
    "                Age\n",
    "                City\n",
    "                Education level\n",
    "                Localization, etc.\n",
    "            Indicate consumption characteristics:\n",
    "                Clusters attributes\n",
    "\n",
    "        What revenue percentage comes from Insiders?\n",
    "            Calculate the percentage of Insiders revenue over the total revenue.\n",
    "\n",
    "        What is the Insiders' expected revenue for the coming months?\n",
    "            Calculate Insiders' LTV\n",
    "            Calculate Cohort Analysis.\n",
    "\n",
    "        What are the conditions for a customer to be eligible for the Insiders program?\n",
    "            Define verification periodicity (monthly, quarterly, etc.)\n",
    "            The customer must be similar to a customer on Insiders.\n",
    "\n",
    "        What are the conditions for a customer to be removed from the Insiders program?\n",
    "            Define verification periodicity (monthly, quarterly, etc.)\n",
    "            The customer must be dissimilar to a customer on Insiders.\n",
    "\n",
    "        What is the guarantee that the Insiders program is better than the regular customer database?\n",
    "            Perform A/B Test\n",
    "            Perform A/B Bayesian Test\n",
    "            Perform Hypothesis Test\n",
    "\n",
    "        What actions can the marketing team make to increase the revenue?\n",
    "            Discount\n",
    "            Buying preferences\n",
    "            Shipping options\n",
    "            Promote a visit to the company, etc.\n",
    "\n"
   ]
  },
  {
   "cell_type": "markdown",
   "id": "ee3e48cb-bcf7-427b-bf52-bcba8dde7520",
   "metadata": {
    "execution": {
     "iopub.execute_input": "2023-02-15T12:02:37.011271Z",
     "iopub.status.busy": "2023-02-15T12:02:37.010987Z",
     "iopub.status.idle": "2023-02-15T12:02:41.293084Z",
     "shell.execute_reply": "2023-02-15T12:02:41.292242Z",
     "shell.execute_reply.started": "2023-02-15T12:02:37.011250Z"
    },
    "tags": []
   },
   "source": [
    "# Imports and helper functions"
   ]
  },
  {
   "cell_type": "code",
   "execution_count": 1,
   "id": "4042e3dd-e48c-4e1b-9f54-d3946065955c",
   "metadata": {
    "ExecuteTime": {
     "end_time": "2023-05-23T12:16:32.584679Z",
     "start_time": "2023-05-23T12:16:28.501361Z"
    },
    "execution": {
     "iopub.execute_input": "2023-02-21T12:35:53.289237Z",
     "iopub.status.busy": "2023-02-21T12:35:53.288998Z",
     "iopub.status.idle": "2023-02-21T12:35:53.293603Z",
     "shell.execute_reply": "2023-02-21T12:35:53.293132Z",
     "shell.execute_reply.started": "2023-02-21T12:35:53.289225Z"
    },
    "tags": []
   },
   "outputs": [],
   "source": [
    "from sklearn.compose import ColumnTransformer, make_column_transformer\n",
    "import sqlalchemy\n",
    "import s3fs\n",
    "import os\n",
    "from dotenv import dotenv_values,load_dotenv\n",
    "from scipy.stats import ttest_ind as ttest\n",
    "from scipy.stats import bootstrap\n",
    "from yellowbrick.cluster import SilhouetteVisualizer, silhouette_visualizer\n",
    "from sklearn.neighbors import NearestNeighbors\n",
    "from scipy.cluster import hierarchy\n",
    "from sklearn.mixture import GaussianMixture\n",
    "from sklearn import metrics\n",
    "from sklearn.cluster import KMeans, DBSCAN\n",
    "from sklearn.manifold import TSNE\n",
    "import umap\n",
    "from sklearn.decomposition import PCA\n",
    "from sklearn.ensemble import RandomForestRegressor\n",
    "from sklearn.preprocessing import RobustScaler\n",
    "from sklearn.pipeline import Pipeline\n",
    "from datetime import datetime as dt\n",
    "from ydata_profiling import ProfileReport\n",
    "import re\n",
    "import dataframe_image as dfi\n",
    "from scipy.stats import chi2_contingency\n",
    "import seaborn as sns\n",
    "from IPython.display import Image\n",
    "from IPython.display import display, HTML\n",
    "from matplotlib import pyplot as plt\n",
    "import numpy as np\n",
    "import pandas as pd\n",
    "pd.set_option('display.float_format', lambda x: '%.2f' % x)\n",
    "%matplotlib inline\n",
    "\n",
    "\n",
    "def data_description(df):\n",
    "    print('Variables:\\n\\n{}'.format(df.dtypes), end='\\n\\n')\n",
    "    print('Number of rows {}'.format(df.shape[0]), end='\\n\\n')\n",
    "    print('Number of columns {}'.format(df.shape[1]), end='\\n\\n')\n",
    "    print('NA analysis'.format(end='\\n'))\n",
    "    for i in df.columns:\n",
    "        print('column {}: {} {}'.format(\n",
    "            i, df[i].isna().any(), df[i].isna().sum()))"
   ]
  },
  {
   "cell_type": "markdown",
   "id": "bf328ef0-4e28-4af1-bd1f-fc0ada49809a",
   "metadata": {
    "tags": []
   },
   "source": [
    "# Loading data"
   ]
  },
  {
   "cell_type": "code",
   "execution_count": 2,
   "id": "1fe3ca1f",
   "metadata": {
    "ExecuteTime": {
     "end_time": "2023-05-23T12:22:51.046825Z",
     "start_time": "2023-05-23T12:22:51.041995Z"
    }
   },
   "outputs": [],
   "source": [
    "AWS_ACCESS_KEY_ID = os.getenv('AWS_ACCESS_KEY_ID')\n",
    "AWS_SECRET_ACCESS_KEY = os.getenv('AWS_SECRET_ACCESS_KEY')\n",
    "s3 = s3fs.S3FileSystem(\n",
    "    anon=False, key=AWS_ACCESS_KEY_ID, secret=AWS_SECRET_ACCESS_KEY)"
   ]
  },
  {
   "cell_type": "code",
   "execution_count": 5,
   "id": "0db03fef",
   "metadata": {},
   "outputs": [
    {
     "data": {
      "text/plain": [
       "'rotuER'"
      ]
     },
     "execution_count": 5,
     "metadata": {},
     "output_type": "execute_result"
    }
   ],
   "source": [
    "os.environ.pop('HOST', None)\n",
    "os.environ.pop('USER', None)\n",
    "os.environ.pop('PASSWORD', None)"
   ]
  },
  {
   "cell_type": "code",
   "execution_count": 6,
   "id": "9df7cb70",
   "metadata": {
    "ExecuteTime": {
     "end_time": "2023-05-23T13:02:12.963559Z",
     "start_time": "2023-05-23T13:02:04.041957Z"
    }
   },
   "outputs": [],
   "source": [
    "load_dotenv()\n",
    "\n",
    "HOST = os.getenv('HOST')\n",
    "USER = os.getenv('USER')\n",
    "PASSWORD = os.getenv('PASSWORD')\n",
    "\n",
    "endpoint = 'postgresql://{}:{}@{}:5432/postgres'.format(USER, PASSWORD, HOST)\n",
    "\n",
    "conn = sqlalchemy.create_engine(endpoint).connect()\n",
    "\n",
    "query = \"\"\"\n",
    "SELECT * from customers\n",
    "\"\"\"\n",
    "\n",
    "df = pd.read_sql_query(sqlalchemy.text(query), con=conn)"
   ]
  },
  {
   "cell_type": "code",
   "execution_count": null,
   "id": "accda11b",
   "metadata": {
    "ExecuteTime": {
     "end_time": "2023-05-23T13:02:24.391333Z",
     "start_time": "2023-05-23T13:02:24.383425Z"
    }
   },
   "outputs": [],
   "source": [
    "df.head()"
   ]
  },
  {
   "cell_type": "markdown",
   "id": "d407a342-0aa5-43f1-a978-637f2b3dd649",
   "metadata": {},
   "source": [
    "# Data Description"
   ]
  },
  {
   "cell_type": "code",
   "execution_count": null,
   "id": "c9a38c70-b559-4f19-b0db-92cdd11bc614",
   "metadata": {
    "ExecuteTime": {
     "end_time": "2023-05-23T12:24:23.521373Z",
     "start_time": "2023-05-23T12:24:23.317934Z"
    },
    "execution": {
     "iopub.execute_input": "2023-02-17T12:21:50.816172Z",
     "iopub.status.busy": "2023-02-17T12:21:50.815743Z",
     "iopub.status.idle": "2023-02-17T12:21:50.990446Z",
     "shell.execute_reply": "2023-02-17T12:21:50.989911Z",
     "shell.execute_reply.started": "2023-02-17T12:21:50.816137Z"
    },
    "tags": []
   },
   "outputs": [],
   "source": [
    "data_description(df)"
   ]
  },
  {
   "cell_type": "markdown",
   "id": "1d8555c3-f86c-4145-9f40-35031466b785",
   "metadata": {},
   "source": [
    "# Data Wrangling"
   ]
  },
  {
   "cell_type": "markdown",
   "id": "84672c96-b063-4ee9-a216-94f382a520a8",
   "metadata": {},
   "source": [
    "## Categorical attributes analysis"
   ]
  },
  {
   "cell_type": "markdown",
   "id": "2ac61536-2807-4677-a37c-2a7af70f3add",
   "metadata": {},
   "source": [
    "### invoice_no"
   ]
  },
  {
   "cell_type": "code",
   "execution_count": 7,
   "id": "42a75d63-06e4-4969-b0bd-97090e2d54c1",
   "metadata": {
    "ExecuteTime": {
     "end_time": "2023-05-23T13:02:28.195457Z",
     "start_time": "2023-05-23T13:02:27.746653Z"
    },
    "execution": {
     "iopub.execute_input": "2023-02-21T12:10:36.008333Z",
     "iopub.status.busy": "2023-02-21T12:10:36.007739Z",
     "iopub.status.idle": "2023-02-21T12:10:36.400787Z",
     "shell.execute_reply": "2023-02-21T12:10:36.400307Z",
     "shell.execute_reply.started": "2023-02-21T12:10:36.008318Z"
    },
    "tags": []
   },
   "outputs": [],
   "source": [
    "# There is some invoices with a letter C, probably is return invoices. \n",
    "# They will be removed to just focus on buying invoices for the moment.\n",
    "df['invoice_no'].unique()\n",
    "\n",
    "\n",
    "df = df[~df['invoice_no']\n",
    "    .astype(str)\n",
    "    .apply(lambda x: bool(re.search('[^0-9]+', x)))\n",
    "]"
   ]
  },
  {
   "cell_type": "markdown",
   "id": "2d3c6847-1b00-4b44-a4a2-6af295806d56",
   "metadata": {
    "execution": {
     "iopub.execute_input": "2023-02-15T15:27:05.546068Z",
     "iopub.status.busy": "2023-02-15T15:27:05.545756Z",
     "iopub.status.idle": "2023-02-15T15:27:05.951918Z",
     "shell.execute_reply": "2023-02-15T15:27:05.951001Z",
     "shell.execute_reply.started": "2023-02-15T15:27:05.546047Z"
    },
    "tags": []
   },
   "source": [
    "### stock_code"
   ]
  },
  {
   "cell_type": "code",
   "execution_count": 8,
   "id": "a367bcd4-6af9-4604-b7af-ebcccb7a841f",
   "metadata": {
    "ExecuteTime": {
     "end_time": "2023-05-23T13:02:29.138253Z",
     "start_time": "2023-05-23T13:02:28.707632Z"
    },
    "execution": {
     "iopub.execute_input": "2023-02-21T12:10:37.295300Z",
     "iopub.status.busy": "2023-02-21T12:10:37.295000Z",
     "iopub.status.idle": "2023-02-21T12:10:37.656408Z",
     "shell.execute_reply": "2023-02-21T12:10:37.655903Z",
     "shell.execute_reply.started": "2023-02-21T12:10:37.295277Z"
    },
    "tags": []
   },
   "outputs": [],
   "source": [
    "# There is some stockCode with just a letter (D, M,m), some with letter and\n",
    "# number and others with numbers. Also, there is some stockcode with just\n",
    "# letters (POST,DOT...). POST,DOT,BANK CHARGES, PADS and AMAZONFEE will\n",
    "# be removed as they do not represents products but other operations.\n",
    "\n",
    "np.array(df[df['stock_code'].astype(str).apply(\n",
    "    lambda x: bool(re.search('[A-Z]{3,}', x)))]['stock_code'].unique())\n",
    "\n",
    "df = df[~df['stock_code'].isin(\n",
    "    ['DOT', 'BANK CHARGES', 'AMAZONFEE', 'PADS', 'POST', 'M', 'D', 'm']\n",
    "    )\n",
    "]"
   ]
  },
  {
   "cell_type": "markdown",
   "id": "bce1d948-dfa1-4b16-b7b9-4bdd07fe1f32",
   "metadata": {
    "execution": {
     "iopub.execute_input": "2023-02-16T11:04:25.654902Z",
     "iopub.status.busy": "2023-02-16T11:04:25.654618Z",
     "iopub.status.idle": "2023-02-16T11:04:25.657546Z",
     "shell.execute_reply": "2023-02-16T11:04:25.656988Z",
     "shell.execute_reply.started": "2023-02-16T11:04:25.654888Z"
    },
    "tags": []
   },
   "source": [
    "## country"
   ]
  },
  {
   "cell_type": "code",
   "execution_count": 9,
   "id": "866b578c-c00e-4080-95f1-b550c7acfaf1",
   "metadata": {
    "ExecuteTime": {
     "end_time": "2023-05-23T13:02:29.585471Z",
     "start_time": "2023-05-23T13:02:29.544452Z"
    },
    "execution": {
     "iopub.execute_input": "2023-02-17T12:22:11.100543Z",
     "iopub.status.busy": "2023-02-17T12:22:11.100280Z",
     "iopub.status.idle": "2023-02-17T12:22:11.124421Z",
     "shell.execute_reply": "2023-02-17T12:22:11.123975Z",
     "shell.execute_reply.started": "2023-02-17T12:22:11.100531Z"
    },
    "tags": []
   },
   "outputs": [
    {
     "data": {
      "text/plain": [
       "United Kingdom         0.92\n",
       "Germany                0.02\n",
       "France                 0.02\n",
       "EIRE                   0.01\n",
       "Spain                  0.00\n",
       "Netherlands            0.00\n",
       "Switzerland            0.00\n",
       "Belgium                0.00\n",
       "Portugal               0.00\n",
       "Australia              0.00\n",
       "Norway                 0.00\n",
       "Channel Islands        0.00\n",
       "Italy                  0.00\n",
       "Finland                0.00\n",
       "Cyprus                 0.00\n",
       "Unspecified            0.00\n",
       "Sweden                 0.00\n",
       "Austria                0.00\n",
       "Denmark                0.00\n",
       "Poland                 0.00\n",
       "Japan                  0.00\n",
       "Israel                 0.00\n",
       "Hong Kong              0.00\n",
       "Singapore              0.00\n",
       "Iceland                0.00\n",
       "USA                    0.00\n",
       "Canada                 0.00\n",
       "Greece                 0.00\n",
       "Malta                  0.00\n",
       "United Arab Emirates   0.00\n",
       "European Community     0.00\n",
       "RSA                    0.00\n",
       "Lebanon                0.00\n",
       "Lithuania              0.00\n",
       "Brazil                 0.00\n",
       "Czech Republic         0.00\n",
       "Bahrain                0.00\n",
       "Saudi Arabia           0.00\n",
       "Name: country, dtype: float64"
      ]
     },
     "execution_count": 9,
     "metadata": {},
     "output_type": "execute_result"
    }
   ],
   "source": [
    "# 92% of customers is from UK and since data is very unbalanced this \n",
    "# columns would not be used for now   \n",
    "df['country'].value_counts(normalize=True)"
   ]
  },
  {
   "cell_type": "markdown",
   "id": "a073edbe-157a-4f20-b0db-48875bd26e91",
   "metadata": {},
   "source": [
    "### invoice_date"
   ]
  },
  {
   "cell_type": "code",
   "execution_count": 10,
   "id": "980f60fb-138d-4c8b-a3d4-805b1337bc36",
   "metadata": {
    "ExecuteTime": {
     "end_time": "2023-05-23T13:02:32.879842Z",
     "start_time": "2023-05-23T13:02:30.537592Z"
    },
    "execution": {
     "iopub.execute_input": "2023-02-21T12:10:40.084131Z",
     "iopub.status.busy": "2023-02-21T12:10:40.083770Z",
     "iopub.status.idle": "2023-02-21T12:10:42.485181Z",
     "shell.execute_reply": "2023-02-21T12:10:42.484752Z",
     "shell.execute_reply.started": "2023-02-21T12:10:40.084118Z"
    },
    "tags": []
   },
   "outputs": [],
   "source": [
    "df['invoice_date'] = df['invoice_date'].apply(\n",
    "    lambda x: dt.strptime(x, '%d-%b-%y')\n",
    ")"
   ]
  },
  {
   "cell_type": "markdown",
   "id": "1119e05c-47cb-4ccc-bb9e-ba0b2140c035",
   "metadata": {},
   "source": [
    "## Quantitative analysis"
   ]
  },
  {
   "cell_type": "markdown",
   "id": "37cd7bb8-65e9-4abe-aad1-b1e254e42481",
   "metadata": {},
   "source": [
    "### Descriptive statistics"
   ]
  },
  {
   "cell_type": "code",
   "execution_count": null,
   "id": "4f537c94-92b3-4d40-9554-c7a8b643bf6f",
   "metadata": {
    "ExecuteTime": {
     "end_time": "2023-05-23T13:02:32.943315Z",
     "start_time": "2023-05-23T13:02:32.912001Z"
    },
    "execution": {
     "iopub.execute_input": "2023-02-21T12:10:42.635496Z",
     "iopub.status.busy": "2023-02-21T12:10:42.635377Z",
     "iopub.status.idle": "2023-02-21T12:10:42.811177Z",
     "shell.execute_reply": "2023-02-21T12:10:42.810753Z",
     "shell.execute_reply.started": "2023-02-21T12:10:42.635485Z"
    },
    "scrolled": true,
    "tags": []
   },
   "outputs": [],
   "source": [
    "df[['quantity','unit_price']].describe()"
   ]
  },
  {
   "cell_type": "code",
   "execution_count": 11,
   "id": "1195eea9-38fc-40fc-a00d-a58ef49c7130",
   "metadata": {
    "ExecuteTime": {
     "end_time": "2023-05-23T13:02:33.220292Z",
     "start_time": "2023-05-23T13:02:33.146716Z"
    },
    "execution": {
     "iopub.execute_input": "2023-02-21T12:10:46.628125Z",
     "iopub.status.busy": "2023-02-21T12:10:46.627940Z",
     "iopub.status.idle": "2023-02-21T12:10:46.659902Z",
     "shell.execute_reply": "2023-02-21T12:10:46.659381Z",
     "shell.execute_reply.started": "2023-02-21T12:10:46.628112Z"
    },
    "tags": []
   },
   "outputs": [],
   "source": [
    "# There is some itens with negative quantities and unit_price equals to zero. \n",
    "# Looking at description could be products that were in stock but something \n",
    "# happened such as they were lost, damaged or other situations.  \n",
    "# These situations does not represents customer purchases. They would be removed.\n",
    "# There are purchases with high quantities per item but it appears to be\n",
    "# normal purchases so they would be kept in data. \n",
    "\n",
    "df = df[df['quantity'] > 0]"
   ]
  },
  {
   "cell_type": "code",
   "execution_count": 12,
   "id": "a567ed77-1a1e-468a-8737-2c764af6d658",
   "metadata": {
    "ExecuteTime": {
     "end_time": "2023-05-23T13:02:34.724874Z",
     "start_time": "2023-05-23T13:02:34.646665Z"
    },
    "execution": {
     "iopub.execute_input": "2023-02-21T12:10:47.474638Z",
     "iopub.status.busy": "2023-02-21T12:10:47.474018Z",
     "iopub.status.idle": "2023-02-21T12:10:47.502595Z",
     "shell.execute_reply": "2023-02-21T12:10:47.501846Z",
     "shell.execute_reply.started": "2023-02-21T12:10:47.474613Z"
    },
    "tags": []
   },
   "outputs": [],
   "source": [
    "# There are products with unit_price equals to zero and most of these lines \n",
    "# do not have neither product descriptions nor customer id. These do not \n",
    "# seems to be normal purchases and since this situations represents less\n",
    "# than 1% of the total data they will be removed.\n",
    "\n",
    "df = df[df['unit_price'] != 0]"
   ]
  },
  {
   "cell_type": "markdown",
   "id": "95086831-069b-4615-aa95-9181f27f33dc",
   "metadata": {
    "tags": []
   },
   "source": [
    "## Checking/Replace NAs"
   ]
  },
  {
   "cell_type": "code",
   "execution_count": 13,
   "id": "1fa8daa3-64cd-46ae-9432-093ab5ffe80a",
   "metadata": {
    "ExecuteTime": {
     "end_time": "2023-05-23T13:02:36.930333Z",
     "start_time": "2023-05-23T13:02:36.656133Z"
    },
    "execution": {
     "iopub.execute_input": "2023-02-21T12:10:48.477534Z",
     "iopub.status.busy": "2023-02-21T12:10:48.477016Z",
     "iopub.status.idle": "2023-02-21T12:10:48.623589Z",
     "shell.execute_reply": "2023-02-21T12:10:48.623025Z",
     "shell.execute_reply.started": "2023-02-21T12:10:48.477508Z"
    },
    "tags": []
   },
   "outputs": [],
   "source": [
    "# In order to not loosing more than 20% of whole data because some\n",
    "# customers do not have ID, we will create artifical IDs starting with 20000.\n",
    "df_aux = pd.DataFrame(\n",
    "    df[df['customer_id'].isna()]['invoice_no']\n",
    "    .drop_duplicates()\n",
    "    )\n",
    "df_aux = df_aux.assign(customer_id=np.arange(20000, 20000 + len(df_aux), 1))   \n",
    "\n",
    "\n",
    "df = pd.merge(df,df_aux, how='left', on='invoice_no')\n",
    "df['customer_id'] = (df['customer_id_x']\n",
    "                            .combine_first(df['customer_id_y'])\n",
    "                            .astype(int)\n",
    ")\n",
    "df = df.drop(columns=['customer_id_x', 'customer_id_y'], axis=1)"
   ]
  },
  {
   "cell_type": "markdown",
   "id": "385f3b75-a174-4c78-9a20-40c793142fb9",
   "metadata": {},
   "source": [
    "# Feature Engineering"
   ]
  },
  {
   "cell_type": "code",
   "execution_count": 14,
   "id": "2e690586-6dd0-479d-bcf9-d4f15a57a8ea",
   "metadata": {
    "ExecuteTime": {
     "end_time": "2023-05-23T13:14:13.527353Z",
     "start_time": "2023-05-23T13:14:13.493662Z"
    },
    "execution": {
     "iopub.execute_input": "2023-02-21T12:10:51.367827Z",
     "iopub.status.busy": "2023-02-21T12:10:51.367543Z",
     "iopub.status.idle": "2023-02-21T12:10:51.611815Z",
     "shell.execute_reply": "2023-02-21T12:10:51.611076Z",
     "shell.execute_reply.started": "2023-02-21T12:10:51.367805Z"
    },
    "tags": []
   },
   "outputs": [],
   "source": [
    "df1 = df.drop(columns=['description', 'country'])\n",
    "\n",
    "# Features\n",
    "# ticket_size - quantity x unit_price average per purchase\n",
    "# basket_size - sum of all quantities per purchase\n",
    "# unique_basket_size - quantity of distinct products per purchase\n",
    "# gross_revenue (monetary) - quantity x unit_price\n",
    "# recency - time in days since last purchase\n",
    "# qtd_purchases - How many purchases a customer did\n",
    "# total_products - How many distinct products a customer bought\n",
    "# frequency - How many purchases a customer did in a period of time"
   ]
  },
  {
   "cell_type": "markdown",
   "id": "1b20b857-7074-4df9-8478-a9fe677116d8",
   "metadata": {
    "execution": {
     "iopub.execute_input": "2023-02-17T11:30:22.202374Z",
     "iopub.status.busy": "2023-02-17T11:30:22.201639Z",
     "iopub.status.idle": "2023-02-17T11:30:22.215415Z",
     "shell.execute_reply": "2023-02-17T11:30:22.214722Z",
     "shell.execute_reply.started": "2023-02-17T11:30:22.202338Z"
    },
    "tags": []
   },
   "source": [
    "## Ticket Size"
   ]
  },
  {
   "cell_type": "code",
   "execution_count": 15,
   "id": "7a965703",
   "metadata": {
    "ExecuteTime": {
     "end_time": "2023-05-23T13:14:14.572129Z",
     "start_time": "2023-05-23T13:14:14.391379Z"
    }
   },
   "outputs": [],
   "source": [
    "df_purchases = df1[['customer_id','invoice_no']].drop_duplicates()\n",
    "df1_aux = (\n",
    "    df1.loc[:, ['invoice_no', 'quantity', 'unit_price']]\n",
    "    .assign(ticket_size = df1['quantity']*df1['unit_price'])\n",
    ")\n",
    "\n",
    "df1_aux = (\n",
    "    df1_aux[['invoice_no', 'ticket_size']]\n",
    "    .groupby('invoice_no')\n",
    "    .mean()\n",
    "    .reset_index()\n",
    ")\n",
    "\n",
    "df_purchases = pd.merge(df_purchases,df1_aux, how='left', on='invoice_no')\n",
    "df1_1 = (\n",
    "    df_purchases[['customer_id', 'ticket_size']]\n",
    "    .groupby('customer_id')\n",
    "    .mean()\n",
    "    .reset_index()\n",
    ")\n"
   ]
  },
  {
   "cell_type": "markdown",
   "id": "a5628086-0d62-4e12-814a-3c734f68e267",
   "metadata": {},
   "source": [
    "## Basket Size"
   ]
  },
  {
   "cell_type": "code",
   "execution_count": 16,
   "id": "d41a49cd",
   "metadata": {
    "ExecuteTime": {
     "end_time": "2023-05-23T13:14:15.469083Z",
     "start_time": "2023-05-23T13:14:15.385134Z"
    }
   },
   "outputs": [],
   "source": [
    "df1_aux = (\n",
    "    df1.loc[:, ['invoice_no', 'quantity']]\n",
    "    .groupby('invoice_no')\n",
    "    .sum()\n",
    "    .reset_index()\n",
    "    .rename(columns={'quantity':'basket_size'} )\n",
    ")\n",
    "\n",
    "df_purchases = pd.merge(df_purchases,df1_aux, how='left', on='invoice_no')\n",
    "\n",
    "df1_1 = (\n",
    "    pd.merge(df1_1,df_purchases[['customer_id','basket_size']]\n",
    "    .groupby('customer_id')\n",
    "    .mean()\n",
    "    .reset_index(), on='customer_id', how='left')\n",
    ")"
   ]
  },
  {
   "cell_type": "markdown",
   "id": "56b156fe-4b0f-4039-a3c7-74d81206ed11",
   "metadata": {},
   "source": [
    "### Unique Basket Size"
   ]
  },
  {
   "cell_type": "code",
   "execution_count": 17,
   "id": "0b5ae6ae-9f48-412d-86b1-628c94d08bc3",
   "metadata": {
    "ExecuteTime": {
     "end_time": "2023-05-23T13:14:16.325523Z",
     "start_time": "2023-05-23T13:14:16.205569Z"
    },
    "execution": {
     "iopub.execute_input": "2023-02-21T12:10:56.186987Z",
     "iopub.status.busy": "2023-02-21T12:10:56.186736Z",
     "iopub.status.idle": "2023-02-21T12:10:56.320731Z",
     "shell.execute_reply": "2023-02-21T12:10:56.320292Z",
     "shell.execute_reply.started": "2023-02-21T12:10:56.186974Z"
    },
    "tags": []
   },
   "outputs": [],
   "source": [
    "df1_aux = (\n",
    "    df1.loc[:, ['invoice_no', 'quantity']]\n",
    "    .groupby('invoice_no')\n",
    "    .nunique()\n",
    "    .reset_index()\n",
    "    .rename(columns={'quantity':'unique_basket_size'} )\n",
    ")\n",
    "\n",
    "df_purchases = pd.merge(df_purchases,df1_aux, how='left', on='invoice_no')\n",
    "\n",
    "df1_1 = (\n",
    "    pd.merge(df1_1,df_purchases[['customer_id','unique_basket_size']]\n",
    "    .groupby('customer_id')\n",
    "    .mean()\n",
    "    .reset_index(), on='customer_id', how='left')\n",
    ")"
   ]
  },
  {
   "cell_type": "markdown",
   "id": "d63650f2-a2d7-424e-804e-35bd4b8e3df7",
   "metadata": {},
   "source": [
    "### Gross Revenue"
   ]
  },
  {
   "cell_type": "code",
   "execution_count": 18,
   "id": "b3968aae-20ae-49a8-9ca2-74129cb6fa07",
   "metadata": {
    "ExecuteTime": {
     "end_time": "2023-05-23T13:14:17.258330Z",
     "start_time": "2023-05-23T13:14:17.078238Z"
    },
    "execution": {
     "iopub.execute_input": "2023-02-21T12:10:57.027860Z",
     "iopub.status.busy": "2023-02-21T12:10:57.027675Z",
     "iopub.status.idle": "2023-02-21T12:10:57.125348Z",
     "shell.execute_reply": "2023-02-21T12:10:57.124906Z",
     "shell.execute_reply.started": "2023-02-21T12:10:57.027846Z"
    },
    "tags": []
   },
   "outputs": [],
   "source": [
    "df_purchases = df1[['customer_id','invoice_no']].drop_duplicates()\n",
    "df1_aux = (df1.loc[:,['invoice_no','quantity','unit_price']]\n",
    "            .assign(gross_revenue=df1['quantity']*df1['unit_price'])\n",
    ")                   \n",
    "df1_aux = (df1_aux[['invoice_no','gross_revenue']]\n",
    "            .groupby('invoice_no')\n",
    "            .sum()\n",
    "            .reset_index()\n",
    ")\n",
    "df_purchases = pd.merge(df_purchases,df1_aux, how='left', on='invoice_no')\n",
    "df1_1 = (\n",
    "    pd.merge(df1_1,df_purchases[['customer_id','gross_revenue']]\n",
    "    .groupby('customer_id')\n",
    "    .sum()\n",
    "    .reset_index(), on='customer_id', how='left')\n",
    ")"
   ]
  },
  {
   "cell_type": "markdown",
   "id": "0b87876a-d7e6-4be3-a32e-8674b4b931ff",
   "metadata": {},
   "source": [
    "###  Recency"
   ]
  },
  {
   "cell_type": "code",
   "execution_count": 19,
   "id": "c9c00f92",
   "metadata": {
    "ExecuteTime": {
     "end_time": "2023-05-23T13:14:18.059669Z",
     "start_time": "2023-05-23T13:14:18.042307Z"
    }
   },
   "outputs": [],
   "source": [
    "df1_aux = (df1[['customer_id', 'invoice_date']]\n",
    "           .groupby('customer_id')\n",
    "           .max()\n",
    "           .reset_index()\n",
    ")\n",
    "\n",
    "df1_aux = df1_aux.assign(\n",
    "    recency_days= (df1['invoice_date'].max()\n",
    "     - df1_aux['invoice_date']).dt.days\n",
    ")\n",
    "\n",
    "df1_1 = pd.merge(\n",
    "    df1_1, df1_aux[['customer_id', 'recency_days']],\n",
    "    on='customer_id', how='left')"
   ]
  },
  {
   "cell_type": "markdown",
   "id": "6bccb5b6-50d3-4746-a4e1-90439ea3d231",
   "metadata": {},
   "source": [
    "### Quantity of purchases"
   ]
  },
  {
   "cell_type": "code",
   "execution_count": 20,
   "id": "969fb8f6-061c-4cd7-b288-f6ff42fff505",
   "metadata": {
    "ExecuteTime": {
     "end_time": "2023-05-23T13:14:19.280911Z",
     "start_time": "2023-05-23T13:14:19.200478Z"
    },
    "execution": {
     "iopub.execute_input": "2023-02-21T12:10:59.009677Z",
     "iopub.status.busy": "2023-02-21T12:10:59.009402Z",
     "iopub.status.idle": "2023-02-21T12:10:59.070548Z",
     "shell.execute_reply": "2023-02-21T12:10:59.070075Z",
     "shell.execute_reply.started": "2023-02-21T12:10:59.009655Z"
    },
    "tags": []
   },
   "outputs": [],
   "source": [
    "df1_aux = (df1[['customer_id','invoice_no']]\n",
    "            .groupby('customer_id')\n",
    "            .nunique()\n",
    "            .reset_index()\n",
    "            .rename(columns={'invoice_no': 'qtd_purchases'})\n",
    ")\n",
    "df1_1 = pd.merge(df1_1, df1_aux, on='customer_id', how='left')"
   ]
  },
  {
   "cell_type": "markdown",
   "id": "4c9d9c92",
   "metadata": {},
   "source": [
    "### Frequency"
   ]
  },
  {
   "cell_type": "code",
   "execution_count": 21,
   "id": "227e740b",
   "metadata": {
    "ExecuteTime": {
     "end_time": "2023-05-23T13:14:21.135925Z",
     "start_time": "2023-05-23T13:14:20.369691Z"
    }
   },
   "outputs": [],
   "source": [
    "df1_aux = (df1[ ['customer_id','invoice_no','invoice_date'] ].drop_duplicates()\n",
    "                    .groupby('customer_id')\n",
    "                    .agg( max_ = ('invoice_date','max'),\n",
    "                    min_ = ('invoice_date', 'min'),\n",
    "                    days_ = ('invoice_date', lambda x: (x.max() - x.min() ).days + 1 ),\n",
    "                    invoices = ('invoice_no', 'count') ) ).reset_index()\n",
    "    \n",
    "df1_aux['frequency'] = (\n",
    "    df1_aux[['invoices','days_']]\n",
    "    .apply(lambda x: x[0] / x[1] if x[1] != 1 else 0, axis=1)\n",
    ")\n",
    "\n",
    "df1_1 = pd.merge(\n",
    "    df1_1, df1_aux[['customer_id','frequency']], on='customer_id', how='left')"
   ]
  },
  {
   "cell_type": "markdown",
   "id": "10e948bf",
   "metadata": {},
   "source": [
    "### Quantity of products"
   ]
  },
  {
   "cell_type": "code",
   "execution_count": 22,
   "id": "aeb26c70",
   "metadata": {
    "ExecuteTime": {
     "end_time": "2023-05-23T13:14:21.922743Z",
     "start_time": "2023-05-23T13:14:21.791109Z"
    }
   },
   "outputs": [],
   "source": [
    "df1_aux = (df1[['customer_id', 'stock_code']]\n",
    "            .groupby('customer_id')\n",
    "            .nunique()\n",
    "            .reset_index()\n",
    "            .rename(columns={'stock_code':'qtd_products'})\n",
    ")\n",
    "df1_1 = pd.merge(df1_1, df1_aux, on='customer_id', how='left')"
   ]
  },
  {
   "cell_type": "markdown",
   "id": "c5d71f31-b011-447d-bb1b-13e43ec04bb2",
   "metadata": {},
   "source": [
    "# EDA"
   ]
  },
  {
   "cell_type": "code",
   "execution_count": 23,
   "id": "26a97b3c-959a-463c-86f4-dca180f2f0ac",
   "metadata": {
    "ExecuteTime": {
     "end_time": "2023-05-21T12:48:12.000646Z",
     "start_time": "2023-05-21T12:48:11.997535Z"
    },
    "execution": {
     "iopub.execute_input": "2023-02-21T12:13:07.935616Z",
     "iopub.status.busy": "2023-02-21T12:13:07.934975Z",
     "iopub.status.idle": "2023-02-21T12:13:09.155986Z",
     "shell.execute_reply": "2023-02-21T12:13:09.155336Z",
     "shell.execute_reply.started": "2023-02-21T12:13:07.935589Z"
    },
    "tags": []
   },
   "outputs": [],
   "source": [
    "df2 = df1_1.copy()"
   ]
  },
  {
   "cell_type": "code",
   "execution_count": null,
   "id": "3014b7e9",
   "metadata": {
    "ExecuteTime": {
     "end_time": "2023-02-21T20:20:01.662544Z",
     "start_time": "2023-02-21T20:19:50.734981Z"
    },
    "scrolled": false
   },
   "outputs": [],
   "source": [
    "profile = ProfileReport(df2, title=\"Profiling Report\")\n",
    "profile.to_file('output.html')"
   ]
  },
  {
   "cell_type": "markdown",
   "id": "c4778c0a",
   "metadata": {},
   "source": [
    "## Univariate Analysis"
   ]
  },
  {
   "cell_type": "markdown",
   "id": "80251dc7",
   "metadata": {},
   "source": [
    " Ticket size\n",
    " - High left skewed\n",
    " - average ticket_size is £62.25 and median is £16.23\n",
    " - There are some outliers with values greater than £5000 (the maximum value is £84235). However these outliers do not appear errors but actually they are normal purchases. These customers just made at most 3 purchases during a year.\n",
    " - Purchases with ticket_size less than 1 occur in a few cases and customers usually just made one purchase and one product.\n",
    " \n",
    " Basket size\n",
    " - High left skewed\n",
    " - average is 268 items per purchase and median is 152\n",
    " - There are some outliers with values greater than 4000 items on average per purchase (the maximum value is 74215). These customers just made at most 3 purchases during a year.\n",
    " \n",
    " Unique Basket size\n",
    " - left skewed\n",
    " - average is 38.37 unique items per purchase and median is 17.7\n",
    " -  There are some outliers with values greater than 500 unique items per purchase but as noticed in ticket and basket size customers just made one big purchase and all of them do not have a customer ID (these customers have ID greater than 20000 so it was generated)\n",
    " \n",
    " \n",
    " Gross revenue\n",
    " - Left skewed\n",
    " - Average is £1801 per customer and median is £612.78\n",
    " -  The most 10 extreme values (outliers) are gross revenue greater than £50,000. Most of these 10 customers made more than 20 purchases so they are recurrent clients. \n",
    " \n",
    " Recency Days\n",
    " - Average is 116 days from last purchase and median is 71 days\n",
    " - Left skewed\n",
    " - More than 95% of the customers with more than 350 days from last purchase (they are outliers) just made one purchase and this probably means they are not recurrent.\n",
    " - Many of the customers with less than 10 days since last purchase did many other purchases (more than 10)\n",
    " \n",
    " Quantity of purchases\n",
    " - Average is 3.46 purchases per customer and median is 1.\n",
    " - Left Skewed\n",
    " -  The customers with the most number of purchases (outliers) usually has a ticket size below average but a gross revenue higher than average.\n",
    " \n",
    " Quantity of products\n",
    " - Average is 69 distinct products per customer and median is 36.\n",
    " - Left skewed\n",
    " - There is some outliers specially customers who purchased more than 700 different products. Some of them just made one purchase with a ticket size lesser than £15 and a basket size around 3000 items.\n",
    " "
   ]
  },
  {
   "cell_type": "markdown",
   "id": "e58067c8",
   "metadata": {},
   "source": [
    "## Bivariate Analysis"
   ]
  },
  {
   "cell_type": "code",
   "execution_count": null,
   "id": "1d2ffbcb",
   "metadata": {
    "ExecuteTime": {
     "end_time": "2023-03-04T12:08:46.275483Z",
     "start_time": "2023-03-04T12:07:41.921568Z"
    },
    "scrolled": false
   },
   "outputs": [],
   "source": [
    "sns.pairplot(df2.loc[:,df2.columns!='customer_id']);"
   ]
  },
  {
   "cell_type": "markdown",
   "id": "b15fc771",
   "metadata": {},
   "source": [
    "The variables ticket_size,  basket_size and frequency do not have much variation along their axis so they do not seem to be good variables to make clusters. However since these variables appears to be important to business they will stay at data. Next sprint they would be removed in order to check some improvements in metrics."
   ]
  },
  {
   "cell_type": "markdown",
   "id": "8e79a81b",
   "metadata": {
    "ExecuteTime": {
     "end_time": "2023-02-23T14:40:41.585052Z",
     "start_time": "2023-02-23T14:40:41.582335Z"
    }
   },
   "source": [
    "# Feature selection"
   ]
  },
  {
   "cell_type": "code",
   "execution_count": 24,
   "id": "b44f4934",
   "metadata": {
    "ExecuteTime": {
     "end_time": "2023-05-21T12:48:14.183174Z",
     "start_time": "2023-05-21T12:48:14.179075Z"
    }
   },
   "outputs": [],
   "source": [
    "cols_selected = ['customer_id','gross_revenue','recency_days', 'qtd_purchases', 'qtd_products']\n",
    "df2 = df2.loc[:,cols_selected]"
   ]
  },
  {
   "cell_type": "markdown",
   "id": "ae9dda71",
   "metadata": {},
   "source": [
    "# Data Preparation"
   ]
  },
  {
   "cell_type": "code",
   "execution_count": 25,
   "id": "96e44f5e",
   "metadata": {
    "ExecuteTime": {
     "end_time": "2023-05-21T12:48:15.858388Z",
     "start_time": "2023-05-21T12:48:15.855221Z"
    }
   },
   "outputs": [],
   "source": [
    "df3 = df2.copy()\n",
    "df3 = df3.drop(columns='customer_id')"
   ]
  },
  {
   "cell_type": "code",
   "execution_count": 26,
   "id": "7544e07d",
   "metadata": {
    "ExecuteTime": {
     "end_time": "2023-05-21T12:48:22.793392Z",
     "start_time": "2023-05-21T12:48:22.781565Z"
    }
   },
   "outputs": [],
   "source": [
    "rs = RobustScaler()\n",
    "\n",
    "df3['gross_revenue'] = rs.fit_transform(\n",
    "    df3[['gross_revenue']].values)\n",
    "df3['recency_days'] = rs.fit_transform(\n",
    "    df3[['recency_days']].values)\n",
    "df3['qtd_purchases'] = rs.fit_transform(\n",
    "    df3[['qtd_purchases']].values)\n",
    "df3['qtd_products'] = rs.fit_transform(\n",
    "    df3[['qtd_products']].values)"
   ]
  },
  {
   "cell_type": "markdown",
   "id": "46f5bbf5",
   "metadata": {
    "heading_collapsed": true
   },
   "source": [
    "# Modelling in feature space"
   ]
  },
  {
   "cell_type": "code",
   "execution_count": 27,
   "id": "1d96da64",
   "metadata": {
    "ExecuteTime": {
     "end_time": "2023-05-19T20:02:44.586381Z",
     "start_time": "2023-05-19T20:02:44.584040Z"
    },
    "hidden": true
   },
   "outputs": [],
   "source": [
    "df4 = df3.copy()"
   ]
  },
  {
   "cell_type": "code",
   "execution_count": 28,
   "id": "f605689f",
   "metadata": {
    "ExecuteTime": {
     "end_time": "2023-05-19T09:04:43.470003Z",
     "start_time": "2023-05-19T09:04:43.467190Z"
    },
    "hidden": true
   },
   "outputs": [],
   "source": [
    "clusters = np.arange(2,11,1)"
   ]
  },
  {
   "cell_type": "markdown",
   "id": "6d355b3f",
   "metadata": {
    "hidden": true
   },
   "source": [
    "## Hyperparameter tunning"
   ]
  },
  {
   "cell_type": "markdown",
   "id": "a9e5f3d5",
   "metadata": {
    "hidden": true
   },
   "source": [
    "### K-means"
   ]
  },
  {
   "cell_type": "code",
   "execution_count": null,
   "id": "bf825dbe",
   "metadata": {
    "ExecuteTime": {
     "end_time": "2023-05-19T09:04:57.259962Z",
     "start_time": "2023-05-19T09:04:46.087975Z"
    },
    "hidden": true
   },
   "outputs": [],
   "source": [
    "kmeans_list = []\n",
    "for k in clusters:\n",
    "    #model definition\n",
    "    kmeans_model = KMeans(n_clusters=k, random_state=42, n_init=10)\n",
    "    \n",
    "    #model training\n",
    "    kmeans_model.fit(df4)\n",
    "    \n",
    "    #model predict\n",
    "    labels = kmeans_model.predict(df4)\n",
    "    \n",
    "    #model performance\n",
    "    silhoutte = metrics.silhouette_score(df4, labels=labels)\n",
    "    kmeans_list.append(silhoutte)\n",
    "\n",
    "plt.plot(clusters, kmeans_list, linestyle='--', marker='o', color='b');\n",
    "plt.xlabel('number of clusters');\n",
    "plt.ylabel('silhoutte score');"
   ]
  },
  {
   "cell_type": "markdown",
   "id": "0193b275",
   "metadata": {
    "hidden": true
   },
   "source": [
    "### GMM"
   ]
  },
  {
   "cell_type": "code",
   "execution_count": null,
   "id": "c86c53d7",
   "metadata": {
    "ExecuteTime": {
     "end_time": "2023-05-19T09:05:01.977195Z",
     "start_time": "2023-05-19T09:04:57.281221Z"
    },
    "hidden": true
   },
   "outputs": [],
   "source": [
    "gmm_list = []\n",
    "for k in clusters:\n",
    "    #model definition\n",
    "    gmm_model = GaussianMixture(n_components=k, random_state=42)\n",
    "    \n",
    "    #model training\n",
    "    gmm_model.fit(df4)\n",
    "    \n",
    "    #model predict\n",
    "    labels = gmm_model.predict(df4)\n",
    "    \n",
    "    #model performance\n",
    "    silhoutte = metrics.silhouette_score(df4, labels=labels)\n",
    "    gmm_list.append(silhoutte)\n",
    "\n",
    "plt.plot(clusters, gmm_list, linestyle='--', marker='o', color='b');\n",
    "plt.xlabel('number of clusters');\n",
    "plt.ylabel('silhoutte score');"
   ]
  },
  {
   "cell_type": "markdown",
   "id": "5bb8c874",
   "metadata": {
    "hidden": true
   },
   "source": [
    "### Hierarchical Clustering"
   ]
  },
  {
   "cell_type": "code",
   "execution_count": null,
   "id": "879276eb",
   "metadata": {
    "ExecuteTime": {
     "end_time": "2023-05-19T09:05:20.263672Z",
     "start_time": "2023-05-19T09:05:11.916024Z"
    },
    "hidden": true
   },
   "outputs": [],
   "source": [
    "hc_list = []\n",
    "for k in clusters:\n",
    "    #model definition\n",
    "    hc_model = hierarchy.linkage(df4, 'ward')\n",
    "    \n",
    "    #model predict\n",
    "    labels = hierarchy.fcluster(hc_model, k, criterion='maxclust')    \n",
    "    #model performance\n",
    "    silhoutte = metrics.silhouette_score(df4, labels=labels)\n",
    "    hc_list.append(silhoutte)\n",
    "    \n",
    "plt.plot(clusters, hc_list, linestyle='--', marker='o', color='b');\n",
    "plt.xlabel('number of clusters');\n",
    "plt.ylabel('silhoutte score');"
   ]
  },
  {
   "cell_type": "markdown",
   "id": "5634d6f9",
   "metadata": {
    "hidden": true
   },
   "source": [
    "### DBSCAN"
   ]
  },
  {
   "cell_type": "code",
   "execution_count": null,
   "id": "c572f4e5",
   "metadata": {
    "ExecuteTime": {
     "end_time": "2023-05-19T09:16:17.576569Z",
     "start_time": "2023-05-19T09:05:20.286077Z"
    },
    "code_folding": [],
    "hidden": true
   },
   "outputs": [],
   "source": [
    "dbscan_list = []\n",
    "dbscan_clusters_list = []\n",
    "dbscan_eps = []\n",
    "dbscan_samples = []\n",
    "eps = np.arange(0.05,3,0.05)\n",
    "min_samples = np.arange(5,100,5)\n",
    "\n",
    "#Model with differents values of eps and min_samples\n",
    "for x in eps:\n",
    "    for y in min_samples:\n",
    "        try:\n",
    "            #model definition\n",
    "            dbscan_model = DBSCAN(eps=x, min_samples=y)\n",
    "\n",
    "            #model training\n",
    "            labels = dbscan_model.fit_predict(df4)\n",
    "\n",
    "            if -1 in labels:  \n",
    "                #model performance\n",
    "                silhoutte = metrics.silhouette_score(df4, labels=labels, metric='euclidean')\n",
    "                dbscan_list.append(silhoutte)\n",
    "                dbscan_clusters_list.append(len(np.unique(labels))-1)\n",
    "                dbscan_eps.append(x)\n",
    "                dbscan_samples.append(y)\n",
    "            else:\n",
    "                #model performance\n",
    "                silhoutte = metrics.silhouette_score(df4, labels=labels, metric='euclidean')\n",
    "                dbscan_list.append(silhoutte)\n",
    "                dbscan_clusters_list.append(len(np.unique(labels)))\n",
    "                dbscan_eps.append(x)\n",
    "                dbscan_samples.append(y)\n",
    "        except:\n",
    "            pass\n",
    "\n",
    "#make a dataframe with results\n",
    "dbscan_dataframe = pd.DataFrame(\n",
    "    {'silhoutte': dbscan_list, 'clusters': dbscan_clusters_list,\n",
    "     'eps': dbscan_eps, 'num_samples': dbscan_samples}\n",
    ")\n",
    "dbscan_dataframe = dbscan_dataframe.sort_values(\n",
    "    by='silhoutte', ascending=False)\n",
    "\n",
    "#Pick out negative silhoute scores and results with just 1 cluster\n",
    "dbscan_dataframe = dbscan_dataframe[dbscan_dataframe['silhoutte'] > 0]\n",
    "dbscan_dataframe = dbscan_dataframe[dbscan_dataframe['clusters'] > 1]\n",
    "\n",
    "#Select best silhoutte score by number of clusters\n",
    "dbscan_dataframe_final = pd.DataFrame(\n",
    "    columns=['silhoutte', 'clusters', 'eps','num_samples'])\n",
    "\n",
    "for i in dbscan_dataframe['clusters'].unique():\n",
    "    dbscan_clusters = dbscan_dataframe[dbscan_dataframe['clusters'] == i]\n",
    "    dbscan_clusters = dbscan_clusters[\n",
    "        dbscan_clusters['silhoutte'] == dbscan_clusters['silhoutte'].max()]\n",
    "    dbscan_dataframe_final = pd.concat(\n",
    "        [dbscan_dataframe_final, dbscan_clusters], \n",
    "        ignore_index=True)"
   ]
  },
  {
   "cell_type": "code",
   "execution_count": null,
   "id": "87d0b766",
   "metadata": {
    "ExecuteTime": {
     "end_time": "2023-05-19T09:16:17.611687Z",
     "start_time": "2023-05-19T09:16:17.607941Z"
    },
    "hidden": true
   },
   "outputs": [],
   "source": [
    "dbscan_clusters_to_10 = (dbscan_dataframe_final[\n",
    "    dbscan_dataframe_final['clusters'] <= 10]\n",
    "    .sort_values(by='cluster')\n",
    "    .reset_index()\n",
    ")\n",
    "\n",
    "\n",
    "dbscan_list =pd.DataFrame(\n",
    "    {'DBSCAN':dbscan_clusters_to_10['silhoutte']}).T\n",
    "dbscan_list.columns = dbscan_clusters_to_10['clusters']"
   ]
  },
  {
   "cell_type": "code",
   "execution_count": null,
   "id": "2c09d274",
   "metadata": {
    "ExecuteTime": {
     "end_time": "2023-05-19T09:16:17.653499Z",
     "start_time": "2023-05-19T09:16:17.644723Z"
    },
    "hidden": true
   },
   "outputs": [],
   "source": [
    "df_results = pd.DataFrame(\n",
    "    {'KMeans': kmeans_list, 'GMM':gmm_list, 'HC': hc_list}).T\n",
    "df_results.columns = clusters\n",
    "df_results = pd.concat([df_results,dbscan_list], axis=0)\n",
    "df_results.style.highlight_max(color='lightgreen', axis=1)"
   ]
  },
  {
   "cell_type": "markdown",
   "id": "838cb17a",
   "metadata": {
    "hidden": true
   },
   "source": [
    "Model chosen would be Kmeans with 5 clusters"
   ]
  },
  {
   "cell_type": "markdown",
   "id": "eef9bd76",
   "metadata": {
    "hidden": true
   },
   "source": [
    "## Silhouette Analysis"
   ]
  },
  {
   "cell_type": "code",
   "execution_count": null,
   "id": "07e31c7c",
   "metadata": {
    "ExecuteTime": {
     "end_time": "2023-05-19T09:17:36.834542Z",
     "start_time": "2023-05-19T09:17:26.921971Z"
    },
    "hidden": true,
    "scrolled": true
   },
   "outputs": [],
   "source": [
    "clusters = [2,3,4,5,6,7]\n",
    "fig, ax = plt.subplots(3,2)\n",
    "fig.set_size_inches(15,10)\n",
    "\n",
    "for k in clusters:\n",
    "    q, mod = divmod(k,2)\n",
    "    \n",
    "    ax[q-1, mod].set_xlim([-0.1, 1])\n",
    "    ax[q-1, mod].set_ylim([0, len(df4) + (k+1)*10 ])\n",
    "    \n",
    "    # model definition\n",
    "    kmeans_model = KMeans(n_clusters=k, random_state=42, n_init=10)\n",
    "    \n",
    "    #model training\n",
    "    kmeans_model.fit(df4)\n",
    "    \n",
    "    #model predict\n",
    "    labels = kmeans_model.predict(df4)\n",
    "    #performance\n",
    "    silhoutte = metrics.silhouette_score(\n",
    "        df4, labels=labels, metric='euclidean')\n",
    "    \n",
    "    sample_silhouette_scores = metrics.silhouette_samples(df4, labels)\n",
    "\n",
    "    y_lower = 10\n",
    "    for i in range(k):\n",
    "\n",
    "        #select clusters\n",
    "        ith_samples_silhouette = sample_silhouette_scores[ labels == i]\n",
    "\n",
    "        #sort values\n",
    "        ith_samples_silhouette.sort()\n",
    "        \n",
    "        #size clusters\n",
    "        size_cluster_i = ith_samples_silhouette.shape[0]\n",
    "        y_upper = y_lower + size_cluster_i\n",
    "        \n",
    "        cmap = plt.get_cmap('Spectral')\n",
    "        color = cmap(i/k)\n",
    "\n",
    "        ax[q-1, mod].fill_betweenx(np.arange(y_lower,y_upper), 0, ith_samples_silhouette)\n",
    "        \n",
    "        y_lower = y_upper + 10\n",
    "        \n",
    "    ax[q-1,mod].set_xticks([-0.1,0,0.2,0.4,0.6,0.8,1])"
   ]
  },
  {
   "cell_type": "code",
   "execution_count": null,
   "id": "22128df2",
   "metadata": {
    "ExecuteTime": {
     "end_time": "2023-05-19T09:17:52.601226Z",
     "start_time": "2023-05-19T09:17:51.656939Z"
    },
    "hidden": true
   },
   "outputs": [],
   "source": [
    "#model definition\n",
    "kmeans_model = KMeans(n_clusters=5, random_state=42, n_init=10)\n",
    "\n",
    "#model training\n",
    "kmeans_model.fit(df4)\n",
    "\n",
    "#model predict\n",
    "labels = kmeans_model.predict(df4)\n",
    "\n",
    "df4['cluster'] = labels\n",
    "\n",
    "df4.groupby(['cluster'])['cluster'].count()/df4.shape[0]"
   ]
  },
  {
   "cell_type": "markdown",
   "id": "4fa9e8c4",
   "metadata": {
    "hidden": true
   },
   "source": [
    "There is a very big cluster and the others ones do not have much customer in it. "
   ]
  },
  {
   "cell_type": "markdown",
   "id": "38172393",
   "metadata": {
    "ExecuteTime": {
     "end_time": "2023-02-22T19:08:04.356969Z",
     "start_time": "2023-02-22T19:08:04.355186Z"
    }
   },
   "source": [
    "# Embedding space analysis"
   ]
  },
  {
   "cell_type": "code",
   "execution_count": 29,
   "id": "32889e89",
   "metadata": {
    "ExecuteTime": {
     "end_time": "2023-05-21T12:48:27.820027Z",
     "start_time": "2023-05-21T12:48:27.816037Z"
    }
   },
   "outputs": [],
   "source": [
    "df5 = df3.copy()"
   ]
  },
  {
   "cell_type": "markdown",
   "id": "feba44c6",
   "metadata": {
    "heading_collapsed": true
   },
   "source": [
    "## PCA"
   ]
  },
  {
   "cell_type": "code",
   "execution_count": null,
   "id": "1092d635",
   "metadata": {
    "ExecuteTime": {
     "end_time": "2023-05-19T09:18:05.460686Z",
     "start_time": "2023-05-19T09:18:05.357702Z"
    },
    "hidden": true
   },
   "outputs": [],
   "source": [
    "pca = PCA(n_components=df5.shape[1])\n",
    "\n",
    "components = pca.fit_transform(df5)\n",
    "\n",
    "#plot explained variation\n",
    "\n",
    "features = range(pca.n_components_)\n",
    "\n",
    "plt.bar(features,pca.explained_variance_ratio_, color='black');"
   ]
  },
  {
   "cell_type": "code",
   "execution_count": null,
   "id": "7acf01c2",
   "metadata": {
    "ExecuteTime": {
     "end_time": "2023-05-19T09:18:10.275436Z",
     "start_time": "2023-05-19T09:18:10.161986Z"
    },
    "hidden": true
   },
   "outputs": [],
   "source": [
    "df_pca = pd.DataFrame(components)\n",
    "plot = sns.scatterplot(x=0, y=1, data=df_pca);"
   ]
  },
  {
   "cell_type": "markdown",
   "id": "32b1b37e",
   "metadata": {
    "heading_collapsed": true
   },
   "source": [
    "## UMAP"
   ]
  },
  {
   "cell_type": "code",
   "execution_count": 30,
   "id": "108f48d7",
   "metadata": {
    "ExecuteTime": {
     "end_time": "2023-05-21T12:48:39.046963Z",
     "start_time": "2023-05-21T12:48:33.838171Z"
    },
    "hidden": true
   },
   "outputs": [
    {
     "data": {
      "image/png": "[encoded data removed]",
      "text/plain": [
       "<Figure size 800x550 with 1 Axes>"
      ]
     },
     "metadata": {},
     "output_type": "display_data"
    }
   ],
   "source": [
    "reducer = umap.UMAP(random_state=42)\n",
    "embedding_umap = reducer.fit_transform(df5)\n",
    "sns.scatterplot(x=embedding_umap[:,0], y=embedding_umap[:,1]);"
   ]
  },
  {
   "cell_type": "markdown",
   "id": "2eee3aa0",
   "metadata": {
    "heading_collapsed": true
   },
   "source": [
    "## t-SNE"
   ]
  },
  {
   "cell_type": "code",
   "execution_count": null,
   "id": "f27b2273",
   "metadata": {
    "ExecuteTime": {
     "end_time": "2023-05-19T09:18:59.645068Z",
     "start_time": "2023-05-19T09:18:48.287474Z"
    },
    "hidden": true
   },
   "outputs": [],
   "source": [
    "reducer = TSNE(n_components=2, random_state=42, n_jobs=-1)\n",
    "embedding_tsne = reducer.fit_transform(df5)\n",
    "sns.scatterplot(x=embedding_tsne[:,0], y=embedding_tsne[:,1]);"
   ]
  },
  {
   "cell_type": "markdown",
   "id": "7eccc28d",
   "metadata": {},
   "source": [
    "## Tree-based embedding"
   ]
  },
  {
   "cell_type": "code",
   "execution_count": null,
   "id": "c6fb4961",
   "metadata": {
    "ExecuteTime": {
     "end_time": "2023-05-19T09:19:01.475570Z",
     "start_time": "2023-05-19T09:18:59.683498Z"
    },
    "scrolled": true
   },
   "outputs": [],
   "source": [
    "X= df5.drop(columns=['gross_revenue'])\n",
    "y = df5['gross_revenue']\n",
    "\n",
    "rf = RandomForestRegressor(random_state=42, n_estimators=200)\n",
    "\n",
    "rf.fit(X,y)\n",
    "\n",
    "df_leaves = pd.DataFrame(rf.apply(X))"
   ]
  },
  {
   "cell_type": "code",
   "execution_count": null,
   "id": "153a4bbd",
   "metadata": {
    "ExecuteTime": {
     "end_time": "2023-05-19T10:29:55.423425Z",
     "start_time": "2023-05-19T10:29:49.853805Z"
    }
   },
   "outputs": [],
   "source": [
    "reducer = umap.UMAP(random_state=42)\n",
    "embedding_rf_umap = reducer.fit_transform(df_leaves)\n",
    "sns.scatterplot(x=embedding_rf_umap[:,0], y=embedding_rf_umap[:,1]);"
   ]
  },
  {
   "cell_type": "code",
   "execution_count": null,
   "id": "0ba50d1d",
   "metadata": {
    "ExecuteTime": {
     "end_time": "2023-05-19T09:19:18.348930Z",
     "start_time": "2023-05-19T09:19:07.359641Z"
    },
    "scrolled": false
   },
   "outputs": [],
   "source": [
    "reducer = TSNE(n_components=2, random_state=42, n_jobs=-1)\n",
    "embedding_rf_tsne = reducer.fit_transform(df_leaves)\n",
    "sns.scatterplot(x=embedding_rf_tsne[:,0], y=embedding_rf_tsne[:,1]);"
   ]
  },
  {
   "cell_type": "code",
   "execution_count": 31,
   "id": "0bc2dd62",
   "metadata": {
    "ExecuteTime": {
     "end_time": "2023-05-21T12:48:46.944214Z",
     "start_time": "2023-05-21T12:48:46.940557Z"
    }
   },
   "outputs": [],
   "source": [
    "df_umap = pd.DataFrame()\n",
    "df_umap['embedding_x'] = embedding_umap[:,0]\n",
    "df_umap['embedding_y'] = embedding_umap[:,1]"
   ]
  },
  {
   "cell_type": "code",
   "execution_count": 32,
   "id": "b6a69e15",
   "metadata": {
    "ExecuteTime": {
     "end_time": "2023-05-21T12:48:47.648178Z",
     "start_time": "2023-05-21T12:48:47.645424Z"
    }
   },
   "outputs": [],
   "source": [
    "df5 = df_umap \n",
    "clusters = np.arange(2,11,1)"
   ]
  },
  {
   "cell_type": "markdown",
   "id": "5c8bd11a",
   "metadata": {
    "heading_collapsed": true
   },
   "source": [
    "## Hyperparameter tunning"
   ]
  },
  {
   "cell_type": "markdown",
   "id": "e73f50a0",
   "metadata": {
    "hidden": true
   },
   "source": [
    "### K-means"
   ]
  },
  {
   "cell_type": "code",
   "execution_count": null,
   "id": "a979b3c6",
   "metadata": {
    "ExecuteTime": {
     "end_time": "2023-05-19T09:19:29.288608Z",
     "start_time": "2023-05-19T09:19:25.671761Z"
    },
    "hidden": true
   },
   "outputs": [],
   "source": [
    "kmeans_list = []\n",
    "for k in clusters:\n",
    "    #model definition\n",
    "    kmeans_model = KMeans(\n",
    "        n_clusters=k, random_state=42, n_init=15)\n",
    "    \n",
    "    #model training\n",
    "    kmeans_model.fit(df5)\n",
    "    \n",
    "    #model predict\n",
    "    labels = kmeans_model.predict(df5)\n",
    "    \n",
    "    #model performance\n",
    "    silhoutte = metrics.silhouette_score(df5, labels=labels)\n",
    "    kmeans_list.append(silhoutte)\n",
    "\n",
    "plt.plot(clusters, kmeans_list, linestyle='--', marker='o', color='b');\n",
    "plt.xlabel('number of clusters');\n",
    "plt.ylabel('silhoutte score');"
   ]
  },
  {
   "cell_type": "markdown",
   "id": "811be25f",
   "metadata": {
    "heading_collapsed": true,
    "hidden": true
   },
   "source": [
    "### GMM"
   ]
  },
  {
   "cell_type": "code",
   "execution_count": null,
   "id": "b43e4ddf",
   "metadata": {
    "ExecuteTime": {
     "end_time": "2023-05-19T09:19:40.600288Z",
     "start_time": "2023-05-19T09:19:37.055914Z"
    },
    "hidden": true
   },
   "outputs": [],
   "source": [
    "gmm_list = []\n",
    "for k in clusters:\n",
    "    #model definition\n",
    "    gmm_model = GaussianMixture(n_components=k, random_state=42)\n",
    "    \n",
    "    #model training\n",
    "    gmm_model.fit(df5)\n",
    "    \n",
    "    #model predict\n",
    "    labels = gmm_model.predict(df5)\n",
    "    \n",
    "    #model performance\n",
    "    silhoutte = metrics.silhouette_score(df5, labels=labels)\n",
    "    gmm_list.append(silhoutte)\n",
    "\n",
    "plt.plot(clusters, gmm_list, linestyle='--', marker='o', color='b');\n",
    "plt.xlabel('number of clusters');\n",
    "plt.ylabel('silhoutte score');"
   ]
  },
  {
   "cell_type": "markdown",
   "id": "7a09d764",
   "metadata": {
    "heading_collapsed": true,
    "hidden": true
   },
   "source": [
    "### Hierarchical Clustering"
   ]
  },
  {
   "cell_type": "code",
   "execution_count": null,
   "id": "821eb8a8",
   "metadata": {
    "ExecuteTime": {
     "end_time": "2023-05-19T09:19:52.975694Z",
     "start_time": "2023-05-19T09:19:45.709570Z"
    },
    "hidden": true
   },
   "outputs": [],
   "source": [
    "hc_list = []\n",
    "for k in clusters:\n",
    "    #model definition\n",
    "    hc_model = hierarchy.linkage(df5, 'ward')\n",
    "    \n",
    "    #model predict\n",
    "    labels = hierarchy.fcluster(hc_model, k, criterion='maxclust')    \n",
    "    #model performance\n",
    "    silhoutte = metrics.silhouette_score(\n",
    "        df5, labels=labels, metric='euclidean')\n",
    "    hc_list.append(silhoutte)\n",
    "    \n",
    "plt.plot(clusters, hc_list, linestyle='--', marker='o', color='b');\n",
    "plt.xlabel('number of clusters');\n",
    "plt.ylabel('silhoutte score');"
   ]
  },
  {
   "cell_type": "markdown",
   "id": "cb120793",
   "metadata": {
    "heading_collapsed": true,
    "hidden": true
   },
   "source": [
    "### DBSCAN"
   ]
  },
  {
   "cell_type": "code",
   "execution_count": null,
   "id": "0ce164e8",
   "metadata": {
    "ExecuteTime": {
     "end_time": "2023-05-19T09:29:23.915020Z",
     "start_time": "2023-05-19T09:19:53.022380Z"
    },
    "code_folding": [],
    "hidden": true
   },
   "outputs": [],
   "source": [
    "dbscan_list = []\n",
    "dbscan_clusters_list = []\n",
    "dbscan_eps = []\n",
    "dbscan_samples = []\n",
    "eps = np.arange(0.05,5,0.05)\n",
    "min_samples = np.arange(5,100,5)\n",
    "\n",
    "#Model with differents values of eps and min_samples\n",
    "for x in eps:\n",
    "    for y in min_samples:\n",
    "        try:\n",
    "            #model definition\n",
    "            dbscan_model = DBSCAN(eps=x, min_samples=y)\n",
    "\n",
    "            #model training\n",
    "            labels = dbscan_model.fit_predict(df5)\n",
    "\n",
    "            if -1 in labels:  \n",
    "                #model performance\n",
    "                silhoutte = metrics.silhouette_score(\n",
    "                    df5, labels=labels, metric='euclidean')\n",
    "                dbscan_list.append(silhoutte)\n",
    "                dbscan_clusters_list.append(len(np.unique(labels) ) -1 )\n",
    "                dbscan_eps.append(x)\n",
    "                dbscan_samples.append(y)\n",
    "            else:\n",
    "                #model performance\n",
    "                silhoutte = metrics.silhouette_score(\n",
    "                    df5, labels=labels, metric='euclidean')\n",
    "                dbscan_list.append(silhoutte)\n",
    "                dbscan_clusters_list.append(len(np.unique(labels) ) )\n",
    "                dbscan_eps.append(x)\n",
    "                dbscan_samples.append(y)\n",
    "        except:\n",
    "            pass\n",
    "\n",
    "#make a dataframe with results\n",
    "dbscan_dataframe = (pd.DataFrame(\n",
    "    {'silhoutte': dbscan_list, 'clusters': dbscan_clusters_list,\n",
    "    'eps': dbscan_eps, 'num_samples': dbscan_samples}\n",
    "    .sort_values(by='silhoutte', ascending=False))\n",
    ")\n",
    "\n",
    "#Pick out negative silhoute scores and results with just 1 cluster\n",
    "dbscan_dataframe = dbscan_dataframe[dbscan_dataframe['silhoutte'] > 0]\n",
    "dbscan_dataframe = dbscan_dataframe[dbscan_dataframe['clusters'] > 1]\n",
    "\n",
    "#Select best silhoutte score by number of clusters\n",
    "dbscan_dataframe_final = pd.DataFrame(\n",
    "    columns=['silhoutte', 'clusters', 'eps','num_samples'])\n",
    "\n",
    "for i in dbscan_dataframe['clusters'].unique():\n",
    "    dbscan_clusters = dbscan_dataframe[dbscan_dataframe['clusters'] == i]\n",
    "    dbscan_clusters = dbscan_clusters[\n",
    "        dbscan_clusters['silhoutte'] == dbscan_clusters['silhoutte'].max()]\n",
    "    dbscan_dataframe_final = pd.concat(\n",
    "        [dbscan_dataframe_final, dbscan_clusters],\n",
    "        ignore_index=True).reset_index(drop=True)\n",
    "    dbscan_dataframe_final = dbscan_dataframe_final.drop_duplicates(\n",
    "        subset=['silhoutte','clusters'])"
   ]
  },
  {
   "cell_type": "code",
   "execution_count": null,
   "id": "be1a43f3",
   "metadata": {
    "ExecuteTime": {
     "end_time": "2023-05-19T09:29:23.962818Z",
     "start_time": "2023-05-19T09:29:23.958115Z"
    },
    "hidden": true
   },
   "outputs": [],
   "source": [
    "dbscan_dataframe_final = dbscan_dataframe_final.drop_duplicates(\n",
    "    subset=['silhoutte','clusters'])\n",
    "dbscan_clusters_to_10 = (dbscan_dataframe_final[\n",
    "    dbscan_dataframe_final['clusters'] <= 10]\n",
    "    .sort_values(by='clusters').reset_index()\n",
    ")\n",
    "\n",
    "dbscan_list =pd.DataFrame(\n",
    "    {'DBSCAN':dbscan_clusters_to_10['silhoutte']}).T\n",
    "dbscan_list.columns = dbscan_clusters_to_10['clusters']"
   ]
  },
  {
   "cell_type": "code",
   "execution_count": null,
   "id": "0f5cefbc",
   "metadata": {
    "ExecuteTime": {
     "end_time": "2023-05-19T09:29:24.016666Z",
     "start_time": "2023-05-19T09:29:24.009048Z"
    },
    "hidden": true,
    "scrolled": true
   },
   "outputs": [],
   "source": [
    "df_results = pd.DataFrame(\n",
    "    {'KMeans': kmeans_list, 'GMM':gmm_list, 'HC': hc_list}).T\n",
    "df_results.columns = clusters\n",
    "df_results = pd.concat([df_results,dbscan_list], axis=0)\n",
    "df_results.style.highlight_max(color='lightgreen', axis=1)"
   ]
  },
  {
   "cell_type": "markdown",
   "id": "17e370ec",
   "metadata": {
    "hidden": true
   },
   "source": [
    "Model chosen would be Kmeans with 5 clusters"
   ]
  },
  {
   "cell_type": "markdown",
   "id": "980aae4a",
   "metadata": {},
   "source": [
    "# Model Training"
   ]
  },
  {
   "cell_type": "markdown",
   "id": "2e1c24fb",
   "metadata": {},
   "source": [
    "## Silhoutte Analysis"
   ]
  },
  {
   "cell_type": "markdown",
   "id": "4e994389",
   "metadata": {},
   "source": [
    "Score is lower than feature space but the clusters are better distributed"
   ]
  },
  {
   "cell_type": "markdown",
   "id": "e4c1c636",
   "metadata": {},
   "source": [
    "## Final model"
   ]
  },
  {
   "cell_type": "code",
   "execution_count": 33,
   "id": "7b99f314",
   "metadata": {
    "ExecuteTime": {
     "end_time": "2023-05-21T09:50:34.562490Z",
     "start_time": "2023-05-21T09:50:24.680974Z"
    }
   },
   "outputs": [
    {
     "name": "stderr",
     "output_type": "stream",
     "text": [
      "/home/dbcordeiro@sefaz.al.gov.br/anaconda3/envs/high_value_customer_identification/lib/python3.10/site-packages/sklearn/cluster/_kmeans.py:870: FutureWarning: The default value of `n_init` will change from 10 to 'auto' in 1.4. Set the value of `n_init` explicitly to suppress the warning\n",
      "  warnings.warn(\n",
      "/home/dbcordeiro@sefaz.al.gov.br/anaconda3/envs/high_value_customer_identification/lib/python3.10/site-packages/sklearn/cluster/_kmeans.py:870: FutureWarning: The default value of `n_init` will change from 10 to 'auto' in 1.4. Set the value of `n_init` explicitly to suppress the warning\n",
      "  warnings.warn(\n",
      "/home/dbcordeiro@sefaz.al.gov.br/anaconda3/envs/high_value_customer_identification/lib/python3.10/site-packages/sklearn/cluster/_kmeans.py:870: FutureWarning: The default value of `n_init` will change from 10 to 'auto' in 1.4. Set the value of `n_init` explicitly to suppress the warning\n",
      "  warnings.warn(\n",
      "/home/dbcordeiro@sefaz.al.gov.br/anaconda3/envs/high_value_customer_identification/lib/python3.10/site-packages/sklearn/cluster/_kmeans.py:870: FutureWarning: The default value of `n_init` will change from 10 to 'auto' in 1.4. Set the value of `n_init` explicitly to suppress the warning\n",
      "  warnings.warn(\n",
      "/home/dbcordeiro@sefaz.al.gov.br/anaconda3/envs/high_value_customer_identification/lib/python3.10/site-packages/sklearn/cluster/_kmeans.py:870: FutureWarning: The default value of `n_init` will change from 10 to 'auto' in 1.4. Set the value of `n_init` explicitly to suppress the warning\n",
      "  warnings.warn(\n",
      "/home/dbcordeiro@sefaz.al.gov.br/anaconda3/envs/high_value_customer_identification/lib/python3.10/site-packages/sklearn/cluster/_kmeans.py:870: FutureWarning: The default value of `n_init` will change from 10 to 'auto' in 1.4. Set the value of `n_init` explicitly to suppress the warning\n",
      "  warnings.warn(\n"
     ]
    },
    {
     "data": {
      "image/png": "[encoded data removed]",
      "text/plain": [
       "<Figure size 1500x1000 with 6 Axes>"
      ]
     },
     "metadata": {},
     "output_type": "display_data"
    }
   ],
   "source": [
    "clusters = [2,3,4,5,6,7]\n",
    "fig, ax = plt.subplots(3,2)\n",
    "fig.set_size_inches(15,10)\n",
    "\n",
    "for k in clusters:\n",
    "    q, mod = divmod(k,2)\n",
    "    \n",
    "    ax[q-1, mod].set_xlim([-0.1, 1])\n",
    "    ax[q-1, mod].set_ylim([0, len(df5) + (k+1)*10 ])\n",
    "    \n",
    "    \n",
    "    #model definition\n",
    "    kmeans_model = KMeans(\n",
    "        n_clusters=k, random_state=42, init='k-means++')\n",
    "    kmeans_model.fit(df5)\n",
    "\n",
    "    #model predict\n",
    "    labels = kmeans_model.predict(df5)\n",
    "    \n",
    "    #performance\n",
    "    silhoutte = metrics.silhouette_score(\n",
    "        df5, labels=labels, metric='euclidean')\n",
    "    \n",
    "    sample_silhouette_scores = metrics.silhouette_samples(\n",
    "        df5, labels)\n",
    "    \n",
    "\n",
    "    y_lower = 10\n",
    "    for i in range(k):\n",
    "\n",
    "        #select clusters\n",
    "        ith_samples_silhouette = sample_silhouette_scores[\n",
    "            labels == i]\n",
    "\n",
    "        #sort values\n",
    "        ith_samples_silhouette.sort()\n",
    "        \n",
    "        #size clusters\n",
    "        size_cluster_i = ith_samples_silhouette.shape[0]\n",
    "        y_upper = y_lower + size_cluster_i\n",
    "        \n",
    "        cmap = plt.get_cmap('Spectral')\n",
    "        color = cmap(i/k)\n",
    "\n",
    "        ax[q-1, mod].fill_betweenx(\n",
    "            np.arange(y_lower,y_upper), 0, ith_samples_silhouette)\n",
    "        \n",
    "        y_lower = y_upper + 10\n",
    "        \n",
    "    ax[q-1,mod].set_xticks([-0.1,0,0.2,0.4,0.6,0.8,1])"
   ]
  },
  {
   "cell_type": "code",
   "execution_count": 34,
   "id": "a6c132fe",
   "metadata": {
    "ExecuteTime": {
     "end_time": "2023-05-21T12:48:54.754256Z",
     "start_time": "2023-05-21T12:48:54.751872Z"
    }
   },
   "outputs": [],
   "source": [
    "df6 = df_umap"
   ]
  },
  {
   "cell_type": "code",
   "execution_count": 35,
   "id": "9f1093a5",
   "metadata": {
    "ExecuteTime": {
     "end_time": "2023-05-21T12:48:56.335093Z",
     "start_time": "2023-05-21T12:48:55.737328Z"
    }
   },
   "outputs": [
    {
     "name": "stderr",
     "output_type": "stream",
     "text": [
      "/home/dbcordeiro@sefaz.al.gov.br/anaconda3/envs/high_value_customer_identification/lib/python3.10/site-packages/sklearn/cluster/_kmeans.py:870: FutureWarning: The default value of `n_init` will change from 10 to 'auto' in 1.4. Set the value of `n_init` explicitly to suppress the warning\n",
      "  warnings.warn(\n"
     ]
    },
    {
     "data": {
      "text/plain": [
       "0.5251477907428741"
      ]
     },
     "execution_count": 35,
     "metadata": {},
     "output_type": "execute_result"
    }
   ],
   "source": [
    "kmeans_model = KMeans(n_clusters=5, random_state=42, init='k-means++')\n",
    "\n",
    "#model training\n",
    "kmeans_model.fit(df6)\n",
    "\n",
    "#model predict\n",
    "labels = kmeans_model.predict(df6)\n",
    "\n",
    "df6['cluster'] = labels\n",
    "\n",
    "metrics.silhouette_score(df6, labels=labels, metric='euclidean')"
   ]
  },
  {
   "cell_type": "markdown",
   "id": "69400f1d",
   "metadata": {},
   "source": [
    "# Cluster analysis"
   ]
  },
  {
   "cell_type": "markdown",
   "id": "44becf53",
   "metadata": {},
   "source": [
    "## Visualization inspection"
   ]
  },
  {
   "cell_type": "code",
   "execution_count": 36,
   "id": "975ed2c2",
   "metadata": {
    "ExecuteTime": {
     "end_time": "2023-05-21T12:49:04.886743Z",
     "start_time": "2023-05-21T12:49:04.624330Z"
    },
    "scrolled": true
   },
   "outputs": [
    {
     "data": {
      "image/png": "[encoded data removed]",
      "text/plain": [
       "<Figure size 800x550 with 1 Axes>"
      ]
     },
     "metadata": {},
     "output_type": "display_data"
    }
   ],
   "source": [
    "sns.scatterplot(x='embedding_x',y='embedding_y', hue='cluster',data=df6, palette='deep');"
   ]
  },
  {
   "cell_type": "markdown",
   "id": "72c74e2c",
   "metadata": {},
   "source": [
    "## Cluster profile"
   ]
  },
  {
   "cell_type": "code",
   "execution_count": 37,
   "id": "64a39376",
   "metadata": {
    "ExecuteTime": {
     "end_time": "2023-05-21T12:49:07.620212Z",
     "start_time": "2023-05-21T12:49:07.616836Z"
    }
   },
   "outputs": [],
   "source": [
    "df6_1 = df2.copy()\n",
    "df6_1['cluster'] = labels\n",
    "df6_1 = df6_1[df6_1['customer_id'] < 20000]"
   ]
  },
  {
   "cell_type": "code",
   "execution_count": 38,
   "id": "e8ac3868",
   "metadata": {},
   "outputs": [
    {
     "data": {
      "text/html": [
       "<div>\n",
       "<style scoped>\n",
       "    .dataframe tbody tr th:only-of-type {\n",
       "        vertical-align: middle;\n",
       "    }\n",
       "\n",
       "    .dataframe tbody tr th {\n",
       "        vertical-align: top;\n",
       "    }\n",
       "\n",
       "    .dataframe thead th {\n",
       "        text-align: right;\n",
       "    }\n",
       "</style>\n",
       "<table border=\"1\" class=\"dataframe\">\n",
       "  <thead>\n",
       "    <tr style=\"text-align: right;\">\n",
       "      <th></th>\n",
       "      <th>cluster</th>\n",
       "      <th>customer_id</th>\n",
       "      <th>perc_customer</th>\n",
       "      <th>gross_revenue</th>\n",
       "      <th>recency_days</th>\n",
       "      <th>qtd_purchases</th>\n",
       "      <th>qtd_products</th>\n",
       "    </tr>\n",
       "  </thead>\n",
       "  <tbody>\n",
       "    <tr>\n",
       "      <th>0</th>\n",
       "      <td>0</td>\n",
       "      <td>1073</td>\n",
       "      <td>24.76</td>\n",
       "      <td>2984.35</td>\n",
       "      <td>15.00</td>\n",
       "      <td>8.00</td>\n",
       "      <td>119.00</td>\n",
       "    </tr>\n",
       "    <tr>\n",
       "      <th>4</th>\n",
       "      <td>4</td>\n",
       "      <td>957</td>\n",
       "      <td>22.08</td>\n",
       "      <td>981.65</td>\n",
       "      <td>38.00</td>\n",
       "      <td>4.00</td>\n",
       "      <td>47.00</td>\n",
       "    </tr>\n",
       "    <tr>\n",
       "      <th>2</th>\n",
       "      <td>2</td>\n",
       "      <td>839</td>\n",
       "      <td>19.36</td>\n",
       "      <td>547.07</td>\n",
       "      <td>64.00</td>\n",
       "      <td>2.00</td>\n",
       "      <td>30.00</td>\n",
       "    </tr>\n",
       "    <tr>\n",
       "      <th>1</th>\n",
       "      <td>1</td>\n",
       "      <td>883</td>\n",
       "      <td>20.37</td>\n",
       "      <td>262.20</td>\n",
       "      <td>61.00</td>\n",
       "      <td>1.00</td>\n",
       "      <td>17.00</td>\n",
       "    </tr>\n",
       "    <tr>\n",
       "      <th>3</th>\n",
       "      <td>3</td>\n",
       "      <td>582</td>\n",
       "      <td>13.43</td>\n",
       "      <td>232.97</td>\n",
       "      <td>281.00</td>\n",
       "      <td>1.00</td>\n",
       "      <td>14.00</td>\n",
       "    </tr>\n",
       "  </tbody>\n",
       "</table>\n",
       "</div>"
      ],
      "text/plain": [
       "   cluster  customer_id  perc_customer  gross_revenue  recency_days  \\\n",
       "0        0         1073          24.76        2984.35         15.00   \n",
       "4        4          957          22.08         981.65         38.00   \n",
       "2        2          839          19.36         547.07         64.00   \n",
       "1        1          883          20.37         262.20         61.00   \n",
       "3        3          582          13.43         232.97        281.00   \n",
       "\n",
       "   qtd_purchases  qtd_products  \n",
       "0           8.00        119.00  \n",
       "4           4.00         47.00  \n",
       "2           2.00         30.00  \n",
       "1           1.00         17.00  \n",
       "3           1.00         14.00  "
      ]
     },
     "metadata": {},
     "output_type": "display_data"
    }
   ],
   "source": [
    "df_cluster = (df6_1[['customer_id', 'cluster']]\n",
    "                .groupby('cluster')\n",
    "                .count()\n",
    "                .reset_index()\n",
    ")\n",
    "df_cluster = df_cluster.assign(\n",
    "    perc_customer=100*(df_cluster['customer_id'] / \n",
    "                                            df_cluster['customer_id'].sum())\n",
    ")\n",
    "df_avg_gross_revenue = (df6_1[['cluster', 'gross_revenue']]\n",
    "                                    .groupby('cluster')\n",
    "                                    .median()\n",
    "                                    .reset_index()\n",
    ")\n",
    "df_cluster = pd.merge(\n",
    "    df_cluster, df_avg_gross_revenue, how='inner', on='cluster')\n",
    "\n",
    "# Avg recency\n",
    "df_recency = df6_1[['cluster', 'recency_days']].groupby(\n",
    "    'cluster').median().reset_index()\n",
    "df_cluster = pd.merge(\n",
    "    df_cluster, df_recency, how='inner', on='cluster')\n",
    "\n",
    "# Avg quantity of purchases\n",
    "df_recency = (df6_1[['cluster', 'qtd_purchases']]\n",
    "                .groupby('cluster')\n",
    "                .median()\n",
    "                .reset_index()\n",
    ")\n",
    "df_cluster = pd.merge(\n",
    "    df_cluster, df_recency, how='inner', on='cluster')\n",
    "\n",
    "# Avg quantity of products\n",
    "df_qtd_products = (df6_1[['cluster', 'qtd_products']]\n",
    "                            .groupby('cluster')\n",
    "                            .median()\n",
    "                            .reset_index()\n",
    ")\n",
    "df_cluster = pd.merge(\n",
    "    df_cluster, df_qtd_products, how='inner', on='cluster')\n",
    "\n",
    "df_cluster_result = df_cluster.sort_values(\n",
    "    by='gross_revenue', ascending=False)\n",
    "display(df_cluster_result)"
   ]
  },
  {
   "cell_type": "markdown",
   "id": "13ff2dd2",
   "metadata": {
    "ExecuteTime": {
     "end_time": "2023-02-27T15:24:16.717945Z",
     "start_time": "2023-02-27T15:24:16.714596Z"
    }
   },
   "source": [
    "Cluster 0 (Candidate of insiders)\n",
    "\n",
    "- Number of customers: 1073 (24.76%)\n",
    "- median of gross_revenue: £2607.07\n",
    "- median of Recency: 24 days\n",
    "- median of quantity of purchases in one year: 6 purchases\n",
    "- median of quantity of distinct products bought: 148 products\n",
    "\n",
    "Cluster 2 (Cluster spend more money)\n",
    "\n",
    "- Number of customers: 957 (22.08%)\n",
    "- median of gross_revenue: £1043.41\n",
    "- median of Recency: 65 days\n",
    "- median of quantity of purchases in one year: 3 purchases\n",
    "- median of quantity of distinct products bought: 50 products\n",
    "\n",
    "\n",
    "Cluster 4 (Cluster more products)\n",
    "\n",
    "- Number of customers: 839 (19.36%)\n",
    "- median of gross_revenue: £557.45\n",
    "- median of Recency: 65 days\n",
    "- median of quantity of purchases in one year: 2 purchases\n",
    "- median of quantity of distinct products bought: 30 products\n",
    "\n",
    "\n",
    "Cluster 3 (Cluster more purchases )\n",
    "\n",
    "- Number of customers: 883 (20.37%)\n",
    "- Average gross_revenue: £204.37\n",
    "- Average Recency: 70 days\n",
    "- Average of quantity of purchases in one year: 1 purchase\n",
    "- Average of quantity of distinct products bought: 15 products\n",
    "\n",
    "\n",
    "Cluster 1 (Cluster decrease recency days)\n",
    "- Number of customers: 582 (13.43%)\n",
    "- median of gross_revenue: £200.16\n",
    "- median of Recency: 282 days\n",
    "- median of quantity of purchases in one year: 1 purchase\n",
    "- median of quantity of distinct products bought: 13 products"
   ]
  },
  {
   "cell_type": "markdown",
   "id": "f57c353a",
   "metadata": {},
   "source": [
    "## **What actions can the marketing team make to increase the revenue?**"
   ]
  },
  {
   "cell_type": "markdown",
   "id": "e4d516e7",
   "metadata": {},
   "source": [
    "The idea is to bring other customers as close as possible of insiders cluster. Therefore, other customers need to improve their attribute depending on what cluster they are. Suggestion are the following:\n",
    "\n",
    "\n",
    "Cluster 2 (Cluster spend more money) - Cross-selling actions to increase gross revenue and number of distinct products.\n",
    "\n",
    "\n",
    "Cluster 4 (Cluster more products ) - Cross-selling actions to increase gross revenue and number of distinct products.\n",
    "\n",
    "\n",
    "Cluster 1 (Cluster more purchases) - Give coupons and discounts in next purchases\n",
    "\n",
    "\n",
    "Cluster 3 (Cluster decrease recency days) - e-mail showing sales and give coupons"
   ]
  },
  {
   "cell_type": "markdown",
   "id": "19089f88",
   "metadata": {},
   "source": [
    "One can reject the null hypothesis that gross_revenue, quantity of purchases and quantity of products mean of insiders customer are greater than others customers mean.\n",
    "\n",
    "Also, can reject the null hypothesis that recency days mean of insiders customers are lesser than others customers mean."
   ]
  },
  {
   "cell_type": "code",
   "execution_count": 40,
   "id": "8d83f20f",
   "metadata": {
    "ExecuteTime": {
     "end_time": "2023-05-21T10:08:49.700640Z",
     "start_time": "2023-05-21T10:08:49.687061Z"
    }
   },
   "outputs": [
    {
     "name": "stdout",
     "output_type": "stream",
     "text": [
      "P-value of the Hypothesis test of insiders gross revenue mean is greater than other customers:9.754590903592849e-26 \n",
      "\n",
      "P-value of the Hypothesis test of insiders recency days mean is lesser than other customers mean:3.403425770175691e-295\n",
      "\n",
      "P-value of the Hypothesis test of insiders quantity of purchases mean is greater than other customers mean:1.687209823768551e-90\n",
      "\n",
      "P-value of the Hypothesis test of insiders quantity of products mean is greater than other customers mean:1.687209823768551e-90\n",
      "\n"
     ]
    }
   ],
   "source": [
    "#T-test for gross revenue\n",
    "gross_revenue_insiders = df6_1[\n",
    "    df6_1['cluster'] == 0]['gross_revenue']\n",
    "gross_revenue_others = df6_1[\n",
    "    df6_1['cluster'] != 0]['gross_revenue']\n",
    "t_test_gross_revenue = ttest(\n",
    "    gross_revenue_insiders, gross_revenue_others,\n",
    "    equal_var=False, alternative='greater', random_state=42)\n",
    "\n",
    "#T-test for recency days\n",
    "recency_insiders = df6_1[\n",
    "    df6_1['cluster'] == 0]['recency_days']\n",
    "recency_others = df6_1[\n",
    "    df6_1['cluster'] != 0]['recency_days']\n",
    "t_test_recency = ttest(\n",
    "    recency_insiders, recency_others, \n",
    "    equal_var=False, alternative='less', random_state=42)\n",
    "\n",
    "#T-test for quantity of purchases\n",
    "qtd_purchases_insiders = df6_1[\n",
    "    df6_1['cluster'] == 0]['qtd_purchases']\n",
    "qtd_purchases_insiders_others = df6_1[\n",
    "    df6_1['cluster'] != 0]['qtd_purchases']\n",
    "t_test_qtd_purchases = ttest(\n",
    "    qtd_purchases_insiders, qtd_purchases_insiders_others,\n",
    "    equal_var=False, alternative='greater', random_state=42)\n",
    "\n",
    "\n",
    "#T-test for quantity of products\n",
    "qtd_products_insiders = df6_1[\n",
    "    df6_1['cluster'] == 0]['qtd_products']\n",
    "qtd_products_insiders_others = df6_1[\n",
    "    df6_1['cluster'] != 0]['qtd_products']\n",
    "t_test_qtd_products = ttest(\n",
    "    qtd_products_insiders, qtd_products_insiders_others,\n",
    "    equal_var=False, alternative='greater', random_state = 42)\n",
    "\n",
    "print('P-value of the Hypothesis test of insiders gross \\\n",
    "revenue mean is greater than other customers:{} \\n'.format(\n",
    "    t_test_gross_revenue.pvalue)\n",
    ")\n",
    "print('P-value of the Hypothesis test of insiders recency \\\n",
    "days mean is lesser than other customers mean:{}\\n'.format(\n",
    "    t_test_recency.pvalue)\n",
    ")\n",
    "print('P-value of the Hypothesis test of insiders quantity \\\n",
    "of purchases mean is greater than other customers mean:{}\\n'.format(\n",
    "    t_test_qtd_purchases.pvalue)\n",
    ")\n",
    "print('P-value of the Hypothesis test of insiders quantity \\\n",
    "of products mean is greater than other customers mean:{}\\n'.format(\n",
    "    t_test_qtd_purchases.pvalue)\n",
    ")"
   ]
  },
  {
   "cell_type": "markdown",
   "id": "0d9f4deb",
   "metadata": {},
   "source": [
    "# Exploratory analysis "
   ]
  },
  {
   "cell_type": "markdown",
   "id": "f8e913e3",
   "metadata": {},
   "source": [
    "## Mindmap Hypothesis"
   ]
  },
  {
   "cell_type": "code",
   "execution_count": null,
   "id": "e949e542",
   "metadata": {
    "ExecuteTime": {
     "end_time": "2023-03-05T14:43:22.244407Z",
     "start_time": "2023-03-05T14:43:22.237470Z"
    }
   },
   "outputs": [],
   "source": [
    "Image('mind_map.jpg')"
   ]
  },
  {
   "cell_type": "markdown",
   "id": "3339c050",
   "metadata": {
    "ExecuteTime": {
     "end_time": "2023-03-02T14:46:45.174160Z",
     "start_time": "2023-03-02T14:46:45.171585Z"
    }
   },
   "source": [
    "### Purchase hypothesis"
   ]
  },
  {
   "cell_type": "markdown",
   "id": "ca316e15",
   "metadata": {},
   "source": [
    "1 - Insiders customers use credit card in 80% of purchases\n",
    "\n",
    "2 - Insiders customers have ticket size 10% greater than cluster more products\n",
    "\n",
    "3 - Insiders customers have basket size greater than 5 products\n",
    "\n",
    "4 - Insiders customers contribute with more than 30% of the total gross revenue\n",
    "\n",
    "5 - Insiders customer purchase, on average, 7 times in a year\n",
    "\n",
    "6 - The median of insiders customers gross revenue is 30% greater than the median gross revenue"
   ]
  },
  {
   "cell_type": "markdown",
   "id": "e1a59e14",
   "metadata": {},
   "source": [
    "#### H4: Insiders customers contribute with more than 30% of total gross revenue "
   ]
  },
  {
   "cell_type": "code",
   "execution_count": 46,
   "id": "6d23487f",
   "metadata": {
    "ExecuteTime": {
     "end_time": "2023-05-21T12:51:36.313199Z",
     "start_time": "2023-05-21T12:51:36.308704Z"
    }
   },
   "outputs": [
    {
     "name": "stdout",
     "output_type": "stream",
     "text": [
      "Percentage of gross revenue of insiders customers: / 77%\n"
     ]
    }
   ],
   "source": [
    "insiders_revenue = round(\n",
    "    df6_1[df6_1['cluster'] == 0]['gross_revenue'].sum() / \\\n",
    "    df6_1['gross_revenue'].sum(), 2) \n",
    "\n",
    "print('Percentage of gross revenue of insiders customers: / {}%'.format(\n",
    "round(insiders_revenue*100 ), 0)\n",
    ")"
   ]
  },
  {
   "cell_type": "markdown",
   "id": "2f9214ed",
   "metadata": {},
   "source": [
    "True. Customers insiders represent 77% of total gross revenue. This means that 25% of customers contribute with 77% of revenue.  "
   ]
  },
  {
   "cell_type": "markdown",
   "id": "66bd2dab",
   "metadata": {},
   "source": [
    "#### H5: Insiders customer purchase, on average, more than 7 times in a year"
   ]
  },
  {
   "cell_type": "code",
   "execution_count": 47,
   "id": "f24f80db",
   "metadata": {
    "ExecuteTime": {
     "end_time": "2023-05-21T12:51:55.378909Z",
     "start_time": "2023-05-21T12:51:55.374356Z"
    },
    "scrolled": true
   },
   "outputs": [
    {
     "name": "stdout",
     "output_type": "stream",
     "text": [
      "Average number of purchases of insiders customers: 11.0\n"
     ]
    }
   ],
   "source": [
    "print('Average number of purchases of insiders customers: {}'.format(\n",
    "    round( df6_1[df6_1['cluster'] == 0]['qtd_purchases'].mean(), 0 )))"
   ]
  },
  {
   "cell_type": "markdown",
   "id": "4bc85050",
   "metadata": {},
   "source": [
    "True. Insiders customers purchase, on average, 11 times in a year"
   ]
  },
  {
   "cell_type": "markdown",
   "id": "b00d762d",
   "metadata": {},
   "source": [
    "#### H6: The median of insiders customers gross revenue is 30% greater than the median gross revenue"
   ]
  },
  {
   "cell_type": "code",
   "execution_count": 53,
   "id": "2fbb04a2",
   "metadata": {
    "ExecuteTime": {
     "end_time": "2023-05-21T12:52:24.379749Z",
     "start_time": "2023-05-21T12:52:24.373496Z"
    },
    "scrolled": true
   },
   "outputs": [
    {
     "name": "stdout",
     "output_type": "stream",
     "text": [
      "The median of insiders customers gross revenue:2984.35 \n",
      "\n",
      "The median of all customers gross revenue:668.125 \n",
      "\n",
      "The median of insiders customers gross revenue is approximately 4.0 times greater than the median gross revenue\n"
     ]
    }
   ],
   "source": [
    "insiders_gross_revenue_median = round(\n",
    "    df6_1[df6_1['cluster'] == 0]['gross_revenue'].median(),2)\n",
    "gross_revenue_median = df6_1['gross_revenue'].median()\n",
    "gross_revenue_median_diff = round(\n",
    "    ((insiders_gross_revenue_median - gross_revenue_median) /\n",
    "     gross_revenue_median), 0)\n",
    "\n",
    "print('The median of insiders customers gross revenue:{} \\n'.format(\n",
    "    insiders_gross_revenue_median)\n",
    ")\n",
    "print('The median of all customers gross revenue:{} \\n'.format(\n",
    "    gross_revenue_median)\n",
    ")\n",
    "print('The median of insiders customers gross revenue is \\\n",
    "approximately {} times greater than the median gross revenue'.format(\n",
    "    gross_revenue_median_diff + 1)\n",
    ")"
   ]
  },
  {
   "cell_type": "markdown",
   "id": "60cfdb19",
   "metadata": {},
   "source": [
    "True. The median of insiders customers gross revenue is approximately  300% (or 4 times) greater than gross revenue of all customers"
   ]
  },
  {
   "cell_type": "markdown",
   "id": "0006eca2",
   "metadata": {},
   "source": [
    "### Customer hypothesis"
   ]
  },
  {
   "cell_type": "markdown",
   "id": "b68ecd56",
   "metadata": {},
   "source": [
    "1 - 40% of insiders customers are single\n",
    "\n",
    "2 - 10% of insiders customers are between 24 and 35 years old\n",
    "\n",
    "3 -  70% of insiders customers are from UK\n",
    "\n",
    "4 - 60% of insiders customers are male\n",
    "\n",
    "5 - 50% of insiders customers have a bachelor degree"
   ]
  },
  {
   "cell_type": "markdown",
   "id": "6e77f3cd",
   "metadata": {},
   "source": [
    "### Products hypothesis"
   ]
  },
  {
   "cell_type": "markdown",
   "id": "ef0648b4",
   "metadata": {},
   "source": [
    "1 - The mean of quantity of distinct products bought from insiders costumers is 30% greater than the median of all other clusters\n",
    "\n",
    "2 - The median of product price bought from insiders customers is 15% greater than median of all other clusters\n",
    "\n",
    "3 - The cost mean of products bought from insiders customers is 20% greater than cost of all other clusters\n",
    "\n",
    "4 - The mean of weight products bought from insiders customers is 10% greater than weight of all other clusters\n",
    "\n",
    "5 - The mean of age product bought from insiders customers is less than 20 days"
   ]
  },
  {
   "cell_type": "markdown",
   "id": "2c93ed4f",
   "metadata": {},
   "source": [
    "#### H1: The median of quantity of distinct products bought from insiders costumers is 30% greater than the median of all other clusters"
   ]
  },
  {
   "cell_type": "code",
   "execution_count": 52,
   "id": "d7a6782a",
   "metadata": {
    "ExecuteTime": {
     "end_time": "2023-05-21T12:52:29.816988Z",
     "start_time": "2023-05-21T12:52:29.811293Z"
    },
    "scrolled": true
   },
   "outputs": [
    {
     "name": "stdout",
     "output_type": "stream",
     "text": [
      "The median of insiders customers gross revenue:119.0 \n",
      "\n",
      "The median of all customers gross revenue:35.0 \n",
      "\n",
      "The median of insiders customers quantity of distinct products bought is approximately 3.0 times greater than the median of all clusters\n"
     ]
    }
   ],
   "source": [
    "insiders_distinct_products_median = df6_1[\n",
    "    df6_1['cluster'] == 0]['qtd_products'].median()\n",
    "distinct_products_median = df6_1['qtd_products'].median()\n",
    "distinct_products_median_diff = round(\n",
    "    (insiders_distinct_products_median - distinct_products_median) /\n",
    "    distinct_products_median, 0)\n",
    "\n",
    "print('The median of insiders customers gross revenue:{} \\n'.format(\n",
    "    insiders_distinct_products_median)\n",
    ")\n",
    "print('The median of all customers gross revenue:{} \\n'.format(distinct_products_median)\n",
    ")\n",
    "print('The median of insiders customers quantity of distinct \\\n",
    "products bought is approximately {} times greater than the \\\n",
    "median of all clusters'.format(distinct_products_median_diff + 1)\n",
    ")"
   ]
  },
  {
   "cell_type": "markdown",
   "id": "235ca0f6",
   "metadata": {},
   "source": [
    "True. The median of insiders customer distinct products bought is approximately  300% (or 4 times) greater than the median of all customers distinct products"
   ]
  },
  {
   "cell_type": "markdown",
   "id": "887e3ce4",
   "metadata": {},
   "source": [
    "## Business questions"
   ]
  },
  {
   "cell_type": "markdown",
   "id": "1030d58f",
   "metadata": {},
   "source": [
    "Who are the eligible customers to participate in the Insiders program?\n",
    "    \n",
    "How many customers will be part of the program?\n",
    "\n",
    "What are the main characteristics of these customers?\n",
    "\n",
    "What revenue percentage comes from Insiders?\n",
    "\n",
    "What are the conditions for a customer to be eligible for the Insiders program?\n",
    "\n",
    "What are the conditions for a customer to be removed from the Insiders program?\n",
    "\n",
    "What is the guarantee that the Insiders program is better than the regular customer database?\n",
    "\n",
    "What actions can the marketing team make to increase the revenue?"
   ]
  },
  {
   "cell_type": "markdown",
   "id": "07125e07",
   "metadata": {},
   "source": [
    "**Who are the eligible customers to participate in the Insiders program?**"
   ]
  },
  {
   "cell_type": "code",
   "execution_count": 54,
   "id": "ccea33f8",
   "metadata": {
    "ExecuteTime": {
     "end_time": "2023-05-21T10:10:46.909196Z",
     "start_time": "2023-05-21T10:10:46.902849Z"
    }
   },
   "outputs": [
    {
     "data": {
      "text/plain": [
       "0       12346\n",
       "1       12347\n",
       "5       12352\n",
       "10      12357\n",
       "12      12359\n",
       "        ...  \n",
       "4303    18241\n",
       "4305    18245\n",
       "4313    18257\n",
       "4323    18272\n",
       "4332    18283\n",
       "Name: customer_id, Length: 1073, dtype: int64"
      ]
     },
     "execution_count": 54,
     "metadata": {},
     "output_type": "execute_result"
    }
   ],
   "source": [
    "df6_1.loc[(df6_1['cluster'] == 0) & \n",
    "          (df6_1['customer_id'] < 20000)]['customer_id']"
   ]
  },
  {
   "cell_type": "markdown",
   "id": "ecfb7d52",
   "metadata": {},
   "source": [
    "**How many customers will be part of the program?**"
   ]
  },
  {
   "cell_type": "code",
   "execution_count": 55,
   "id": "282b27e2",
   "metadata": {
    "ExecuteTime": {
     "end_time": "2023-05-21T10:10:53.200278Z",
     "start_time": "2023-05-21T10:10:53.195640Z"
    }
   },
   "outputs": [
    {
     "data": {
      "text/plain": [
       "1073"
      ]
     },
     "execution_count": 55,
     "metadata": {},
     "output_type": "execute_result"
    }
   ],
   "source": [
    "df6_1.loc[(df6_1['cluster'] == 0) & \n",
    "          (df6_1['customer_id'] < 20000)]['customer_id'].count()"
   ]
  },
  {
   "cell_type": "markdown",
   "id": "41d33ca2",
   "metadata": {},
   "source": [
    "**What are the main characteristics of these customers?**\n"
   ]
  },
  {
   "cell_type": "markdown",
   "id": "cb5f8865",
   "metadata": {},
   "source": [
    "Cluster 4 (Candidate of insiders)\n",
    "\n",
    "* Number of customers: 1007 (23.23%)\n",
    "* Median of gross_revenue: £2671.46\n",
    "* Median of Recency: 24 days\n",
    "* Median of quantity of purchases in one year: 6 purchases\n",
    "* Median of quantity of distinct products bought: 150 products"
   ]
  },
  {
   "cell_type": "markdown",
   "id": "c4b2053f",
   "metadata": {},
   "source": [
    "**What revenue percentage comes from Insiders?**"
   ]
  },
  {
   "cell_type": "code",
   "execution_count": 57,
   "id": "cce76eb8",
   "metadata": {
    "ExecuteTime": {
     "end_time": "2023-05-21T12:52:39.318383Z",
     "start_time": "2023-05-21T12:52:39.314836Z"
    }
   },
   "outputs": [
    {
     "name": "stdout",
     "output_type": "stream",
     "text": [
      "Percentage of gross revenue of insiders customers: 77%\n"
     ]
    }
   ],
   "source": [
    "print('Percentage of gross revenue of insiders \\\n",
    "customers: {}%'.format(round(insiders_revenue*100), 0))"
   ]
  },
  {
   "cell_type": "markdown",
   "id": "42e4987d",
   "metadata": {},
   "source": [
    "**What are the conditions for a customer to be eligible for the Insiders program?**"
   ]
  },
  {
   "cell_type": "markdown",
   "id": "08e191c2",
   "metadata": {},
   "source": [
    "To be a insider customer should have at least 3 out of the 4 main characteristics greater than the low value of the confidence interval.\n",
    "\n",
    "To calculate the confidence interval, one would use bootstrap for gross revenue.\n",
    "\n",
    "For recency days, the highest value would be the third quantile. \n",
    "\n",
    "The lowest value for quantity of products would be first quantile. \n",
    "\n",
    "For quantity of purchases, lowest value  would be the median"
   ]
  },
  {
   "cell_type": "code",
   "execution_count": null,
   "id": "580133ca",
   "metadata": {
    "ExecuteTime": {
     "end_time": "2023-05-21T10:11:20.631979Z",
     "start_time": "2023-05-21T10:11:20.271743Z"
    }
   },
   "outputs": [],
   "source": [
    "bt_gross_revenue_data = df6_1[\n",
    "    df6_1['cluster'] == 0]['gross_revenue']\n",
    "bt_gross_revenue_data = (bt_gross_revenue_data,)\n",
    "bt_gross_revenue = bootstrap(\n",
    "    bt_gross_revenue_data, np.median, random_state=42)\n",
    "\n",
    "quantile_25_purchases = df6_1[\n",
    "    df6_1['cluster'] == 0]['recency_days'].quantile(.75)\n",
    "\n",
    "quantile_25_purchases = df6_1[\n",
    "    df6_1['cluster'] == 0]['qtd_purchases'].quantile(.5)\n",
    "\n",
    "quantile_25_products = df6_1[\n",
    "    df6_1['cluster'] == 0]['qtd_products'].quantile(.25)"
   ]
  },
  {
   "cell_type": "markdown",
   "id": "9fd5eb4b",
   "metadata": {},
   "source": [
    "The minimum values of each attribute are the following:\n",
    "\n",
    "- For gross revenue > £2550\n",
    "- For recency days > 81 days\n",
    "- For quantity of purchases in a year > 6 purchases\n",
    "- For quantity of unique products > 92 different products"
   ]
  },
  {
   "cell_type": "markdown",
   "id": "a122ebfe",
   "metadata": {},
   "source": [
    "**What are the conditions for a customer to be removed from the Insiders program?**"
   ]
  },
  {
   "cell_type": "markdown",
   "id": "4e53e05d",
   "metadata": {},
   "source": [
    "To leave insiders program customer did not accomplish at least the minimum values in 3 out of 4 attributes to be a insider."
   ]
  },
  {
   "cell_type": "markdown",
   "id": "92424be1",
   "metadata": {},
   "source": [
    "**What is the guarantee that the Insiders program is better than the regular customer database?**"
   ]
  },
  {
   "cell_type": "markdown",
   "id": "b1184ac9",
   "metadata": {},
   "source": [
    "- The insiders customers gross revenue represent 75% of the total gross revenue of the company. \n",
    "\n",
    "- The median of insiders customers gross revenue is approximately 4 times greater than the median gross revenue of all customers.\n",
    "\n",
    "- They bought more distinct product, on average, than a regular customer. In fact, the median of insiders customers quantity of distinct products bought is approximately 4 times greater than the median of all clusters.\n",
    "\n",
    "- They make much more purchases in a year than a regular customer. The mean of purchases of a insider customer is 8 purchases, while the mean of rest of the customers is 2 purchases in a year.\n",
    "\n",
    "- The median of recency days of a insider customer is 24 days, while the other customers is 100 days.\n",
    "\n",
    "\n",
    "Also, statistical hypothesis on each of characteristics to compare mean of all customers except insiders and mean of insiders customers would be "
   ]
  }
 ],
 "metadata": {
  "hide_input": false,
  "kernelspec": {
   "display_name": "Python 3 (ipykernel)",
   "language": "python",
   "name": "python3"
  },
  "language_info": {
   "codemirror_mode": {
    "name": "ipython",
    "version": 3
   },
   "file_extension": ".py",
   "mimetype": "text/x-python",
   "name": "python",
   "nbconvert_exporter": "python",
   "pygments_lexer": "ipython3",
   "version": "3.10.9"
  },
  "toc": {
   "base_numbering": 1,
   "nav_menu": {},
   "number_sections": true,
   "sideBar": true,
   "skip_h1_title": false,
   "title_cell": "Table of Contents",
   "title_sidebar": "Contents",
   "toc_cell": false,
   "toc_position": {},
   "toc_section_display": true,
   "toc_window_display": false
  },
  "varInspector": {
   "cols": {
    "lenName": 16,
    "lenType": 16,
    "lenVar": 40
   },
   "kernels_config": {
    "python": {
     "delete_cmd_postfix": "",
     "delete_cmd_prefix": "del ",
     "library": "var_list.py",
     "varRefreshCmd": "print(var_dic_list())"
    },
    "r": {
     "delete_cmd_postfix": ") ",
     "delete_cmd_prefix": "rm(",
     "library": "var_list.r",
     "varRefreshCmd": "cat(var_dic_list()) "
    }
   },
   "types_to_exclude": [
    "module",
    "function",
    "builtin_function_or_method",
    "instance",
    "_Feature"
   ],
   "window_display": false
  }
 },
 "nbformat": 4,
 "nbformat_minor": 5
}
