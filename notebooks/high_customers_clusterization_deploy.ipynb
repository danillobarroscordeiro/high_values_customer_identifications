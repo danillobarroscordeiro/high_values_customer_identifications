{
 "cells": [
  {
   "cell_type": "markdown",
   "id": "ee3e48cb-bcf7-427b-bf52-bcba8dde7520",
   "metadata": {
    "execution": {
     "iopub.execute_input": "2023-02-15T12:02:37.011271Z",
     "iopub.status.busy": "2023-02-15T12:02:37.010987Z",
     "iopub.status.idle": "2023-02-15T12:02:41.293084Z",
     "shell.execute_reply": "2023-02-15T12:02:41.292242Z",
     "shell.execute_reply.started": "2023-02-15T12:02:37.011250Z"
    },
    "tags": []
   },
   "source": [
    "# Imports and helper functions"
   ]
  },
  {
   "cell_type": "code",
   "execution_count": 328,
   "id": "4042e3dd-e48c-4e1b-9f54-d3946065955c",
   "metadata": {
    "ExecuteTime": {
     "end_time": "2023-05-21T17:30:10.451023Z",
     "start_time": "2023-05-21T17:30:10.447513Z"
    },
    "execution": {
     "iopub.execute_input": "2023-02-21T12:35:53.289237Z",
     "iopub.status.busy": "2023-02-21T12:35:53.288998Z",
     "iopub.status.idle": "2023-02-21T12:35:53.293603Z",
     "shell.execute_reply": "2023-02-21T12:35:53.293132Z",
     "shell.execute_reply.started": "2023-02-21T12:35:53.289225Z"
    },
    "tags": []
   },
   "outputs": [],
   "source": [
    "import sqlalchemy\n",
    "import sqlite3\n",
    "from sklearn.cluster import KMeans\n",
    "import umap\n",
    "from sklearn.preprocessing import RobustScaler\n",
    "from sklearn.pipeline import Pipeline\n",
    "from datetime import datetime as dt\n",
    "from sklearn import metrics\n",
    "import seaborn as sns\n",
    "import snakecase\n",
    "import re\n",
    "import numpy as np\n",
    "import dtype_diet\n",
    "import pandas as pd\n",
    "pd.set_option('display.float_format', lambda x: '%.2f' % x)\n",
    "import joblib\n",
    "import s3fs\n",
    "from dotenv import load_dotenv\n",
    "import os"
   ]
  },
  {
   "cell_type": "markdown",
   "id": "bf328ef0-4e28-4af1-bd1f-fc0ada49809a",
   "metadata": {
    "tags": []
   },
   "source": [
    "# Loading data"
   ]
  },
  {
   "cell_type": "code",
   "execution_count": 2,
   "id": "2497e51d",
   "metadata": {
    "ExecuteTime": {
     "end_time": "2023-05-21T10:34:02.053628Z",
     "start_time": "2023-05-21T10:34:02.050364Z"
    }
   },
   "outputs": [],
   "source": [
    "AWS_ACCESS_KEY_ID = os.getenv('AWS_ACCESS_KEY_ID')\n",
    "AWS_SECRET_ACCESS_KEY = os.getenv('AWS_SECRET_ACCESS_KEY')\n",
    "s3 = s3fs.S3FileSystem(\n",
    "    anon=False, key=AWS_ACCESS_KEY_ID, secret=AWS_SECRET_ACCESS_KEY)"
   ]
  },
  {
   "cell_type": "code",
   "execution_count": 78,
   "id": "a0a6fdc8",
   "metadata": {
    "ExecuteTime": {
     "end_time": "2023-05-21T12:25:58.450574Z",
     "start_time": "2023-05-21T12:25:49.793049Z"
    }
   },
   "outputs": [],
   "source": [
    "load_dotenv()\n",
    " \n",
    "HOST = os.getenv('HOST')\n",
    "USER = os.getenv('USER')\n",
    "PASSWORD = os.getenv('PASSWORD')\n",
    "\n",
    "endpoint = 'postgresql://{}:{}@{}:5432/postgres'.format(USER, PASSWORD, HOST)\n",
    "\n",
    "conn = sqlalchemy.create_engine(endpoint).connect()\n",
    "\n",
    "query = \"\"\"\n",
    "SELECT * from customers\n",
    "\"\"\"\n",
    "\n",
    "df = pd.read_sql_query(sqlalchemy.text(query), con=conn)"
   ]
  },
  {
   "cell_type": "markdown",
   "id": "1d8555c3-f86c-4145-9f40-35031466b785",
   "metadata": {},
   "source": [
    "# Data Wrangling"
   ]
  },
  {
   "cell_type": "markdown",
   "id": "2ac61536-2807-4677-a37c-2a7af70f3add",
   "metadata": {},
   "source": [
    "## invoice_no"
   ]
  },
  {
   "cell_type": "code",
   "execution_count": 79,
   "id": "42a75d63-06e4-4969-b0bd-97090e2d54c1",
   "metadata": {
    "ExecuteTime": {
     "end_time": "2023-05-21T12:25:58.922861Z",
     "start_time": "2023-05-21T12:25:58.504428Z"
    },
    "execution": {
     "iopub.execute_input": "2023-02-21T12:10:36.008333Z",
     "iopub.status.busy": "2023-02-21T12:10:36.007739Z",
     "iopub.status.idle": "2023-02-21T12:10:36.400787Z",
     "shell.execute_reply": "2023-02-21T12:10:36.400307Z",
     "shell.execute_reply.started": "2023-02-21T12:10:36.008318Z"
    },
    "tags": []
   },
   "outputs": [],
   "source": [
    "df = df[~df['invoice_no']\n",
    "    .astype(str)\n",
    "    .apply(lambda x: bool(re.search('[^0-9]+', x)))\n",
    "]"
   ]
  },
  {
   "cell_type": "markdown",
   "id": "2d3c6847-1b00-4b44-a4a2-6af295806d56",
   "metadata": {
    "execution": {
     "iopub.execute_input": "2023-02-15T15:27:05.546068Z",
     "iopub.status.busy": "2023-02-15T15:27:05.545756Z",
     "iopub.status.idle": "2023-02-15T15:27:05.951918Z",
     "shell.execute_reply": "2023-02-15T15:27:05.951001Z",
     "shell.execute_reply.started": "2023-02-15T15:27:05.546047Z"
    },
    "tags": []
   },
   "source": [
    "## stock_code"
   ]
  },
  {
   "cell_type": "code",
   "execution_count": 80,
   "id": "a367bcd4-6af9-4604-b7af-ebcccb7a841f",
   "metadata": {
    "ExecuteTime": {
     "end_time": "2023-05-21T12:25:59.077263Z",
     "start_time": "2023-05-21T12:25:58.976480Z"
    },
    "execution": {
     "iopub.execute_input": "2023-02-21T12:10:37.295300Z",
     "iopub.status.busy": "2023-02-21T12:10:37.295000Z",
     "iopub.status.idle": "2023-02-21T12:10:37.656408Z",
     "shell.execute_reply": "2023-02-21T12:10:37.655903Z",
     "shell.execute_reply.started": "2023-02-21T12:10:37.295277Z"
    },
    "tags": []
   },
   "outputs": [],
   "source": [
    "df = df[~df['stock_code'].isin(\n",
    "    ['DOT', 'BANK CHARGES', 'AMAZONFEE', 'PADS', 'POST', 'M', 'D', 'm']\n",
    "    )\n",
    "]"
   ]
  },
  {
   "cell_type": "markdown",
   "id": "a073edbe-157a-4f20-b0db-48875bd26e91",
   "metadata": {},
   "source": [
    "## invoice_date"
   ]
  },
  {
   "cell_type": "code",
   "execution_count": 81,
   "id": "de9767f7",
   "metadata": {
    "ExecuteTime": {
     "end_time": "2023-05-21T12:26:01.457054Z",
     "start_time": "2023-05-21T12:25:59.130448Z"
    },
    "execution": {
     "iopub.execute_input": "2023-02-21T12:10:40.084131Z",
     "iopub.status.busy": "2023-02-21T12:10:40.083770Z",
     "iopub.status.idle": "2023-02-21T12:10:42.485181Z",
     "shell.execute_reply": "2023-02-21T12:10:42.484752Z",
     "shell.execute_reply.started": "2023-02-21T12:10:40.084118Z"
    },
    "tags": []
   },
   "outputs": [],
   "source": [
    "df['invoice_date'] = df['invoice_date'].apply(\n",
    "    lambda x: dt.strptime(x, '%d-%b-%y')\n",
    ")"
   ]
  },
  {
   "cell_type": "code",
   "execution_count": 82,
   "id": "58cbcbc0",
   "metadata": {
    "ExecuteTime": {
     "end_time": "2023-05-21T12:26:01.630673Z",
     "start_time": "2023-05-21T12:26:01.512664Z"
    },
    "execution": {
     "iopub.execute_input": "2023-02-21T12:10:46.628125Z",
     "iopub.status.busy": "2023-02-21T12:10:46.627940Z",
     "iopub.status.idle": "2023-02-21T12:10:46.659902Z",
     "shell.execute_reply": "2023-02-21T12:10:46.659381Z",
     "shell.execute_reply.started": "2023-02-21T12:10:46.628112Z"
    },
    "tags": []
   },
   "outputs": [],
   "source": [
    "df = df[df['quantity'] > 0]\n",
    "df = df[df['unit_price'] != 0]"
   ]
  },
  {
   "cell_type": "markdown",
   "id": "95086831-069b-4615-aa95-9181f27f33dc",
   "metadata": {
    "tags": []
   },
   "source": [
    "## Checking/Replace NAs"
   ]
  },
  {
   "cell_type": "code",
   "execution_count": 83,
   "id": "1fa8daa3-64cd-46ae-9432-093ab5ffe80a",
   "metadata": {
    "ExecuteTime": {
     "end_time": "2023-05-21T12:26:01.968509Z",
     "start_time": "2023-05-21T12:26:01.685273Z"
    },
    "execution": {
     "iopub.execute_input": "2023-02-21T12:10:48.477534Z",
     "iopub.status.busy": "2023-02-21T12:10:48.477016Z",
     "iopub.status.idle": "2023-02-21T12:10:48.623589Z",
     "shell.execute_reply": "2023-02-21T12:10:48.623025Z",
     "shell.execute_reply.started": "2023-02-21T12:10:48.477508Z"
    },
    "tags": []
   },
   "outputs": [],
   "source": [
    "df_aux = pd.DataFrame(\n",
    "    df[df['customer_id'].isna()]['invoice_no']\n",
    "    .drop_duplicates()\n",
    "    )\n",
    "df_aux = df_aux.assign(customer_id=np.arange(20000, 20000 + len(df_aux), 1))   \n",
    "\n",
    "\n",
    "df = pd.merge(df,df_aux, how='left', on='invoice_no')\n",
    "df['customer_id'] = (df['customer_id_x']\n",
    "                            .combine_first(df['customer_id_y'])\n",
    "                            .astype(int)\n",
    ")\n",
    "df = df.drop(columns=['customer_id_x', 'customer_id_y'], axis=1)"
   ]
  },
  {
   "cell_type": "markdown",
   "id": "385f3b75-a174-4c78-9a20-40c793142fb9",
   "metadata": {},
   "source": [
    "# Feature Engineering"
   ]
  },
  {
   "cell_type": "code",
   "execution_count": 84,
   "id": "2e690586-6dd0-479d-bcf9-d4f15a57a8ea",
   "metadata": {
    "ExecuteTime": {
     "end_time": "2023-05-21T12:26:04.468400Z",
     "start_time": "2023-05-21T12:26:04.445094Z"
    },
    "execution": {
     "iopub.execute_input": "2023-02-21T12:10:51.367827Z",
     "iopub.status.busy": "2023-02-21T12:10:51.367543Z",
     "iopub.status.idle": "2023-02-21T12:10:51.611815Z",
     "shell.execute_reply": "2023-02-21T12:10:51.611076Z",
     "shell.execute_reply.started": "2023-02-21T12:10:51.367805Z"
    },
    "tags": []
   },
   "outputs": [],
   "source": [
    "df1 = df.drop(columns=['description', 'country'])\n",
    "del(df)"
   ]
  },
  {
   "cell_type": "markdown",
   "id": "d63650f2-a2d7-424e-804e-35bd4b8e3df7",
   "metadata": {},
   "source": [
    "## Gross Revenue"
   ]
  },
  {
   "cell_type": "code",
   "execution_count": 86,
   "id": "a373df79",
   "metadata": {
    "ExecuteTime": {
     "end_time": "2023-05-21T12:26:17.506687Z",
     "start_time": "2023-05-21T12:26:17.321254Z"
    }
   },
   "outputs": [],
   "source": [
    "df_purchases = df1[['customer_id','invoice_no']].drop_duplicates()\n",
    "df1_aux = (df1.loc[:,['invoice_no','quantity','unit_price']]\n",
    "            .assign(gross_revenue=df1['quantity']*df1['unit_price'])\n",
    ")                   \n",
    "df1_aux = (df1_aux[['invoice_no','gross_revenue']]\n",
    "            .groupby('invoice_no')\n",
    "            .sum()\n",
    "            .reset_index()\n",
    ")\n",
    "df_purchases = pd.merge(df_purchases,df1_aux, how='left', on='invoice_no')\n",
    "df1_1 = (df_purchases[['customer_id','gross_revenue']]\n",
    "        .groupby('customer_id')\n",
    "        .sum()\n",
    "        .reset_index()\n",
    ")"
   ]
  },
  {
   "cell_type": "markdown",
   "id": "0b87876a-d7e6-4be3-a32e-8674b4b931ff",
   "metadata": {},
   "source": [
    "##  Recency"
   ]
  },
  {
   "cell_type": "code",
   "execution_count": 89,
   "id": "f66fe354-922d-4fbb-a3df-15137b037f14",
   "metadata": {
    "ExecuteTime": {
     "end_time": "2023-05-21T12:27:19.105863Z",
     "start_time": "2023-05-21T12:27:19.081833Z"
    },
    "execution": {
     "iopub.execute_input": "2023-02-21T12:10:58.019609Z",
     "iopub.status.busy": "2023-02-21T12:10:58.019343Z",
     "iopub.status.idle": "2023-02-21T12:10:58.048633Z",
     "shell.execute_reply": "2023-02-21T12:10:58.047994Z",
     "shell.execute_reply.started": "2023-02-21T12:10:58.019590Z"
    },
    "tags": []
   },
   "outputs": [],
   "source": [
    "df1_aux = (df1[['customer_id', 'invoice_date']]\n",
    "           .groupby('customer_id')\n",
    "           .max()\n",
    "           .reset_index()\n",
    ")\n",
    "df1_aux['recency_days'] = (df1['invoice_date'].max()\n",
    "                                                - df1_aux['invoice_date']).dt.days \n",
    "\n",
    "df1_1 = pd.merge(\n",
    "    df1_1, df1_aux[['customer_id', 'recency_days']],\n",
    "    on='customer_id', how='left')"
   ]
  },
  {
   "cell_type": "markdown",
   "id": "6bccb5b6-50d3-4746-a4e1-90439ea3d231",
   "metadata": {},
   "source": [
    "## Quantity of purchases"
   ]
  },
  {
   "cell_type": "code",
   "execution_count": 91,
   "id": "969fb8f6-061c-4cd7-b288-f6ff42fff505",
   "metadata": {
    "ExecuteTime": {
     "end_time": "2023-05-21T12:27:53.456236Z",
     "start_time": "2023-05-21T12:27:53.366494Z"
    },
    "execution": {
     "iopub.execute_input": "2023-02-21T12:10:59.009677Z",
     "iopub.status.busy": "2023-02-21T12:10:59.009402Z",
     "iopub.status.idle": "2023-02-21T12:10:59.070548Z",
     "shell.execute_reply": "2023-02-21T12:10:59.070075Z",
     "shell.execute_reply.started": "2023-02-21T12:10:59.009655Z"
    },
    "tags": []
   },
   "outputs": [],
   "source": [
    "df1_aux = (df1[['customer_id','invoice_no']]\n",
    "            .groupby('customer_id')\n",
    "            .nunique()\n",
    "            .reset_index()\n",
    "            .rename(columns={'invoice_no': 'qtd_purchases'})\n",
    ")\n",
    "df1_1 = pd.merge(df1_1, df1_aux, on='customer_id', how='left')"
   ]
  },
  {
   "cell_type": "markdown",
   "id": "10e948bf",
   "metadata": {},
   "source": [
    "## Quantity of products"
   ]
  },
  {
   "cell_type": "code",
   "execution_count": 92,
   "id": "aeb26c70",
   "metadata": {
    "ExecuteTime": {
     "end_time": "2023-05-21T12:27:55.582513Z",
     "start_time": "2023-05-21T12:27:55.446394Z"
    }
   },
   "outputs": [],
   "source": [
    "df1_aux = (df1[['customer_id', 'stock_code']]\n",
    "            .groupby('customer_id')\n",
    "            .nunique()\n",
    "            .reset_index()\n",
    "            .rename(columns={'stock_code':'qtd_products'})\n",
    ")\n",
    "df1_1 = pd.merge(df1_1, df1_aux, on='customer_id', how='left')"
   ]
  },
  {
   "cell_type": "markdown",
   "id": "ae9dda71",
   "metadata": {},
   "source": [
    "# Data Preparation"
   ]
  },
  {
   "cell_type": "code",
   "execution_count": 240,
   "id": "96e44f5e",
   "metadata": {
    "ExecuteTime": {
     "end_time": "2023-05-21T13:26:18.767268Z",
     "start_time": "2023-05-21T13:26:18.763587Z"
    }
   },
   "outputs": [],
   "source": [
    "df2 = df1_1.copy()\n",
    "df2 = df2.drop(columns='customer_id')\n",
    "del(df1)"
   ]
  },
  {
   "cell_type": "code",
   "execution_count": 241,
   "id": "7544e07d",
   "metadata": {
    "ExecuteTime": {
     "end_time": "2023-05-21T13:26:31.287615Z",
     "start_time": "2023-05-21T13:26:29.678313Z"
    }
   },
   "outputs": [],
   "source": [
    "# rs = RobustScaler()\n",
    "# df2['gross_revenue'] = rs.fit_transform(\n",
    "#     df2[['gross_revenue']].values)\n",
    "# joblib.dump(rs,s3.open(\n",
    "#     's3://insiders-customers-dataset/gross_revenue_scaler.pkl', 'wb')\n",
    "# )\n",
    "\n",
    "# df2['recency_days'] = rs.fit_transform(\n",
    "#     df2[['recency_days']].values)\n",
    "# joblib.dump(rs,s3.open(\n",
    "#     's3://insiders-customers-dataset/recency_days_scaler.pkl', 'wb')\n",
    "# )\n",
    "\n",
    "\n",
    "# df2['qtd_purchases'] = rs.fit_transform(\n",
    "#     df2[['qtd_purchases']].values)\n",
    "# joblib.dump(rs,s3.open(\n",
    "#     's3://insiders-customers-dataset/qtd_purchases_scaler.pkl', 'wb')\n",
    "# )\n",
    "\n",
    "\n",
    "# df2['qtd_products'] = rs.fit_transform(\n",
    "#     df2[['qtd_products']].values)\n",
    "# joblib.dump(rs,s3.open(\n",
    "#     's3://insiders-customers-dataset/qtd_products_scaler.pkl', 'wb')\n",
    "# )\n",
    "\n",
    "\n",
    "df2['gross_revenue'] = (joblib.load(\n",
    "    s3.open('s3://insiders-customers-dataset/gross_revenue_scaler.pkl', 'rb')\n",
    "     )\n",
    "    .transform(df2[['gross_revenue']].values)\n",
    ")\n",
    "\n",
    "\n",
    "df2['recency_days'] =  (joblib.load(\n",
    "    s3.open('s3://insiders-customers-dataset/recency_days_scaler.pkl', 'rb')\n",
    "     )\n",
    "    .transform(df2[['recency_days']].values)\n",
    ")\n",
    "\n",
    "\n",
    "df2['qtd_purchases'] =  (joblib.load(\n",
    "    s3.open('s3://insiders-customers-dataset/qtd_purchases_scaler.pkl', 'rb')\n",
    "     )\n",
    "    .transform(df2[['qtd_purchases']].values)\n",
    ")\n",
    "\n",
    "\n",
    "df2['qtd_products'] =  (joblib.load(\n",
    "    s3.open('s3://insiders-customers-dataset/qtd_products_scaler.pkl', 'rb')\n",
    "     )\n",
    "    .transform(df2[['qtd_products']].values)\n",
    ")"
   ]
  },
  {
   "cell_type": "code",
   "execution_count": 321,
   "id": "8359e67f",
   "metadata": {
    "ExecuteTime": {
     "end_time": "2023-05-21T16:35:12.361241Z",
     "start_time": "2023-05-21T16:35:09.373378Z"
    }
   },
   "outputs": [
    {
     "name": "stderr",
     "output_type": "stream",
     "text": [
      "Exception during reset or similar\n",
      "Traceback (most recent call last):\n",
      "  File \"/home/dbcordeiro/anaconda3/envs/high_value_customer_identification/lib/python3.10/site-packages/sqlalchemy/pool/base.py\", line 988, in _finalize_fairy\n",
      "    fairy._reset(\n",
      "  File \"/home/dbcordeiro/anaconda3/envs/high_value_customer_identification/lib/python3.10/site-packages/sqlalchemy/pool/base.py\", line 1437, in _reset\n",
      "    pool._dialect.do_rollback(self)\n",
      "  File \"/home/dbcordeiro/anaconda3/envs/high_value_customer_identification/lib/python3.10/site-packages/sqlalchemy/engine/default.py\", line 693, in do_rollback\n",
      "    dbapi_connection.rollback()\n",
      "psycopg2.OperationalError: SSL SYSCALL error: EOF detected\n",
      "\n"
     ]
    }
   ],
   "source": [
    "# pipeline = Pipeline(\n",
    "#     steps = [\n",
    "#         ('preprocessor', RobustScaler()),\n",
    "#         ('umap_reducer', umap.UMAP(random_state=42))\n",
    "#     ]\n",
    "# )\n",
    "# embedding_umap = pipeline.fit(df2)\n",
    "# joblib.dump(\n",
    "#     embedding_umap,s3.open('s3://insiders-customers-dataset/embedding_umap.pkl', 'wb')\n",
    "# )\n",
    "\n",
    "embedding_umap = (joblib.load(\n",
    "    s3.open('s3://insiders-customers-dataset/embedding_umap.pkl', 'rb')\n",
    "    )\n",
    "    .transform(df2)\n",
    ")\n",
    "\n",
    "df_umap = pd.DataFrame()\n",
    "df_umap['embedding_x'] = embedding_umap[:, 0]\n",
    "df_umap['embedding_y'] = embedding_umap[:, 1]"
   ]
  },
  {
   "cell_type": "markdown",
   "id": "980aae4a",
   "metadata": {},
   "source": [
    "# Model Training"
   ]
  },
  {
   "cell_type": "markdown",
   "id": "e4c1c636",
   "metadata": {},
   "source": [
    "## Final model"
   ]
  },
  {
   "cell_type": "code",
   "execution_count": 322,
   "id": "379c3475",
   "metadata": {
    "ExecuteTime": {
     "end_time": "2023-05-21T16:35:12.427943Z",
     "start_time": "2023-05-21T16:35:12.425526Z"
    }
   },
   "outputs": [],
   "source": [
    "df4 = df_umap"
   ]
  },
  {
   "cell_type": "code",
   "execution_count": 324,
   "id": "f20242f7",
   "metadata": {
    "ExecuteTime": {
     "end_time": "2023-05-21T16:35:49.026129Z",
     "start_time": "2023-05-21T16:35:48.104847Z"
    }
   },
   "outputs": [],
   "source": [
    "# kmeans_model = KMeans(n_clusters=5, random_state=42, init='k-means++').fit(df4)\n",
    "# joblib.dump(kmeans_model,\n",
    "#     s3.open('s3://insiders-customers-dataset/kmeans_model.pkl', 'wb')\n",
    "#     )\n",
    "\n",
    "labels  = joblib.load(\n",
    "    s3.open('s3://insiders-customers-dataset/kmeans_model.pkl', 'rb')\n",
    "    ).predict(df4)\n",
    "\n",
    "df4['cluster'] = labels"
   ]
  },
  {
   "cell_type": "markdown",
   "id": "69400f1d",
   "metadata": {},
   "source": [
    "# Cluster analysis"
   ]
  },
  {
   "cell_type": "markdown",
   "id": "72c74e2c",
   "metadata": {},
   "source": [
    "## Cluster profile"
   ]
  },
  {
   "cell_type": "code",
   "execution_count": 325,
   "id": "87d0e8a8",
   "metadata": {
    "ExecuteTime": {
     "end_time": "2023-05-21T16:35:53.951872Z",
     "start_time": "2023-05-21T16:35:53.904724Z"
    }
   },
   "outputs": [
    {
     "ename": "ValueError",
     "evalue": "Could not interpret value `cluster` for parameter `hue`",
     "output_type": "error",
     "traceback": [
      "\u001b[0;31m---------------------------------------------------------------------------\u001b[0m",
      "\u001b[0;31mValueError\u001b[0m                                Traceback (most recent call last)",
      "Cell \u001b[0;32mIn [325], line 1\u001b[0m\n\u001b[0;32m----> 1\u001b[0m \u001b[43msns\u001b[49m\u001b[38;5;241;43m.\u001b[39;49m\u001b[43mscatterplot\u001b[49m\u001b[43m(\u001b[49m\u001b[43mx\u001b[49m\u001b[38;5;241;43m=\u001b[39;49m\u001b[43m \u001b[49m\u001b[38;5;124;43m'\u001b[39;49m\u001b[38;5;124;43membedding_x\u001b[39;49m\u001b[38;5;124;43m'\u001b[39;49m\u001b[43m,\u001b[49m\u001b[43my\u001b[49m\u001b[38;5;241;43m=\u001b[39;49m\u001b[43m \u001b[49m\u001b[38;5;124;43m'\u001b[39;49m\u001b[38;5;124;43membedding_y\u001b[39;49m\u001b[38;5;124;43m'\u001b[39;49m\u001b[43m,\u001b[49m\u001b[43m \u001b[49m\u001b[43mhue\u001b[49m\u001b[38;5;241;43m=\u001b[39;49m\u001b[38;5;124;43m'\u001b[39;49m\u001b[38;5;124;43mcluster\u001b[39;49m\u001b[38;5;124;43m'\u001b[39;49m\u001b[43m,\u001b[49m\u001b[43mdata\u001b[49m\u001b[38;5;241;43m=\u001b[39;49m\u001b[43m \u001b[49m\u001b[43mdf4\u001b[49m\u001b[43m,\u001b[49m\u001b[43m \u001b[49m\u001b[43mpalette\u001b[49m\u001b[38;5;241;43m=\u001b[39;49m\u001b[38;5;124;43m'\u001b[39;49m\u001b[38;5;124;43mdeep\u001b[39;49m\u001b[38;5;124;43m'\u001b[39;49m\u001b[43m)\u001b[49m\n",
      "File \u001b[0;32m~/anaconda3/envs/high_value_customer_identification/lib/python3.10/site-packages/seaborn/relational.py:742\u001b[0m, in \u001b[0;36mscatterplot\u001b[0;34m(data, x, y, hue, size, style, palette, hue_order, hue_norm, sizes, size_order, size_norm, markers, style_order, legend, ax, **kwargs)\u001b[0m\n\u001b[1;32m    732\u001b[0m \u001b[38;5;28;01mdef\u001b[39;00m \u001b[38;5;21mscatterplot\u001b[39m(\n\u001b[1;32m    733\u001b[0m     data\u001b[38;5;241m=\u001b[39m\u001b[38;5;28;01mNone\u001b[39;00m, \u001b[38;5;241m*\u001b[39m,\n\u001b[1;32m    734\u001b[0m     x\u001b[38;5;241m=\u001b[39m\u001b[38;5;28;01mNone\u001b[39;00m, y\u001b[38;5;241m=\u001b[39m\u001b[38;5;28;01mNone\u001b[39;00m, hue\u001b[38;5;241m=\u001b[39m\u001b[38;5;28;01mNone\u001b[39;00m, size\u001b[38;5;241m=\u001b[39m\u001b[38;5;28;01mNone\u001b[39;00m, style\u001b[38;5;241m=\u001b[39m\u001b[38;5;28;01mNone\u001b[39;00m,\n\u001b[0;32m   (...)\u001b[0m\n\u001b[1;32m    738\u001b[0m     \u001b[38;5;241m*\u001b[39m\u001b[38;5;241m*\u001b[39mkwargs\n\u001b[1;32m    739\u001b[0m ):\n\u001b[1;32m    741\u001b[0m     variables \u001b[38;5;241m=\u001b[39m _ScatterPlotter\u001b[38;5;241m.\u001b[39mget_semantics(\u001b[38;5;28mlocals\u001b[39m())\n\u001b[0;32m--> 742\u001b[0m     p \u001b[38;5;241m=\u001b[39m \u001b[43m_ScatterPlotter\u001b[49m\u001b[43m(\u001b[49m\u001b[43mdata\u001b[49m\u001b[38;5;241;43m=\u001b[39;49m\u001b[43mdata\u001b[49m\u001b[43m,\u001b[49m\u001b[43m \u001b[49m\u001b[43mvariables\u001b[49m\u001b[38;5;241;43m=\u001b[39;49m\u001b[43mvariables\u001b[49m\u001b[43m,\u001b[49m\u001b[43m \u001b[49m\u001b[43mlegend\u001b[49m\u001b[38;5;241;43m=\u001b[39;49m\u001b[43mlegend\u001b[49m\u001b[43m)\u001b[49m\n\u001b[1;32m    744\u001b[0m     p\u001b[38;5;241m.\u001b[39mmap_hue(palette\u001b[38;5;241m=\u001b[39mpalette, order\u001b[38;5;241m=\u001b[39mhue_order, norm\u001b[38;5;241m=\u001b[39mhue_norm)\n\u001b[1;32m    745\u001b[0m     p\u001b[38;5;241m.\u001b[39mmap_size(sizes\u001b[38;5;241m=\u001b[39msizes, order\u001b[38;5;241m=\u001b[39msize_order, norm\u001b[38;5;241m=\u001b[39msize_norm)\n",
      "File \u001b[0;32m~/anaconda3/envs/high_value_customer_identification/lib/python3.10/site-packages/seaborn/relational.py:538\u001b[0m, in \u001b[0;36m_ScatterPlotter.__init__\u001b[0;34m(self, data, variables, legend)\u001b[0m\n\u001b[1;32m    529\u001b[0m \u001b[38;5;28;01mdef\u001b[39;00m \u001b[38;5;21m__init__\u001b[39m(\u001b[38;5;28mself\u001b[39m, \u001b[38;5;241m*\u001b[39m, data\u001b[38;5;241m=\u001b[39m\u001b[38;5;28;01mNone\u001b[39;00m, variables\u001b[38;5;241m=\u001b[39m{}, legend\u001b[38;5;241m=\u001b[39m\u001b[38;5;28;01mNone\u001b[39;00m):\n\u001b[1;32m    530\u001b[0m \n\u001b[1;32m    531\u001b[0m     \u001b[38;5;66;03m# TODO this is messy, we want the mapping to be agnostic about\u001b[39;00m\n\u001b[1;32m    532\u001b[0m     \u001b[38;5;66;03m# the kind of plot to draw, but for the time being we need to set\u001b[39;00m\n\u001b[1;32m    533\u001b[0m     \u001b[38;5;66;03m# this information so the SizeMapping can use it\u001b[39;00m\n\u001b[1;32m    534\u001b[0m     \u001b[38;5;28mself\u001b[39m\u001b[38;5;241m.\u001b[39m_default_size_range \u001b[38;5;241m=\u001b[39m (\n\u001b[1;32m    535\u001b[0m         np\u001b[38;5;241m.\u001b[39mr_[\u001b[38;5;241m.5\u001b[39m, \u001b[38;5;241m2\u001b[39m] \u001b[38;5;241m*\u001b[39m np\u001b[38;5;241m.\u001b[39msquare(mpl\u001b[38;5;241m.\u001b[39mrcParams[\u001b[38;5;124m\"\u001b[39m\u001b[38;5;124mlines.markersize\u001b[39m\u001b[38;5;124m\"\u001b[39m])\n\u001b[1;32m    536\u001b[0m     )\n\u001b[0;32m--> 538\u001b[0m     \u001b[38;5;28;43msuper\u001b[39;49m\u001b[43m(\u001b[49m\u001b[43m)\u001b[49m\u001b[38;5;241;43m.\u001b[39;49m\u001b[38;5;21;43m__init__\u001b[39;49m\u001b[43m(\u001b[49m\u001b[43mdata\u001b[49m\u001b[38;5;241;43m=\u001b[39;49m\u001b[43mdata\u001b[49m\u001b[43m,\u001b[49m\u001b[43m \u001b[49m\u001b[43mvariables\u001b[49m\u001b[38;5;241;43m=\u001b[39;49m\u001b[43mvariables\u001b[49m\u001b[43m)\u001b[49m\n\u001b[1;32m    540\u001b[0m     \u001b[38;5;28mself\u001b[39m\u001b[38;5;241m.\u001b[39mlegend \u001b[38;5;241m=\u001b[39m legend\n",
      "File \u001b[0;32m~/anaconda3/envs/high_value_customer_identification/lib/python3.10/site-packages/seaborn/_oldcore.py:640\u001b[0m, in \u001b[0;36mVectorPlotter.__init__\u001b[0;34m(self, data, variables)\u001b[0m\n\u001b[1;32m    635\u001b[0m \u001b[38;5;66;03m# var_ordered is relevant only for categorical axis variables, and may\u001b[39;00m\n\u001b[1;32m    636\u001b[0m \u001b[38;5;66;03m# be better handled by an internal axis information object that tracks\u001b[39;00m\n\u001b[1;32m    637\u001b[0m \u001b[38;5;66;03m# such information and is set up by the scale_* methods. The analogous\u001b[39;00m\n\u001b[1;32m    638\u001b[0m \u001b[38;5;66;03m# information for numeric axes would be information about log scales.\u001b[39;00m\n\u001b[1;32m    639\u001b[0m \u001b[38;5;28mself\u001b[39m\u001b[38;5;241m.\u001b[39m_var_ordered \u001b[38;5;241m=\u001b[39m {\u001b[38;5;124m\"\u001b[39m\u001b[38;5;124mx\u001b[39m\u001b[38;5;124m\"\u001b[39m: \u001b[38;5;28;01mFalse\u001b[39;00m, \u001b[38;5;124m\"\u001b[39m\u001b[38;5;124my\u001b[39m\u001b[38;5;124m\"\u001b[39m: \u001b[38;5;28;01mFalse\u001b[39;00m}  \u001b[38;5;66;03m# alt., used DefaultDict\u001b[39;00m\n\u001b[0;32m--> 640\u001b[0m \u001b[38;5;28;43mself\u001b[39;49m\u001b[38;5;241;43m.\u001b[39;49m\u001b[43massign_variables\u001b[49m\u001b[43m(\u001b[49m\u001b[43mdata\u001b[49m\u001b[43m,\u001b[49m\u001b[43m \u001b[49m\u001b[43mvariables\u001b[49m\u001b[43m)\u001b[49m\n\u001b[1;32m    642\u001b[0m \u001b[38;5;28;01mfor\u001b[39;00m var, \u001b[38;5;28mcls\u001b[39m \u001b[38;5;129;01min\u001b[39;00m \u001b[38;5;28mself\u001b[39m\u001b[38;5;241m.\u001b[39m_semantic_mappings\u001b[38;5;241m.\u001b[39mitems():\n\u001b[1;32m    643\u001b[0m \n\u001b[1;32m    644\u001b[0m     \u001b[38;5;66;03m# Create the mapping function\u001b[39;00m\n\u001b[1;32m    645\u001b[0m     map_func \u001b[38;5;241m=\u001b[39m partial(\u001b[38;5;28mcls\u001b[39m\u001b[38;5;241m.\u001b[39mmap, plotter\u001b[38;5;241m=\u001b[39m\u001b[38;5;28mself\u001b[39m)\n",
      "File \u001b[0;32m~/anaconda3/envs/high_value_customer_identification/lib/python3.10/site-packages/seaborn/_oldcore.py:701\u001b[0m, in \u001b[0;36mVectorPlotter.assign_variables\u001b[0;34m(self, data, variables)\u001b[0m\n\u001b[1;32m    699\u001b[0m \u001b[38;5;28;01melse\u001b[39;00m:\n\u001b[1;32m    700\u001b[0m     \u001b[38;5;28mself\u001b[39m\u001b[38;5;241m.\u001b[39minput_format \u001b[38;5;241m=\u001b[39m \u001b[38;5;124m\"\u001b[39m\u001b[38;5;124mlong\u001b[39m\u001b[38;5;124m\"\u001b[39m\n\u001b[0;32m--> 701\u001b[0m     plot_data, variables \u001b[38;5;241m=\u001b[39m \u001b[38;5;28;43mself\u001b[39;49m\u001b[38;5;241;43m.\u001b[39;49m\u001b[43m_assign_variables_longform\u001b[49m\u001b[43m(\u001b[49m\n\u001b[1;32m    702\u001b[0m \u001b[43m        \u001b[49m\u001b[43mdata\u001b[49m\u001b[43m,\u001b[49m\u001b[43m \u001b[49m\u001b[38;5;241;43m*\u001b[39;49m\u001b[38;5;241;43m*\u001b[39;49m\u001b[43mvariables\u001b[49m\u001b[43m,\u001b[49m\n\u001b[1;32m    703\u001b[0m \u001b[43m    \u001b[49m\u001b[43m)\u001b[49m\n\u001b[1;32m    705\u001b[0m \u001b[38;5;28mself\u001b[39m\u001b[38;5;241m.\u001b[39mplot_data \u001b[38;5;241m=\u001b[39m plot_data\n\u001b[1;32m    706\u001b[0m \u001b[38;5;28mself\u001b[39m\u001b[38;5;241m.\u001b[39mvariables \u001b[38;5;241m=\u001b[39m variables\n",
      "File \u001b[0;32m~/anaconda3/envs/high_value_customer_identification/lib/python3.10/site-packages/seaborn/_oldcore.py:938\u001b[0m, in \u001b[0;36mVectorPlotter._assign_variables_longform\u001b[0;34m(self, data, **kwargs)\u001b[0m\n\u001b[1;32m    933\u001b[0m \u001b[38;5;28;01melif\u001b[39;00m \u001b[38;5;28misinstance\u001b[39m(val, (\u001b[38;5;28mstr\u001b[39m, \u001b[38;5;28mbytes\u001b[39m)):\n\u001b[1;32m    934\u001b[0m \n\u001b[1;32m    935\u001b[0m     \u001b[38;5;66;03m# This looks like a column name but we don't know what it means!\u001b[39;00m\n\u001b[1;32m    937\u001b[0m     err \u001b[38;5;241m=\u001b[39m \u001b[38;5;124mf\u001b[39m\u001b[38;5;124m\"\u001b[39m\u001b[38;5;124mCould not interpret value `\u001b[39m\u001b[38;5;132;01m{\u001b[39;00mval\u001b[38;5;132;01m}\u001b[39;00m\u001b[38;5;124m` for parameter `\u001b[39m\u001b[38;5;132;01m{\u001b[39;00mkey\u001b[38;5;132;01m}\u001b[39;00m\u001b[38;5;124m`\u001b[39m\u001b[38;5;124m\"\u001b[39m\n\u001b[0;32m--> 938\u001b[0m     \u001b[38;5;28;01mraise\u001b[39;00m \u001b[38;5;167;01mValueError\u001b[39;00m(err)\n\u001b[1;32m    940\u001b[0m \u001b[38;5;28;01melse\u001b[39;00m:\n\u001b[1;32m    941\u001b[0m \n\u001b[1;32m    942\u001b[0m     \u001b[38;5;66;03m# Otherwise, assume the value is itself data\u001b[39;00m\n\u001b[1;32m    943\u001b[0m \n\u001b[1;32m    944\u001b[0m     \u001b[38;5;66;03m# Raise when data object is present and a vector can't matched\u001b[39;00m\n\u001b[1;32m    945\u001b[0m     \u001b[38;5;28;01mif\u001b[39;00m \u001b[38;5;28misinstance\u001b[39m(data, pd\u001b[38;5;241m.\u001b[39mDataFrame) \u001b[38;5;129;01mand\u001b[39;00m \u001b[38;5;129;01mnot\u001b[39;00m \u001b[38;5;28misinstance\u001b[39m(val, pd\u001b[38;5;241m.\u001b[39mSeries):\n",
      "\u001b[0;31mValueError\u001b[0m: Could not interpret value `cluster` for parameter `hue`"
     ]
    }
   ],
   "source": [
    "sns.scatterplot(x= 'embedding_x',y= 'embedding_y', hue='cluster',data= df4, palette='deep');"
   ]
  },
  {
   "cell_type": "code",
   "execution_count": 307,
   "id": "947e7762",
   "metadata": {
    "ExecuteTime": {
     "end_time": "2023-05-21T16:33:09.833299Z",
     "start_time": "2023-05-21T16:33:09.157219Z"
    }
   },
   "outputs": [
    {
     "data": {
      "text/plain": [
       "0.5251477907428741"
      ]
     },
     "execution_count": 307,
     "metadata": {},
     "output_type": "execute_result"
    }
   ],
   "source": [
    "final_metric = metrics.silhouette_score(df4, labels=labels, metric='euclidean')\n",
    "final_metric"
   ]
  },
  {
   "cell_type": "code",
   "execution_count": 326,
   "id": "64a39376",
   "metadata": {
    "ExecuteTime": {
     "end_time": "2023-05-21T16:36:04.130643Z",
     "start_time": "2023-05-21T16:36:04.125597Z"
    }
   },
   "outputs": [],
   "source": [
    "#removing fake customers\n",
    "df5 = df1_1.copy()\n",
    "df5['cluster'] = labels\n",
    "df5 = df5[df5['customer_id'] < 20000]\n",
    "df5['cluster_date'] = dt.strftime(dt.now(), '%y-%b-%d')"
   ]
  },
  {
   "cell_type": "code",
   "execution_count": 327,
   "id": "d0733c5d",
   "metadata": {
    "ExecuteTime": {
     "end_time": "2023-05-21T16:36:05.378434Z",
     "start_time": "2023-05-21T16:36:05.356291Z"
    }
   },
   "outputs": [
    {
     "data": {
      "text/html": [
       "<div>\n",
       "<style scoped>\n",
       "    .dataframe tbody tr th:only-of-type {\n",
       "        vertical-align: middle;\n",
       "    }\n",
       "\n",
       "    .dataframe tbody tr th {\n",
       "        vertical-align: top;\n",
       "    }\n",
       "\n",
       "    .dataframe thead th {\n",
       "        text-align: right;\n",
       "    }\n",
       "</style>\n",
       "<table border=\"1\" class=\"dataframe\">\n",
       "  <thead>\n",
       "    <tr style=\"text-align: right;\">\n",
       "      <th></th>\n",
       "      <th>cluster</th>\n",
       "      <th>customer_id</th>\n",
       "      <th>perc_customer</th>\n",
       "      <th>gross_revenue</th>\n",
       "      <th>recency_days</th>\n",
       "      <th>qtd_purchases</th>\n",
       "      <th>qtd_products</th>\n",
       "    </tr>\n",
       "  </thead>\n",
       "  <tbody>\n",
       "    <tr>\n",
       "      <th>0</th>\n",
       "      <td>0</td>\n",
       "      <td>1073</td>\n",
       "      <td>24.76</td>\n",
       "      <td>2984.35</td>\n",
       "      <td>15.00</td>\n",
       "      <td>8.00</td>\n",
       "      <td>119.00</td>\n",
       "    </tr>\n",
       "    <tr>\n",
       "      <th>4</th>\n",
       "      <td>4</td>\n",
       "      <td>957</td>\n",
       "      <td>22.08</td>\n",
       "      <td>981.65</td>\n",
       "      <td>38.00</td>\n",
       "      <td>4.00</td>\n",
       "      <td>47.00</td>\n",
       "    </tr>\n",
       "    <tr>\n",
       "      <th>2</th>\n",
       "      <td>2</td>\n",
       "      <td>839</td>\n",
       "      <td>19.36</td>\n",
       "      <td>547.07</td>\n",
       "      <td>64.00</td>\n",
       "      <td>2.00</td>\n",
       "      <td>30.00</td>\n",
       "    </tr>\n",
       "    <tr>\n",
       "      <th>1</th>\n",
       "      <td>1</td>\n",
       "      <td>883</td>\n",
       "      <td>20.37</td>\n",
       "      <td>262.20</td>\n",
       "      <td>61.00</td>\n",
       "      <td>1.00</td>\n",
       "      <td>17.00</td>\n",
       "    </tr>\n",
       "    <tr>\n",
       "      <th>3</th>\n",
       "      <td>3</td>\n",
       "      <td>582</td>\n",
       "      <td>13.43</td>\n",
       "      <td>232.97</td>\n",
       "      <td>281.00</td>\n",
       "      <td>1.00</td>\n",
       "      <td>14.00</td>\n",
       "    </tr>\n",
       "  </tbody>\n",
       "</table>\n",
       "</div>"
      ],
      "text/plain": [
       "   cluster  customer_id  perc_customer  gross_revenue  recency_days  \\\n",
       "0        0         1073          24.76        2984.35         15.00   \n",
       "4        4          957          22.08         981.65         38.00   \n",
       "2        2          839          19.36         547.07         64.00   \n",
       "1        1          883          20.37         262.20         61.00   \n",
       "3        3          582          13.43         232.97        281.00   \n",
       "\n",
       "   qtd_purchases  qtd_products  \n",
       "0           8.00        119.00  \n",
       "4           4.00         47.00  \n",
       "2           2.00         30.00  \n",
       "1           1.00         17.00  \n",
       "3           1.00         14.00  "
      ]
     },
     "metadata": {},
     "output_type": "display_data"
    }
   ],
   "source": [
    "df_cluster = (df5[['customer_id', 'cluster']]\n",
    "                .groupby('cluster')\n",
    "                .count()\n",
    "                .reset_index()\n",
    ")\n",
    "df_cluster = df_cluster.assign(\n",
    "    perc_customer=100*(df_cluster['customer_id'] / \n",
    "                                            df_cluster['customer_id'].sum())\n",
    ")\n",
    "df_avg_gross_revenue = (df5[['cluster', 'gross_revenue']]\n",
    "                                    .groupby('cluster')\n",
    "                                    .median()\n",
    "                                    .reset_index()\n",
    ")\n",
    "df_cluster = pd.merge(\n",
    "    df_cluster, df_avg_gross_revenue, how='inner', on='cluster')\n",
    "\n",
    "# Avg recency\n",
    "df_recency = df5[['cluster', 'recency_days']].groupby(\n",
    "    'cluster').median().reset_index()\n",
    "df_cluster = pd.merge(\n",
    "    df_cluster, df_recency, how='inner', on='cluster')\n",
    "\n",
    "# Avg quantity of purchases\n",
    "df_recency = (df5[['cluster', 'qtd_purchases']]\n",
    "                .groupby('cluster')\n",
    "                .median()\n",
    "                .reset_index()\n",
    ")\n",
    "df_cluster = pd.merge(\n",
    "    df_cluster, df_recency, how='inner', on='cluster')\n",
    "\n",
    "# Avg quantity of products\n",
    "df_qtd_products = (df5[['cluster', 'qtd_products']]\n",
    "                            .groupby('cluster')\n",
    "                            .median()\n",
    "                            .reset_index()\n",
    ")\n",
    "df_cluster = pd.merge(\n",
    "    df_cluster, df_qtd_products, how='inner', on='cluster')\n",
    "\n",
    "df_cluster_result = df_cluster.sort_values(\n",
    "    by='gross_revenue', ascending=False)\n",
    "display(df_cluster_result)"
   ]
  },
  {
   "cell_type": "markdown",
   "id": "ae29b866",
   "metadata": {},
   "source": [
    "# Deploy to production"
   ]
  },
  {
   "cell_type": "markdown",
   "id": "3a698c7f",
   "metadata": {},
   "source": [
    "## Insert into SQLITE"
   ]
  },
  {
   "cell_type": "code",
   "execution_count": 292,
   "id": "5a756226",
   "metadata": {
    "ExecuteTime": {
     "end_time": "2023-05-21T14:05:04.098113Z",
     "start_time": "2023-05-21T14:05:04.095530Z"
    }
   },
   "outputs": [],
   "source": [
    "query_drop_table = \"\"\"\n",
    "CREATE TABLE insiders (\n",
    "    customer_id INT,\n",
    "    gross_revenue REAL,\n",
    "    recency_days INT,\n",
    "    qtd_purcases INT,\n",
    "    qtd_products INT,\n",
    "    cluster INT,\n",
    "    cluster_date VARCHAR(20)\n",
    ")\n",
    "\"\"\""
   ]
  },
  {
   "cell_type": "code",
   "execution_count": 293,
   "id": "733dc64e",
   "metadata": {
    "ExecuteTime": {
     "end_time": "2023-05-21T14:05:10.804504Z",
     "start_time": "2023-05-21T14:05:08.294729Z"
    }
   },
   "outputs": [],
   "source": [
    "load_dotenv()\n",
    " \n",
    "host = os.getenv('HOST')\n",
    "user = os.getenv('USER')\n",
    "password = os.getenv('PASSWORD')\n",
    "\n",
    "endpoint = 'postgresql://{}:{}@{}:5432/postgres'.format(user, password, host)\n",
    "\n",
    "conn = sqlalchemy.create_engine(endpoint).connect()\n",
    "conn.execute(sqlalchemy.text(query_drop_table))\n",
    "conn.commit()\n",
    "conn.close()"
   ]
  },
  {
   "cell_type": "code",
   "execution_count": 294,
   "id": "5af88220",
   "metadata": {
    "ExecuteTime": {
     "end_time": "2023-05-21T14:05:43.074826Z",
     "start_time": "2023-05-21T14:05:36.021621Z"
    },
    "scrolled": false
   },
   "outputs": [
    {
     "data": {
      "text/plain": [
       "334"
      ]
     },
     "execution_count": 294,
     "metadata": {},
     "output_type": "execute_result"
    }
   ],
   "source": [
    "load_dotenv()\n",
    " \n",
    "host = os.getenv('HOST')\n",
    "user = os.getenv('USER')\n",
    "password = os.getenv('PASSWORD')\n",
    "\n",
    "endpoint = 'postgresql://{}:{}@{}:5432/postgres'.format(user, password, host)\n",
    "\n",
    "conn = sqlalchemy.create_engine(endpoint)\n",
    "# conn.connect()\n",
    "# conn.execute(sqlalchemy.text(query_create_table))\n",
    "# conn.commit()\n",
    "# conn.close()\n",
    "\n",
    "\n",
    "df5.to_sql(\n",
    "    'insiders', con=conn, if_exists='replace', index=False)"
   ]
  }
 ],
 "metadata": {
  "hide_input": false,
  "kernelspec": {
   "display_name": "Python 3 (ipykernel)",
   "language": "python",
   "name": "python3"
  },
  "language_info": {
   "codemirror_mode": {
    "name": "ipython",
    "version": 3
   },
   "file_extension": ".py",
   "mimetype": "text/x-python",
   "name": "python",
   "nbconvert_exporter": "python",
   "pygments_lexer": "ipython3",
   "version": "3.10.9"
  },
  "toc": {
   "base_numbering": 1,
   "nav_menu": {},
   "number_sections": true,
   "sideBar": true,
   "skip_h1_title": false,
   "title_cell": "Table of Contents",
   "title_sidebar": "Contents",
   "toc_cell": false,
   "toc_position": {},
   "toc_section_display": true,
   "toc_window_display": false
  },
  "varInspector": {
   "cols": {
    "lenName": 16,
    "lenType": 16,
    "lenVar": 40
   },
   "kernels_config": {
    "python": {
     "delete_cmd_postfix": "",
     "delete_cmd_prefix": "del ",
     "library": "var_list.py",
     "varRefreshCmd": "print(var_dic_list())"
    },
    "r": {
     "delete_cmd_postfix": ") ",
     "delete_cmd_prefix": "rm(",
     "library": "var_list.r",
     "varRefreshCmd": "cat(var_dic_list()) "
    }
   },
   "types_to_exclude": [
    "module",
    "function",
    "builtin_function_or_method",
    "instance",
    "_Feature"
   ],
   "window_display": false
  }
 },
 "nbformat": 4,
 "nbformat_minor": 5
}
