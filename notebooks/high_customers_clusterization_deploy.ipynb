{
 "cells": [
  {
   "cell_type": "markdown",
   "id": "ee3e48cb-bcf7-427b-bf52-bcba8dde7520",
   "metadata": {
    "execution": {
     "iopub.execute_input": "2023-02-15T12:02:37.011271Z",
     "iopub.status.busy": "2023-02-15T12:02:37.010987Z",
     "iopub.status.idle": "2023-02-15T12:02:41.293084Z",
     "shell.execute_reply": "2023-02-15T12:02:41.292242Z",
     "shell.execute_reply.started": "2023-02-15T12:02:37.011250Z"
    },
    "tags": []
   },
   "source": [
    "# Imports and helper functions"
   ]
  },
  {
   "cell_type": "code",
   "execution_count": null,
   "id": "4042e3dd-e48c-4e1b-9f54-d3946065955c",
   "metadata": {
    "ExecuteTime": {
     "end_time": "2023-05-21T17:30:10.451023Z",
     "start_time": "2023-05-21T17:30:10.447513Z"
    },
    "execution": {
     "iopub.execute_input": "2023-02-21T12:35:53.289237Z",
     "iopub.status.busy": "2023-02-21T12:35:53.288998Z",
     "iopub.status.idle": "2023-02-21T12:35:53.293603Z",
     "shell.execute_reply": "2023-02-21T12:35:53.293132Z",
     "shell.execute_reply.started": "2023-02-21T12:35:53.289225Z"
    },
    "tags": []
   },
   "outputs": [],
   "source": [
    "import sqlalchemy\n",
    "import sqlite3\n",
    "from sklearn.cluster import KMeans\n",
    "import umap\n",
    "from sklearn.preprocessing import RobustScaler\n",
    "from sklearn.pipeline import Pipeline\n",
    "from datetime import datetime as dt\n",
    "from sklearn import metrics\n",
    "import seaborn as sns\n",
    "import re\n",
    "import numpy as np\n",
    "import pandas as pd\n",
    "pd.set_option('display.float_format', lambda x: '%.2f' % x)\n",
    "import joblib\n",
    "import s3fs\n",
    "from dotenv import load_dotenv\n",
    "import os"
   ]
  },
  {
   "cell_type": "markdown",
   "id": "bf328ef0-4e28-4af1-bd1f-fc0ada49809a",
   "metadata": {
    "tags": []
   },
   "source": [
    "# Loading data"
   ]
  },
  {
   "cell_type": "code",
   "execution_count": null,
   "id": "2497e51d",
   "metadata": {
    "ExecuteTime": {
     "end_time": "2023-05-21T10:34:02.053628Z",
     "start_time": "2023-05-21T10:34:02.050364Z"
    }
   },
   "outputs": [],
   "source": [
    "AWS_ACCESS_KEY_ID = os.getenv('AWS_ACCESS_KEY_ID')\n",
    "AWS_SECRET_ACCESS_KEY = os.getenv('AWS_SECRET_ACCESS_KEY')\n",
    "s3 = s3fs.S3FileSystem(\n",
    "    anon=False, key=AWS_ACCESS_KEY_ID, secret=AWS_SECRET_ACCESS_KEY)"
   ]
  },
  {
   "cell_type": "code",
   "execution_count": null,
   "id": "a0a6fdc8",
   "metadata": {
    "ExecuteTime": {
     "end_time": "2023-05-21T12:25:58.450574Z",
     "start_time": "2023-05-21T12:25:49.793049Z"
    }
   },
   "outputs": [],
   "source": [
    "load_dotenv()\n",
    " \n",
    "HOST = os.getenv('HOST')\n",
    "USER = os.getenv('USER')\n",
    "PASSWORD = os.getenv('PASSWORD')\n",
    "\n",
    "endpoint = 'postgresql://{}:{}@{}:5432/postgres'.format(USER, PASSWORD, HOST)\n",
    "\n",
    "conn = sqlalchemy.create_engine(endpoint).connect()\n",
    "\n",
    "query = \"\"\"\n",
    "SELECT * from customers\n",
    "\"\"\"\n",
    "\n",
    "df = pd.read_sql_query(sqlalchemy.text(query), con=conn)"
   ]
  },
  {
   "cell_type": "markdown",
   "id": "1d8555c3-f86c-4145-9f40-35031466b785",
   "metadata": {},
   "source": [
    "# Data Wrangling"
   ]
  },
  {
   "cell_type": "markdown",
   "id": "2ac61536-2807-4677-a37c-2a7af70f3add",
   "metadata": {},
   "source": [
    "## invoice_no"
   ]
  },
  {
   "cell_type": "code",
   "execution_count": null,
   "id": "42a75d63-06e4-4969-b0bd-97090e2d54c1",
   "metadata": {
    "ExecuteTime": {
     "end_time": "2023-05-21T12:25:58.922861Z",
     "start_time": "2023-05-21T12:25:58.504428Z"
    },
    "execution": {
     "iopub.execute_input": "2023-02-21T12:10:36.008333Z",
     "iopub.status.busy": "2023-02-21T12:10:36.007739Z",
     "iopub.status.idle": "2023-02-21T12:10:36.400787Z",
     "shell.execute_reply": "2023-02-21T12:10:36.400307Z",
     "shell.execute_reply.started": "2023-02-21T12:10:36.008318Z"
    },
    "tags": []
   },
   "outputs": [],
   "source": [
    "df = df[~df['invoice_no']\n",
    "    .astype(str)\n",
    "    .apply(lambda x: bool(re.search('[^0-9]+', x)))\n",
    "]"
   ]
  },
  {
   "cell_type": "markdown",
   "id": "2d3c6847-1b00-4b44-a4a2-6af295806d56",
   "metadata": {
    "execution": {
     "iopub.execute_input": "2023-02-15T15:27:05.546068Z",
     "iopub.status.busy": "2023-02-15T15:27:05.545756Z",
     "iopub.status.idle": "2023-02-15T15:27:05.951918Z",
     "shell.execute_reply": "2023-02-15T15:27:05.951001Z",
     "shell.execute_reply.started": "2023-02-15T15:27:05.546047Z"
    },
    "tags": []
   },
   "source": [
    "## stock_code"
   ]
  },
  {
   "cell_type": "code",
   "execution_count": null,
   "id": "a367bcd4-6af9-4604-b7af-ebcccb7a841f",
   "metadata": {
    "ExecuteTime": {
     "end_time": "2023-05-21T12:25:59.077263Z",
     "start_time": "2023-05-21T12:25:58.976480Z"
    },
    "execution": {
     "iopub.execute_input": "2023-02-21T12:10:37.295300Z",
     "iopub.status.busy": "2023-02-21T12:10:37.295000Z",
     "iopub.status.idle": "2023-02-21T12:10:37.656408Z",
     "shell.execute_reply": "2023-02-21T12:10:37.655903Z",
     "shell.execute_reply.started": "2023-02-21T12:10:37.295277Z"
    },
    "tags": []
   },
   "outputs": [],
   "source": [
    "df = df[~df['stock_code'].isin(\n",
    "    ['DOT', 'BANK CHARGES', 'AMAZONFEE', 'PADS', 'POST', 'M', 'D', 'm']\n",
    "    )\n",
    "]"
   ]
  },
  {
   "cell_type": "markdown",
   "id": "a073edbe-157a-4f20-b0db-48875bd26e91",
   "metadata": {},
   "source": [
    "## invoice_date"
   ]
  },
  {
   "cell_type": "code",
   "execution_count": null,
   "id": "de9767f7",
   "metadata": {
    "ExecuteTime": {
     "end_time": "2023-05-21T12:26:01.457054Z",
     "start_time": "2023-05-21T12:25:59.130448Z"
    },
    "execution": {
     "iopub.execute_input": "2023-02-21T12:10:40.084131Z",
     "iopub.status.busy": "2023-02-21T12:10:40.083770Z",
     "iopub.status.idle": "2023-02-21T12:10:42.485181Z",
     "shell.execute_reply": "2023-02-21T12:10:42.484752Z",
     "shell.execute_reply.started": "2023-02-21T12:10:40.084118Z"
    },
    "tags": []
   },
   "outputs": [],
   "source": [
    "df['invoice_date'] = df['invoice_date'].apply(\n",
    "    lambda x: dt.strptime(x, '%d-%b-%y')\n",
    ")"
   ]
  },
  {
   "cell_type": "code",
   "execution_count": null,
   "id": "58cbcbc0",
   "metadata": {
    "ExecuteTime": {
     "end_time": "2023-05-21T12:26:01.630673Z",
     "start_time": "2023-05-21T12:26:01.512664Z"
    },
    "execution": {
     "iopub.execute_input": "2023-02-21T12:10:46.628125Z",
     "iopub.status.busy": "2023-02-21T12:10:46.627940Z",
     "iopub.status.idle": "2023-02-21T12:10:46.659902Z",
     "shell.execute_reply": "2023-02-21T12:10:46.659381Z",
     "shell.execute_reply.started": "2023-02-21T12:10:46.628112Z"
    },
    "tags": []
   },
   "outputs": [],
   "source": [
    "df = df[df['quantity'] > 0]\n",
    "df = df[df['unit_price'] != 0]"
   ]
  },
  {
   "cell_type": "markdown",
   "id": "95086831-069b-4615-aa95-9181f27f33dc",
   "metadata": {
    "tags": []
   },
   "source": [
    "## Checking/Replace NAs"
   ]
  },
  {
   "cell_type": "code",
   "execution_count": null,
   "id": "1fa8daa3-64cd-46ae-9432-093ab5ffe80a",
   "metadata": {
    "ExecuteTime": {
     "end_time": "2023-05-21T12:26:01.968509Z",
     "start_time": "2023-05-21T12:26:01.685273Z"
    },
    "execution": {
     "iopub.execute_input": "2023-02-21T12:10:48.477534Z",
     "iopub.status.busy": "2023-02-21T12:10:48.477016Z",
     "iopub.status.idle": "2023-02-21T12:10:48.623589Z",
     "shell.execute_reply": "2023-02-21T12:10:48.623025Z",
     "shell.execute_reply.started": "2023-02-21T12:10:48.477508Z"
    },
    "tags": []
   },
   "outputs": [],
   "source": [
    "df_aux = pd.DataFrame(\n",
    "    df[df['customer_id'].isna()]['invoice_no']\n",
    "    .drop_duplicates()\n",
    "    )\n",
    "df_aux = df_aux.assign(customer_id=np.arange(20000, 20000 + len(df_aux), 1))   \n",
    "\n",
    "\n",
    "df = pd.merge(df,df_aux, how='left', on='invoice_no')\n",
    "df['customer_id'] = (df['customer_id_x']\n",
    "                            .combine_first(df['customer_id_y'])\n",
    "                            .astype(int)\n",
    ")\n",
    "df = df.drop(columns=['customer_id_x', 'customer_id_y'], axis=1)"
   ]
  },
  {
   "cell_type": "markdown",
   "id": "385f3b75-a174-4c78-9a20-40c793142fb9",
   "metadata": {},
   "source": [
    "# Feature Engineering"
   ]
  },
  {
   "cell_type": "code",
   "execution_count": null,
   "id": "2e690586-6dd0-479d-bcf9-d4f15a57a8ea",
   "metadata": {
    "ExecuteTime": {
     "end_time": "2023-05-21T12:26:04.468400Z",
     "start_time": "2023-05-21T12:26:04.445094Z"
    },
    "execution": {
     "iopub.execute_input": "2023-02-21T12:10:51.367827Z",
     "iopub.status.busy": "2023-02-21T12:10:51.367543Z",
     "iopub.status.idle": "2023-02-21T12:10:51.611815Z",
     "shell.execute_reply": "2023-02-21T12:10:51.611076Z",
     "shell.execute_reply.started": "2023-02-21T12:10:51.367805Z"
    },
    "tags": []
   },
   "outputs": [],
   "source": [
    "df1 = df.drop(columns=['description', 'country'])\n",
    "del(df)"
   ]
  },
  {
   "cell_type": "markdown",
   "id": "d63650f2-a2d7-424e-804e-35bd4b8e3df7",
   "metadata": {},
   "source": [
    "## Gross Revenue"
   ]
  },
  {
   "cell_type": "code",
   "execution_count": null,
   "id": "a373df79",
   "metadata": {
    "ExecuteTime": {
     "end_time": "2023-05-21T12:26:17.506687Z",
     "start_time": "2023-05-21T12:26:17.321254Z"
    }
   },
   "outputs": [],
   "source": [
    "df_purchases = df1[['customer_id','invoice_no']].drop_duplicates()\n",
    "df1_aux = (df1.loc[:,['invoice_no','quantity','unit_price']]\n",
    "            .assign(gross_revenue=df1['quantity']*df1['unit_price'])\n",
    ")                   \n",
    "df1_aux = (df1_aux[['invoice_no','gross_revenue']]\n",
    "            .groupby('invoice_no')\n",
    "            .sum()\n",
    "            .reset_index()\n",
    ")\n",
    "df_purchases = pd.merge(df_purchases,df1_aux, how='left', on='invoice_no')\n",
    "df1_1 = (df_purchases[['customer_id','gross_revenue']]\n",
    "        .groupby('customer_id')\n",
    "        .sum()\n",
    "        .reset_index()\n",
    ")"
   ]
  },
  {
   "cell_type": "markdown",
   "id": "0b87876a-d7e6-4be3-a32e-8674b4b931ff",
   "metadata": {},
   "source": [
    "##  Recency"
   ]
  },
  {
   "cell_type": "code",
   "execution_count": null,
   "id": "f66fe354-922d-4fbb-a3df-15137b037f14",
   "metadata": {
    "ExecuteTime": {
     "end_time": "2023-05-21T12:27:19.105863Z",
     "start_time": "2023-05-21T12:27:19.081833Z"
    },
    "execution": {
     "iopub.execute_input": "2023-02-21T12:10:58.019609Z",
     "iopub.status.busy": "2023-02-21T12:10:58.019343Z",
     "iopub.status.idle": "2023-02-21T12:10:58.048633Z",
     "shell.execute_reply": "2023-02-21T12:10:58.047994Z",
     "shell.execute_reply.started": "2023-02-21T12:10:58.019590Z"
    },
    "tags": []
   },
   "outputs": [],
   "source": [
    "df1_aux = (df1[['customer_id', 'invoice_date']]\n",
    "           .groupby('customer_id')\n",
    "           .max()\n",
    "           .reset_index()\n",
    ")\n",
    "df1_aux['recency_days'] = (df1['invoice_date'].max()\n",
    "                                                - df1_aux['invoice_date']).dt.days \n",
    "\n",
    "df1_1 = pd.merge(\n",
    "    df1_1, df1_aux[['customer_id', 'recency_days']],\n",
    "    on='customer_id', how='left')"
   ]
  },
  {
   "cell_type": "markdown",
   "id": "6bccb5b6-50d3-4746-a4e1-90439ea3d231",
   "metadata": {},
   "source": [
    "## Quantity of purchases"
   ]
  },
  {
   "cell_type": "code",
   "execution_count": null,
   "id": "969fb8f6-061c-4cd7-b288-f6ff42fff505",
   "metadata": {
    "ExecuteTime": {
     "end_time": "2023-05-21T12:27:53.456236Z",
     "start_time": "2023-05-21T12:27:53.366494Z"
    },
    "execution": {
     "iopub.execute_input": "2023-02-21T12:10:59.009677Z",
     "iopub.status.busy": "2023-02-21T12:10:59.009402Z",
     "iopub.status.idle": "2023-02-21T12:10:59.070548Z",
     "shell.execute_reply": "2023-02-21T12:10:59.070075Z",
     "shell.execute_reply.started": "2023-02-21T12:10:59.009655Z"
    },
    "tags": []
   },
   "outputs": [],
   "source": [
    "df1_aux = (df1[['customer_id','invoice_no']]\n",
    "            .groupby('customer_id')\n",
    "            .nunique()\n",
    "            .reset_index()\n",
    "            .rename(columns={'invoice_no': 'qtd_purchases'})\n",
    ")\n",
    "df1_1 = pd.merge(df1_1, df1_aux, on='customer_id', how='left')"
   ]
  },
  {
   "cell_type": "markdown",
   "id": "10e948bf",
   "metadata": {},
   "source": [
    "## Quantity of products"
   ]
  },
  {
   "cell_type": "code",
   "execution_count": null,
   "id": "aeb26c70",
   "metadata": {
    "ExecuteTime": {
     "end_time": "2023-05-21T12:27:55.582513Z",
     "start_time": "2023-05-21T12:27:55.446394Z"
    }
   },
   "outputs": [],
   "source": [
    "df1_aux = (df1[['customer_id', 'stock_code']]\n",
    "            .groupby('customer_id')\n",
    "            .nunique()\n",
    "            .reset_index()\n",
    "            .rename(columns={'stock_code':'qtd_products'})\n",
    ")\n",
    "df1_1 = pd.merge(df1_1, df1_aux, on='customer_id', how='left')"
   ]
  },
  {
   "cell_type": "markdown",
   "id": "ae9dda71",
   "metadata": {},
   "source": [
    "# Data Preparation"
   ]
  },
  {
   "cell_type": "code",
   "execution_count": null,
   "id": "96e44f5e",
   "metadata": {
    "ExecuteTime": {
     "end_time": "2023-05-21T13:26:18.767268Z",
     "start_time": "2023-05-21T13:26:18.763587Z"
    }
   },
   "outputs": [],
   "source": [
    "df2 = df1_1.copy()\n",
    "df2 = df2.drop(columns='customer_id')\n",
    "del(df1)"
   ]
  },
  {
   "cell_type": "code",
   "execution_count": null,
   "id": "7544e07d",
   "metadata": {
    "ExecuteTime": {
     "end_time": "2023-05-21T13:26:31.287615Z",
     "start_time": "2023-05-21T13:26:29.678313Z"
    }
   },
   "outputs": [],
   "source": [
    "# rs = RobustScaler()\n",
    "# df2['gross_revenue'] = rs.fit_transform(\n",
    "#     df2[['gross_revenue']].values)\n",
    "# joblib.dump(rs,s3.open(\n",
    "#     's3://insiders-customers-dataset/gross_revenue_scaler.pkl', 'wb')\n",
    "# )\n",
    "\n",
    "# df2['recency_days'] = rs.fit_transform(\n",
    "#     df2[['recency_days']].values)\n",
    "# joblib.dump(rs,s3.open(\n",
    "#     's3://insiders-customers-dataset/recency_days_scaler.pkl', 'wb')\n",
    "# )\n",
    "\n",
    "\n",
    "# df2['qtd_purchases'] = rs.fit_transform(\n",
    "#     df2[['qtd_purchases']].values)\n",
    "# joblib.dump(rs,s3.open(\n",
    "#     's3://insiders-customers-dataset/qtd_purchases_scaler.pkl', 'wb')\n",
    "# )\n",
    "\n",
    "\n",
    "# df2['qtd_products'] = rs.fit_transform(\n",
    "#     df2[['qtd_products']].values)\n",
    "# joblib.dump(rs,s3.open(\n",
    "#     's3://insiders-customers-dataset/qtd_products_scaler.pkl', 'wb')\n",
    "# )\n",
    "\n",
    "\n",
    "df2['gross_revenue'] = (joblib.load(\n",
    "    s3.open('s3://insiders-customers-dataset/gross_revenue_scaler.pkl', 'rb')\n",
    "     )\n",
    "    .transform(df2[['gross_revenue']].values)\n",
    ")\n",
    "\n",
    "\n",
    "df2['recency_days'] =  (joblib.load(\n",
    "    s3.open('s3://insiders-customers-dataset/recency_days_scaler.pkl', 'rb')\n",
    "     )\n",
    "    .transform(df2[['recency_days']].values)\n",
    ")\n",
    "\n",
    "\n",
    "df2['qtd_purchases'] =  (joblib.load(\n",
    "    s3.open('s3://insiders-customers-dataset/qtd_purchases_scaler.pkl', 'rb')\n",
    "     )\n",
    "    .transform(df2[['qtd_purchases']].values)\n",
    ")\n",
    "\n",
    "\n",
    "df2['qtd_products'] =  (joblib.load(\n",
    "    s3.open('s3://insiders-customers-dataset/qtd_products_scaler.pkl', 'rb')\n",
    "     )\n",
    "    .transform(df2[['qtd_products']].values)\n",
    ")"
   ]
  },
  {
   "cell_type": "code",
   "execution_count": null,
   "id": "8359e67f",
   "metadata": {
    "ExecuteTime": {
     "end_time": "2023-05-21T16:35:12.361241Z",
     "start_time": "2023-05-21T16:35:09.373378Z"
    }
   },
   "outputs": [],
   "source": [
    "# pipeline = Pipeline(\n",
    "#     steps = [\n",
    "#         ('preprocessor', RobustScaler()),\n",
    "#         ('umap_reducer', umap.UMAP(random_state=42))\n",
    "#     ]\n",
    "# )\n",
    "# embedding_umap = pipeline.fit(df2)\n",
    "# joblib.dump(\n",
    "#     embedding_umap,s3.open('s3://insiders-customers-dataset/embedding_umap.pkl', 'wb')\n",
    "# )\n",
    "\n",
    "embedding_umap = (joblib.load(\n",
    "    s3.open('s3://insiders-customers-dataset/embedding_umap.pkl', 'rb')\n",
    "    )\n",
    "    .transform(df2)\n",
    ")\n",
    "\n",
    "df_umap = pd.DataFrame()\n",
    "df_umap['embedding_x'] = embedding_umap[:, 0]\n",
    "df_umap['embedding_y'] = embedding_umap[:, 1]"
   ]
  },
  {
   "cell_type": "markdown",
   "id": "980aae4a",
   "metadata": {},
   "source": [
    "# Model Training"
   ]
  },
  {
   "cell_type": "markdown",
   "id": "e4c1c636",
   "metadata": {},
   "source": [
    "## Final model"
   ]
  },
  {
   "cell_type": "code",
   "execution_count": null,
   "id": "379c3475",
   "metadata": {
    "ExecuteTime": {
     "end_time": "2023-05-21T16:35:12.427943Z",
     "start_time": "2023-05-21T16:35:12.425526Z"
    }
   },
   "outputs": [],
   "source": [
    "df4 = df_umap"
   ]
  },
  {
   "cell_type": "code",
   "execution_count": null,
   "id": "f20242f7",
   "metadata": {
    "ExecuteTime": {
     "end_time": "2023-05-21T16:35:49.026129Z",
     "start_time": "2023-05-21T16:35:48.104847Z"
    }
   },
   "outputs": [],
   "source": [
    "# kmeans_model = KMeans(n_clusters=5, random_state=42, init='k-means++').fit(df4)\n",
    "# joblib.dump(kmeans_model,\n",
    "#     s3.open('s3://insiders-customers-dataset/kmeans_model.pkl', 'wb')\n",
    "#     )\n",
    "\n",
    "labels  = joblib.load(\n",
    "    s3.open('s3://insiders-customers-dataset/kmeans_model.pkl', 'rb')\n",
    "    ).predict(df4)\n",
    "\n",
    "df4['cluster'] = labels"
   ]
  },
  {
   "cell_type": "markdown",
   "id": "69400f1d",
   "metadata": {},
   "source": [
    "# Cluster analysis"
   ]
  },
  {
   "cell_type": "markdown",
   "id": "72c74e2c",
   "metadata": {},
   "source": [
    "## Cluster profile"
   ]
  },
  {
   "cell_type": "code",
   "execution_count": null,
   "id": "87d0e8a8",
   "metadata": {
    "ExecuteTime": {
     "end_time": "2023-05-21T16:35:53.951872Z",
     "start_time": "2023-05-21T16:35:53.904724Z"
    }
   },
   "outputs": [],
   "source": [
    "sns.scatterplot(x='embedding_x', y='embedding_y', hue='cluster', data=df4, palette='deep');"
   ]
  },
  {
   "cell_type": "code",
   "execution_count": null,
   "id": "947e7762",
   "metadata": {
    "ExecuteTime": {
     "end_time": "2023-05-21T16:33:09.833299Z",
     "start_time": "2023-05-21T16:33:09.157219Z"
    }
   },
   "outputs": [],
   "source": [
    "final_metric = metrics.silhouette_score(df4, labels=labels, metric='euclidean')\n",
    "final_metric"
   ]
  },
  {
   "cell_type": "code",
   "execution_count": null,
   "id": "64a39376",
   "metadata": {
    "ExecuteTime": {
     "end_time": "2023-05-21T16:36:04.130643Z",
     "start_time": "2023-05-21T16:36:04.125597Z"
    }
   },
   "outputs": [],
   "source": [
    "#removing fake customers\n",
    "df5 = df1_1.copy()\n",
    "df5['cluster'] = labels\n",
    "df5 = df5[df5['customer_id'] < 20000]\n",
    "df5['cluster_date'] = dt.strftime(dt.now(), '%y-%b-%d')"
   ]
  },
  {
   "cell_type": "code",
   "execution_count": null,
   "id": "d0733c5d",
   "metadata": {
    "ExecuteTime": {
     "end_time": "2023-05-21T16:36:05.378434Z",
     "start_time": "2023-05-21T16:36:05.356291Z"
    }
   },
   "outputs": [],
   "source": [
    "df_cluster = (df5[['customer_id', 'cluster']]\n",
    "                .groupby('cluster')\n",
    "                .count()\n",
    "                .reset_index()\n",
    ")\n",
    "df_cluster = df_cluster.assign(\n",
    "    perc_customer=100*(df_cluster['customer_id'] / \n",
    "                                            df_cluster['customer_id'].sum())\n",
    ")\n",
    "df_avg_gross_revenue = (df5[['cluster', 'gross_revenue']]\n",
    "                                    .groupby('cluster')\n",
    "                                    .median()\n",
    "                                    .reset_index()\n",
    ")\n",
    "df_cluster = pd.merge(\n",
    "    df_cluster, df_avg_gross_revenue, how='inner', on='cluster')\n",
    "\n",
    "# Avg recency\n",
    "df_recency = df5[['cluster', 'recency_days']].groupby(\n",
    "    'cluster').median().reset_index()\n",
    "df_cluster = pd.merge(\n",
    "    df_cluster, df_recency, how='inner', on='cluster')\n",
    "\n",
    "# Avg quantity of purchases\n",
    "df_recency = (df5[['cluster', 'qtd_purchases']]\n",
    "                .groupby('cluster')\n",
    "                .median()\n",
    "                .reset_index()\n",
    ")\n",
    "df_cluster = pd.merge(\n",
    "    df_cluster, df_recency, how='inner', on='cluster')\n",
    "\n",
    "# Avg quantity of products\n",
    "df_qtd_products = (df5[['cluster', 'qtd_products']]\n",
    "                            .groupby('cluster')\n",
    "                            .median()\n",
    "                            .reset_index()\n",
    ")\n",
    "df_cluster = pd.merge(\n",
    "    df_cluster, df_qtd_products, how='inner', on='cluster')\n",
    "\n",
    "df_cluster_result = df_cluster.sort_values(\n",
    "    by='gross_revenue', ascending=False)\n",
    "display(df_cluster_result)"
   ]
  },
  {
   "cell_type": "markdown",
   "id": "ae29b866",
   "metadata": {},
   "source": [
    "# Deploy to production"
   ]
  },
  {
   "cell_type": "markdown",
   "id": "3a698c7f",
   "metadata": {},
   "source": [
    "## Insert into SQLITE"
   ]
  },
  {
   "cell_type": "code",
   "execution_count": null,
   "id": "5af88220",
   "metadata": {
    "ExecuteTime": {
     "end_time": "2023-05-21T14:05:43.074826Z",
     "start_time": "2023-05-21T14:05:36.021621Z"
    },
    "scrolled": false
   },
   "outputs": [],
   "source": [
    "load_dotenv()\n",
    " \n",
    "host = os.getenv('HOST')\n",
    "user = os.getenv('USER')\n",
    "password = os.getenv('PASSWORD')\n",
    "\n",
    "endpoint = 'postgresql://{}:{}@{}:5432/postgres'.format(user, password, host)\n",
    "\n",
    "conn = sqlalchemy.create_engine(endpoint)\n",
    "# conn.connect()\n",
    "# conn.execute(sqlalchemy.text(query_create_table))\n",
    "# conn.commit()\n",
    "# conn.close()\n",
    "\n",
    "\n",
    "df5.to_sql(\n",
    "    'insiders', con=conn, if_exists='replace', index=False)"
   ]
  }
 ],
 "metadata": {
  "hide_input": false,
  "kernelspec": {
   "display_name": "Python 3 (ipykernel)",
   "language": "python",
   "name": "python3"
  },
  "language_info": {
   "codemirror_mode": {
    "name": "ipython",
    "version": 3
   },
   "file_extension": ".py",
   "mimetype": "text/x-python",
   "name": "python",
   "nbconvert_exporter": "python",
   "pygments_lexer": "ipython3",
   "version": "3.10.9"
  },
  "toc": {
   "base_numbering": 1,
   "nav_menu": {},
   "number_sections": true,
   "sideBar": true,
   "skip_h1_title": false,
   "title_cell": "Table of Contents",
   "title_sidebar": "Contents",
   "toc_cell": false,
   "toc_position": {},
   "toc_section_display": true,
   "toc_window_display": false
  },
  "varInspector": {
   "cols": {
    "lenName": 16,
    "lenType": 16,
    "lenVar": 40
   },
   "kernels_config": {
    "python": {
     "delete_cmd_postfix": "",
     "delete_cmd_prefix": "del ",
     "library": "var_list.py",
     "varRefreshCmd": "print(var_dic_list())"
    },
    "r": {
     "delete_cmd_postfix": ") ",
     "delete_cmd_prefix": "rm(",
     "library": "var_list.r",
     "varRefreshCmd": "cat(var_dic_list()) "
    }
   },
   "types_to_exclude": [
    "module",
    "function",
    "builtin_function_or_method",
    "instance",
    "_Feature"
   ],
   "window_display": false
  }
 },
 "nbformat": 4,
 "nbformat_minor": 5
}
