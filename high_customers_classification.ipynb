{
 "cells": [
  {
   "cell_type": "markdown",
   "id": "b7138727-dfc0-4901-ad63-644cb660ddf9",
   "metadata": {},
   "source": [
    "## Solution Planning\n",
    "\n",
    "# Input\n",
    "\n",
    "    Business Problem\n",
    "        Select most valuable customers to create a loyalty program called Insiders\n",
    "\n",
    "    Data\n",
    "        One year of e-commerce sales\n",
    "\n",
    "# Output\n",
    "\n",
    "    A list of customers that will be part of Insiders\n",
    "    A report answering business questions\n",
    "        Who are the eligible customers to participate in the Insiders program?\n",
    "        How many customers will be part of the program?\n",
    "        What are the main characteristics of these customers?\n",
    "        What revenue percentage comes from Insiders?\n",
    "        What is the Insiders' expected revenue for the coming months?\n",
    "        What are the conditions for a customer to be eligible for the Insiders program?\n",
    "        What are the conditions for a customer to be removed from the Insiders program?\n",
    "        What is the guarantee that the Insiders program is better than the regular customer database?\n",
    "        What actions can the marketing team make to increase the revenue?\n",
    "\n",
    "# Tasks\n",
    "\n",
    "    A report answering business questions:\n",
    "\n",
    "        Who are the eligible customers to participate in the Insiders program?\n",
    "            Understand the criteria to a eligible customer.\n",
    "            Criteria examples:\n",
    "                Revenue\n",
    "                    High average ticket\n",
    "                    High LTV (lifetime value)\n",
    "                    Low recency\n",
    "                    High basket size\n",
    "                    Low churn probability\n",
    "                Expenses\n",
    "                    Return rate\n",
    "                Buying Experience\n",
    "                    High average notes on reviews\n",
    "\n",
    "        How many customers will be part of the program?\n",
    "            Calculate the percentage of customers that belong to Insiders program over the total number of customers.\n",
    "\n",
    "        What are the main characteristics of these customers?\n",
    "            Indicate customer characteristics:\n",
    "                Age\n",
    "                City\n",
    "                Education level\n",
    "                Localization, etc.\n",
    "            Indicate consumption characteristics:\n",
    "                Clusters attributes\n",
    "\n",
    "        What revenue percentage comes from Insiders?\n",
    "            Calculate the percentage of Insiders revenue over the total revenue.\n",
    "\n",
    "        What is the Insiders' expected revenue for the coming months?\n",
    "            Calculate Insiders' LTV\n",
    "            Calculate Cohort Analysis.\n",
    "\n",
    "        What are the conditions for a customer to be eligible for the Insiders program?\n",
    "            Define verification periodicity (monthly, quarterly, etc.)\n",
    "            The customer must be similar to a customer on Insiders.\n",
    "\n",
    "        What are the conditions for a customer to be removed from the Insiders program?\n",
    "            Define verification periodicity (monthly, quarterly, etc.)\n",
    "            The customer must be dissimilar to a customer on Insiders.\n",
    "\n",
    "        What is the guarantee that the Insiders program is better than the regular customer database?\n",
    "            Perform A/B Test\n",
    "            Perform A/B Bayesian Test\n",
    "            Perform Hypothesis Test\n",
    "\n",
    "        What actions can the marketing team make to increase the revenue?\n",
    "            Discount\n",
    "            Buying preferences\n",
    "            Shipping options\n",
    "            Promote a visit to the company, etc.\n",
    "\n"
   ]
  },
  {
   "cell_type": "markdown",
   "id": "ee3e48cb-bcf7-427b-bf52-bcba8dde7520",
   "metadata": {
    "execution": {
     "iopub.execute_input": "2023-02-15T12:02:37.011271Z",
     "iopub.status.busy": "2023-02-15T12:02:37.010987Z",
     "iopub.status.idle": "2023-02-15T12:02:41.293084Z",
     "shell.execute_reply": "2023-02-15T12:02:41.292242Z",
     "shell.execute_reply.started": "2023-02-15T12:02:37.011250Z"
    },
    "tags": []
   },
   "source": [
    "# Imports and helper functions"
   ]
  },
  {
   "cell_type": "code",
   "execution_count": 1,
   "id": "4042e3dd-e48c-4e1b-9f54-d3946065955c",
   "metadata": {
    "execution": {
     "iopub.execute_input": "2023-02-16T16:11:43.067442Z",
     "iopub.status.busy": "2023-02-16T16:11:43.067177Z",
     "iopub.status.idle": "2023-02-16T16:11:44.527868Z",
     "shell.execute_reply": "2023-02-16T16:11:44.527425Z",
     "shell.execute_reply.started": "2023-02-16T16:11:43.067421Z"
    },
    "tags": []
   },
   "outputs": [],
   "source": [
    "import dtype_diet\n",
    "import pandas as pd\n",
    "pd.set_option('display.float_format', lambda x: '%.2f' % x)\n",
    "import numpy as np\n",
    "from matplotlib import pyplot as plt\n",
    "from matplotlib import gridspec\n",
    "from IPython.display import display, HTML\n",
    "from IPython.display import Image\n",
    "import seaborn as sns\n",
    "import csv\n",
    "from dython import nominal\n",
    "from scipy.stats import chi2_contingency\n",
    "import dataframe_image as dfi\n",
    "import re\n",
    "import snakecase\n",
    "\n",
    "def data_description(df):\n",
    "    print('Variables:\\n\\n{}'.format(df.dtypes), end='\\n\\n')\n",
    "    print('Number of rows {}'.format(df.shape[0]), end='\\n\\n')\n",
    "    print('Number of columns {}'.format(df.shape[1]), end='\\n\\n')\n",
    "    print('NA analysis'.format(end='\\n') )\n",
    "    for i in df.columns:\n",
    "        print('column {}: {} {}'.format(i,df[i].isna().any(), df[i].isna().sum() ) )"
   ]
  },
  {
   "cell_type": "markdown",
   "id": "bf328ef0-4e28-4af1-bd1f-fc0ada49809a",
   "metadata": {
    "tags": []
   },
   "source": [
    "# Loading data"
   ]
  },
  {
   "cell_type": "code",
   "execution_count": 2,
   "id": "0e66082f-7768-4796-b85a-1dea98871c6c",
   "metadata": {
    "execution": {
     "iopub.execute_input": "2023-02-16T16:11:45.459633Z",
     "iopub.status.busy": "2023-02-16T16:11:45.458925Z",
     "iopub.status.idle": "2023-02-16T16:11:46.499500Z",
     "shell.execute_reply": "2023-02-16T16:11:46.498985Z",
     "shell.execute_reply.started": "2023-02-16T16:11:45.459613Z"
    },
    "tags": []
   },
   "outputs": [],
   "source": [
    "df = pd.read_csv('../high_value_customer_identification/data.csv',low_memory=True)\n",
    "df_otimized = dtype_diet.report_on_dataframe(df)\n",
    "df = dtype_diet.optimize_dtypes(df, df_otimized)"
   ]
  },
  {
   "cell_type": "markdown",
   "id": "d407a342-0aa5-43f1-a978-637f2b3dd649",
   "metadata": {},
   "source": [
    "# Data Description"
   ]
  },
  {
   "cell_type": "code",
   "execution_count": 122,
   "id": "d55c55e3-67fa-4871-aefa-e8ab45b2f49e",
   "metadata": {
    "execution": {
     "iopub.execute_input": "2023-02-15T15:25:42.077703Z",
     "iopub.status.busy": "2023-02-15T15:25:42.077474Z",
     "iopub.status.idle": "2023-02-15T15:25:42.084430Z",
     "shell.execute_reply": "2023-02-15T15:25:42.084045Z",
     "shell.execute_reply.started": "2023-02-15T15:25:42.077690Z"
    },
    "tags": []
   },
   "outputs": [
    {
     "data": {
      "text/html": [
       "<div>\n",
       "<style scoped>\n",
       "    .dataframe tbody tr th:only-of-type {\n",
       "        vertical-align: middle;\n",
       "    }\n",
       "\n",
       "    .dataframe tbody tr th {\n",
       "        vertical-align: top;\n",
       "    }\n",
       "\n",
       "    .dataframe thead th {\n",
       "        text-align: right;\n",
       "    }\n",
       "</style>\n",
       "<table border=\"1\" class=\"dataframe\">\n",
       "  <thead>\n",
       "    <tr style=\"text-align: right;\">\n",
       "      <th></th>\n",
       "      <th>InvoiceNo</th>\n",
       "      <th>StockCode</th>\n",
       "      <th>Description</th>\n",
       "      <th>Quantity</th>\n",
       "      <th>InvoiceDate</th>\n",
       "      <th>UnitPrice</th>\n",
       "      <th>CustomerID</th>\n",
       "      <th>Country</th>\n",
       "    </tr>\n",
       "  </thead>\n",
       "  <tbody>\n",
       "    <tr>\n",
       "      <th>0</th>\n",
       "      <td>536365</td>\n",
       "      <td>85123A</td>\n",
       "      <td>WHITE HANGING HEART T-LIGHT HOLDER</td>\n",
       "      <td>6</td>\n",
       "      <td>29-Nov-16</td>\n",
       "      <td>2.55</td>\n",
       "      <td>17850.00</td>\n",
       "      <td>United Kingdom</td>\n",
       "    </tr>\n",
       "    <tr>\n",
       "      <th>1</th>\n",
       "      <td>536365</td>\n",
       "      <td>71053</td>\n",
       "      <td>WHITE METAL LANTERN</td>\n",
       "      <td>6</td>\n",
       "      <td>29-Nov-16</td>\n",
       "      <td>3.39</td>\n",
       "      <td>17850.00</td>\n",
       "      <td>United Kingdom</td>\n",
       "    </tr>\n",
       "    <tr>\n",
       "      <th>2</th>\n",
       "      <td>536365</td>\n",
       "      <td>84406B</td>\n",
       "      <td>CREAM CUPID HEARTS COAT HANGER</td>\n",
       "      <td>8</td>\n",
       "      <td>29-Nov-16</td>\n",
       "      <td>2.75</td>\n",
       "      <td>17850.00</td>\n",
       "      <td>United Kingdom</td>\n",
       "    </tr>\n",
       "    <tr>\n",
       "      <th>3</th>\n",
       "      <td>536365</td>\n",
       "      <td>84029G</td>\n",
       "      <td>KNITTED UNION FLAG HOT WATER BOTTLE</td>\n",
       "      <td>6</td>\n",
       "      <td>29-Nov-16</td>\n",
       "      <td>3.39</td>\n",
       "      <td>17850.00</td>\n",
       "      <td>United Kingdom</td>\n",
       "    </tr>\n",
       "    <tr>\n",
       "      <th>4</th>\n",
       "      <td>536365</td>\n",
       "      <td>84029E</td>\n",
       "      <td>RED WOOLLY HOTTIE WHITE HEART.</td>\n",
       "      <td>6</td>\n",
       "      <td>29-Nov-16</td>\n",
       "      <td>3.39</td>\n",
       "      <td>17850.00</td>\n",
       "      <td>United Kingdom</td>\n",
       "    </tr>\n",
       "  </tbody>\n",
       "</table>\n",
       "</div>"
      ],
      "text/plain": [
       "  InvoiceNo StockCode                          Description  Quantity  \\\n",
       "0    536365    85123A   WHITE HANGING HEART T-LIGHT HOLDER         6   \n",
       "1    536365     71053                  WHITE METAL LANTERN         6   \n",
       "2    536365    84406B       CREAM CUPID HEARTS COAT HANGER         8   \n",
       "3    536365    84029G  KNITTED UNION FLAG HOT WATER BOTTLE         6   \n",
       "4    536365    84029E       RED WOOLLY HOTTIE WHITE HEART.         6   \n",
       "\n",
       "  InvoiceDate  UnitPrice  CustomerID         Country  \n",
       "0   29-Nov-16       2.55    17850.00  United Kingdom  \n",
       "1   29-Nov-16       3.39    17850.00  United Kingdom  \n",
       "2   29-Nov-16       2.75    17850.00  United Kingdom  \n",
       "3   29-Nov-16       3.39    17850.00  United Kingdom  \n",
       "4   29-Nov-16       3.39    17850.00  United Kingdom  "
      ]
     },
     "execution_count": 122,
     "metadata": {},
     "output_type": "execute_result"
    }
   ],
   "source": [
    "df.head()"
   ]
  },
  {
   "cell_type": "code",
   "execution_count": 38,
   "id": "c9a38c70-b559-4f19-b0db-92cdd11bc614",
   "metadata": {
    "execution": {
     "iopub.execute_input": "2023-02-15T13:58:45.503952Z",
     "iopub.status.busy": "2023-02-15T13:58:45.503622Z",
     "iopub.status.idle": "2023-02-15T13:58:45.514189Z",
     "shell.execute_reply": "2023-02-15T13:58:45.513704Z",
     "shell.execute_reply.started": "2023-02-15T13:58:45.503929Z"
    },
    "tags": []
   },
   "outputs": [
    {
     "name": "stdout",
     "output_type": "stream",
     "text": [
      "Variables:\n",
      "\n",
      "InvoiceNo      category\n",
      "StockCode      category\n",
      "Description    category\n",
      "Quantity          int32\n",
      "InvoiceDate    category\n",
      "UnitPrice       float64\n",
      "CustomerID      float32\n",
      "Country        category\n",
      "dtype: object\n",
      "\n",
      "Number of rows 541909\n",
      "\n",
      "Number of columns 8\n",
      "\n",
      "NA analysis\n",
      "column InvoiceNo: False 0\n",
      "column StockCode: False 0\n",
      "column Description: True 1454\n",
      "column Quantity: False 0\n",
      "column InvoiceDate: False 0\n",
      "column UnitPrice: False 0\n",
      "column CustomerID: True 135080\n",
      "column Country: False 0\n"
     ]
    }
   ],
   "source": [
    "data_description(df)"
   ]
  },
  {
   "cell_type": "markdown",
   "id": "1d8555c3-f86c-4145-9f40-35031466b785",
   "metadata": {},
   "source": [
    "# Data Wrangling"
   ]
  },
  {
   "cell_type": "code",
   "execution_count": 3,
   "id": "93783548-d975-4c4e-97c1-50b0b08d67f4",
   "metadata": {
    "execution": {
     "iopub.execute_input": "2023-02-16T16:11:47.563257Z",
     "iopub.status.busy": "2023-02-16T16:11:47.562778Z",
     "iopub.status.idle": "2023-02-16T16:11:47.584410Z",
     "shell.execute_reply": "2023-02-16T16:11:47.583612Z",
     "shell.execute_reply.started": "2023-02-16T16:11:47.563242Z"
    },
    "tags": []
   },
   "outputs": [],
   "source": [
    "for i in df.columns:\n",
    "    df = df.rename(columns={i:snakecase.convert(i) } )"
   ]
  },
  {
   "cell_type": "markdown",
   "id": "2eacc609-7e13-4005-a83e-c5be09d2c95d",
   "metadata": {},
   "source": [
    "## Categorical attributes analysis"
   ]
  },
  {
   "cell_type": "markdown",
   "id": "f43a820d-6e79-4edc-ac08-2cdb30847686",
   "metadata": {},
   "source": [
    "### invoice_no"
   ]
  },
  {
   "cell_type": "code",
   "execution_count": 4,
   "id": "9645e9a5-2d50-475f-be22-2321ea796150",
   "metadata": {
    "execution": {
     "iopub.execute_input": "2023-02-16T16:11:49.038096Z",
     "iopub.status.busy": "2023-02-16T16:11:49.037674Z",
     "iopub.status.idle": "2023-02-16T16:11:49.452821Z",
     "shell.execute_reply": "2023-02-16T16:11:49.452329Z",
     "shell.execute_reply.started": "2023-02-16T16:11:49.038062Z"
    },
    "tags": []
   },
   "outputs": [],
   "source": [
    "#There is some invoices with a letter C, probably is return invoices. They will be removed to just focus on buying invoices.\n",
    "df['invoice_no'].unique()\n",
    "\n",
    "\n",
    "df =  df[~df['invoice_no'].astype(str).apply(lambda x: bool(re.search('[^0-9]+',x) ) ) ]"
   ]
  },
  {
   "cell_type": "markdown",
   "id": "4cb32db9-a875-4327-93ed-017702588120",
   "metadata": {
    "execution": {
     "iopub.execute_input": "2023-02-15T15:27:05.546068Z",
     "iopub.status.busy": "2023-02-15T15:27:05.545756Z",
     "iopub.status.idle": "2023-02-15T15:27:05.951918Z",
     "shell.execute_reply": "2023-02-15T15:27:05.951001Z",
     "shell.execute_reply.started": "2023-02-15T15:27:05.546047Z"
    },
    "tags": []
   },
   "source": [
    "### stock_code"
   ]
  },
  {
   "cell_type": "code",
   "execution_count": 5,
   "id": "f7209c99-8b6c-4877-b1da-3f679d222cb2",
   "metadata": {
    "execution": {
     "iopub.execute_input": "2023-02-16T16:11:50.164919Z",
     "iopub.status.busy": "2023-02-16T16:11:50.164629Z",
     "iopub.status.idle": "2023-02-16T16:11:50.534397Z",
     "shell.execute_reply": "2023-02-16T16:11:50.533902Z",
     "shell.execute_reply.started": "2023-02-16T16:11:50.164897Z"
    },
    "tags": []
   },
   "outputs": [],
   "source": [
    "#There is some stockCode with just a letter (D, M,m), some with letter and number and others with numbers. Also, there is some stockcode with just letters (POST,DOT...).\n",
    "#The POST,DOT,BANK CHARGES, PADS and AMAZONFEE will be removed as they do not represents products but other operations.\n",
    "\n",
    "np.set_printoptions(threshold=sys.maxsize)\n",
    "\n",
    "np.array(df[df['stock_code'].astype(str).apply(lambda x: bool(re.search('[A-Z]{3,}',x) ) ) ]['stock_code'].unique())\n",
    "\n",
    "df = df[~df['stock_code'].isin(['DOT','BANK CHARGES','AMAZONFEE','PADS','POST','M','D','m'])]"
   ]
  },
  {
   "cell_type": "markdown",
   "id": "79969458-0fec-4cd7-a3f1-d08d69d92e07",
   "metadata": {
    "execution": {
     "iopub.execute_input": "2023-02-16T11:04:25.654902Z",
     "iopub.status.busy": "2023-02-16T11:04:25.654618Z",
     "iopub.status.idle": "2023-02-16T11:04:25.657546Z",
     "shell.execute_reply": "2023-02-16T11:04:25.656988Z",
     "shell.execute_reply.started": "2023-02-16T11:04:25.654888Z"
    },
    "tags": []
   },
   "source": [
    "## country"
   ]
  },
  {
   "cell_type": "code",
   "execution_count": 35,
   "id": "579b52db-5888-41af-89b4-12b6d2ee10b9",
   "metadata": {
    "execution": {
     "iopub.execute_input": "2023-02-16T11:26:07.159546Z",
     "iopub.status.busy": "2023-02-16T11:26:07.158947Z",
     "iopub.status.idle": "2023-02-16T11:26:07.169736Z",
     "shell.execute_reply": "2023-02-16T11:26:07.168884Z",
     "shell.execute_reply.started": "2023-02-16T11:26:07.159511Z"
    },
    "tags": []
   },
   "outputs": [
    {
     "data": {
      "text/plain": [
       "United Kingdom         0.92\n",
       "Germany                0.02\n",
       "France                 0.02\n",
       "EIRE                   0.01\n",
       "Spain                  0.00\n",
       "Netherlands            0.00\n",
       "Switzerland            0.00\n",
       "Belgium                0.00\n",
       "Portugal               0.00\n",
       "Australia              0.00\n",
       "Norway                 0.00\n",
       "Channel Islands        0.00\n",
       "Italy                  0.00\n",
       "Finland                0.00\n",
       "Cyprus                 0.00\n",
       "Unspecified            0.00\n",
       "Sweden                 0.00\n",
       "Austria                0.00\n",
       "Denmark                0.00\n",
       "Poland                 0.00\n",
       "Japan                  0.00\n",
       "Israel                 0.00\n",
       "Hong Kong              0.00\n",
       "Singapore              0.00\n",
       "Iceland                0.00\n",
       "USA                    0.00\n",
       "Canada                 0.00\n",
       "Greece                 0.00\n",
       "Malta                  0.00\n",
       "United Arab Emirates   0.00\n",
       "RSA                    0.00\n",
       "European Community     0.00\n",
       "Lebanon                0.00\n",
       "Lithuania              0.00\n",
       "Brazil                 0.00\n",
       "Czech Republic         0.00\n",
       "Bahrain                0.00\n",
       "Saudi Arabia           0.00\n",
       "Name: country, dtype: float64"
      ]
     },
     "execution_count": 35,
     "metadata": {},
     "output_type": "execute_result"
    }
   ],
   "source": [
    " df['country'].value_counts(normalize=True)"
   ]
  },
  {
   "cell_type": "markdown",
   "id": "fa104652-a8a0-4de3-9b52-123e6261be7f",
   "metadata": {},
   "source": [
    "## Quantitative analysis"
   ]
  },
  {
   "cell_type": "markdown",
   "id": "8cbe4e44-07b2-4d64-b0af-602499c8f2ba",
   "metadata": {},
   "source": [
    "### Descriptive statistics"
   ]
  },
  {
   "cell_type": "code",
   "execution_count": 65,
   "id": "2bf8d61d-94ed-4047-aa28-62712d809522",
   "metadata": {
    "execution": {
     "iopub.execute_input": "2023-02-16T13:01:25.894788Z",
     "iopub.status.busy": "2023-02-16T13:01:25.894537Z",
     "iopub.status.idle": "2023-02-16T13:01:25.935249Z",
     "shell.execute_reply": "2023-02-16T13:01:25.934663Z",
     "shell.execute_reply.started": "2023-02-16T13:01:25.894776Z"
    },
    "tags": []
   },
   "outputs": [
    {
     "data": {
      "text/html": [
       "<div>\n",
       "<style scoped>\n",
       "    .dataframe tbody tr th:only-of-type {\n",
       "        vertical-align: middle;\n",
       "    }\n",
       "\n",
       "    .dataframe tbody tr th {\n",
       "        vertical-align: top;\n",
       "    }\n",
       "\n",
       "    .dataframe thead th {\n",
       "        text-align: right;\n",
       "    }\n",
       "</style>\n",
       "<table border=\"1\" class=\"dataframe\">\n",
       "  <thead>\n",
       "    <tr style=\"text-align: right;\">\n",
       "      <th></th>\n",
       "      <th>quantity</th>\n",
       "      <th>unit_price</th>\n",
       "    </tr>\n",
       "  </thead>\n",
       "  <tbody>\n",
       "    <tr>\n",
       "      <th>count</th>\n",
       "      <td>530433.00</td>\n",
       "      <td>530433.00</td>\n",
       "    </tr>\n",
       "    <tr>\n",
       "      <th>mean</th>\n",
       "      <td>10.25</td>\n",
       "      <td>3.26</td>\n",
       "    </tr>\n",
       "    <tr>\n",
       "      <th>std</th>\n",
       "      <td>159.87</td>\n",
       "      <td>4.44</td>\n",
       "    </tr>\n",
       "    <tr>\n",
       "      <th>min</th>\n",
       "      <td>-9600.00</td>\n",
       "      <td>0.00</td>\n",
       "    </tr>\n",
       "    <tr>\n",
       "      <th>25%</th>\n",
       "      <td>1.00</td>\n",
       "      <td>1.25</td>\n",
       "    </tr>\n",
       "    <tr>\n",
       "      <th>50%</th>\n",
       "      <td>3.00</td>\n",
       "      <td>2.08</td>\n",
       "    </tr>\n",
       "    <tr>\n",
       "      <th>75%</th>\n",
       "      <td>10.00</td>\n",
       "      <td>4.13</td>\n",
       "    </tr>\n",
       "    <tr>\n",
       "      <th>max</th>\n",
       "      <td>80995.00</td>\n",
       "      <td>649.50</td>\n",
       "    </tr>\n",
       "  </tbody>\n",
       "</table>\n",
       "</div>"
      ],
      "text/plain": [
       "       quantity  unit_price\n",
       "count 530433.00   530433.00\n",
       "mean      10.25        3.26\n",
       "std      159.87        4.44\n",
       "min    -9600.00        0.00\n",
       "25%        1.00        1.25\n",
       "50%        3.00        2.08\n",
       "75%       10.00        4.13\n",
       "max    80995.00      649.50"
      ]
     },
     "execution_count": 65,
     "metadata": {},
     "output_type": "execute_result"
    }
   ],
   "source": [
    "df[['quantity','unit_price']].describe()"
   ]
  },
  {
   "cell_type": "code",
   "execution_count": 6,
   "id": "a5de5d2a-3926-43ac-bd4c-ad8900abac19",
   "metadata": {
    "execution": {
     "iopub.execute_input": "2023-02-16T16:11:57.263168Z",
     "iopub.status.busy": "2023-02-16T16:11:57.262854Z",
     "iopub.status.idle": "2023-02-16T16:11:57.283916Z",
     "shell.execute_reply": "2023-02-16T16:11:57.282928Z",
     "shell.execute_reply.started": "2023-02-16T16:11:57.263147Z"
    },
    "tags": []
   },
   "outputs": [],
   "source": [
    "# There is some itens with negative quantities and unit_price equals to zero. Looking at description could be products that were in stock but something happened such as they were lost, damaged or other situations.  These situations does not represents customer purchases. They would be removed.\n",
    "# There are purchases with high quantities per item but it appears to be normal purchases so they would be kept in data. \n",
    "\n",
    "df[df['quantity'] < 0].tail(50)\n",
    "df = df[df['quantity'] > 0]"
   ]
  },
  {
   "cell_type": "code",
   "execution_count": 7,
   "id": "e111a7a4-1b34-4c18-b34b-7a54f0b12800",
   "metadata": {
    "execution": {
     "iopub.execute_input": "2023-02-16T16:11:57.959663Z",
     "iopub.status.busy": "2023-02-16T16:11:57.959021Z",
     "iopub.status.idle": "2023-02-16T16:11:57.983780Z",
     "shell.execute_reply": "2023-02-16T16:11:57.982994Z",
     "shell.execute_reply.started": "2023-02-16T16:11:57.959637Z"
    },
    "tags": []
   },
   "outputs": [],
   "source": [
    "# there are products with unit_price equals to zero and most of these lines do not have neither product descriptions nor customer id. These do not seems to be normal purchases and since this situations represents less than 1% of the total data they will be removed\n",
    "df = df[df['unit_price'] != 0]"
   ]
  },
  {
   "cell_type": "markdown",
   "id": "c0137b9f-b1ca-4e83-ac5b-5f1ea46fd7aa",
   "metadata": {
    "tags": []
   },
   "source": [
    "## Checking/Replace NAs"
   ]
  },
  {
   "cell_type": "code",
   "execution_count": 8,
   "id": "58f3ee00-fe56-441d-9446-dac7fd11da21",
   "metadata": {
    "execution": {
     "iopub.execute_input": "2023-02-16T16:11:59.163737Z",
     "iopub.status.busy": "2023-02-16T16:11:59.163449Z",
     "iopub.status.idle": "2023-02-16T16:11:59.243777Z",
     "shell.execute_reply": "2023-02-16T16:11:59.243289Z",
     "shell.execute_reply.started": "2023-02-16T16:11:59.163716Z"
    },
    "tags": []
   },
   "outputs": [],
   "source": [
    "#In order to not loosing more than 20% of whole data because some customers do not have ID, we will create artifical IDs starting with 25000\n",
    "df_aux = pd.DataFrame(df[df['customer_id'].isna()]['invoice_no'].drop_duplicates() )\n",
    "df_aux['customer_id'] = np.arange(20000, 20000 + len(df_aux), 1)\n",
    "\n",
    "df = pd.merge(df,df_aux, how='left', on='invoice_no')\n",
    "df['customer_id'] = df['customer_id_x'].combine_first(df['customer_id_y'] )\n",
    "df = df.drop(columns=['customer_id_x','customer_id_y'], axis=1)"
   ]
  },
  {
   "cell_type": "markdown",
   "id": "0f2b6423-95b7-4923-89a9-79847940a2b3",
   "metadata": {
    "execution": {
     "iopub.execute_input": "2023-02-16T15:55:06.534637Z",
     "iopub.status.busy": "2023-02-16T15:55:06.534397Z",
     "iopub.status.idle": "2023-02-16T15:55:06.537779Z",
     "shell.execute_reply": "2023-02-16T15:55:06.537193Z",
     "shell.execute_reply.started": "2023-02-16T15:55:06.534620Z"
    },
    "tags": []
   },
   "source": [
    "## Feature filtering"
   ]
  },
  {
   "cell_type": "code",
   "execution_count": 9,
   "id": "d05688b7-1ac2-49c4-8eae-34927d72a468",
   "metadata": {
    "execution": {
     "iopub.execute_input": "2023-02-16T16:12:01.951305Z",
     "iopub.status.busy": "2023-02-16T16:12:01.951052Z",
     "iopub.status.idle": "2023-02-16T16:12:01.958913Z",
     "shell.execute_reply": "2023-02-16T16:12:01.958265Z",
     "shell.execute_reply.started": "2023-02-16T16:12:01.951286Z"
    },
    "tags": []
   },
   "outputs": [],
   "source": [
    "df = df.drop(columns='description')"
   ]
  },
  {
   "cell_type": "code",
   "execution_count": 11,
   "id": "8bcec3e0-197a-40f2-8d85-d034ffd092f3",
   "metadata": {
    "execution": {
     "iopub.execute_input": "2023-02-16T16:12:06.690990Z",
     "iopub.status.busy": "2023-02-16T16:12:06.690790Z",
     "iopub.status.idle": "2023-02-16T16:12:06.695601Z",
     "shell.execute_reply": "2023-02-16T16:12:06.695096Z",
     "shell.execute_reply.started": "2023-02-16T16:12:06.690977Z"
    },
    "tags": []
   },
   "outputs": [
    {
     "data": {
      "text/plain": [
       "invoice_no      category\n",
       "stock_code      category\n",
       "quantity           int32\n",
       "invoice_date    category\n",
       "unit_price       float64\n",
       "country         category\n",
       "customer_id      float32\n",
       "dtype: object"
      ]
     },
     "execution_count": 11,
     "metadata": {},
     "output_type": "execute_result"
    }
   ],
   "source": [
    "df.dtypes"
   ]
  },
  {
   "cell_type": "markdown",
   "id": "d94f9cfc-671f-4743-ae56-45d9a72773d3",
   "metadata": {},
   "source": [
    "# Feature Engineering"
   ]
  },
  {
   "cell_type": "code",
   "execution_count": 205,
   "id": "60791e03-c115-4827-8ee9-f081ed92de4a",
   "metadata": {
    "execution": {
     "iopub.execute_input": "2023-02-16T15:55:35.374848Z",
     "iopub.status.busy": "2023-02-16T15:55:35.374562Z",
     "iopub.status.idle": "2023-02-16T15:55:35.380215Z",
     "shell.execute_reply": "2023-02-16T15:55:35.379373Z",
     "shell.execute_reply.started": "2023-02-16T15:55:35.374826Z"
    },
    "tags": []
   },
   "outputs": [],
   "source": [
    "df1 = df.copy()"
   ]
  },
  {
   "cell_type": "code",
   "execution_count": null,
   "id": "aa8ea949-c38e-4959-ac41-aa43128ab685",
   "metadata": {},
   "outputs": [],
   "source": [
    "# ticket_size - quantity x unit_price  average per purchase\n",
    "# basket_size - sum of all quantities per purchase\n",
    "# unique_basket_size - quantity of distincts product per purchase \n",
    "# gross_revenue - quantity x unit_price\n",
    "# Recency - time in days since last purchase\n",
    "# Frequency - How many times customer purchase"
   ]
  },
  {
   "cell_type": "code",
   "execution_count": 206,
   "id": "b8ee7cf9-8cca-4cd3-a4a1-8253e2b52a9a",
   "metadata": {
    "execution": {
     "iopub.execute_input": "2023-02-16T15:55:42.901278Z",
     "iopub.status.busy": "2023-02-16T15:55:42.900653Z",
     "iopub.status.idle": "2023-02-16T15:55:42.911059Z",
     "shell.execute_reply": "2023-02-16T15:55:42.910258Z",
     "shell.execute_reply.started": "2023-02-16T15:55:42.901253Z"
    },
    "tags": []
   },
   "outputs": [
    {
     "data": {
      "text/html": [
       "<div>\n",
       "<style scoped>\n",
       "    .dataframe tbody tr th:only-of-type {\n",
       "        vertical-align: middle;\n",
       "    }\n",
       "\n",
       "    .dataframe tbody tr th {\n",
       "        vertical-align: top;\n",
       "    }\n",
       "\n",
       "    .dataframe thead th {\n",
       "        text-align: right;\n",
       "    }\n",
       "</style>\n",
       "<table border=\"1\" class=\"dataframe\">\n",
       "  <thead>\n",
       "    <tr style=\"text-align: right;\">\n",
       "      <th></th>\n",
       "      <th>invoice_no</th>\n",
       "      <th>stock_code</th>\n",
       "      <th>quantity</th>\n",
       "      <th>invoice_date</th>\n",
       "      <th>unit_price</th>\n",
       "      <th>country</th>\n",
       "      <th>customer_id</th>\n",
       "    </tr>\n",
       "  </thead>\n",
       "  <tbody>\n",
       "    <tr>\n",
       "      <th>0</th>\n",
       "      <td>536365</td>\n",
       "      <td>85123A</td>\n",
       "      <td>6</td>\n",
       "      <td>29-Nov-16</td>\n",
       "      <td>2.55</td>\n",
       "      <td>United Kingdom</td>\n",
       "      <td>17850.00</td>\n",
       "    </tr>\n",
       "    <tr>\n",
       "      <th>1</th>\n",
       "      <td>536365</td>\n",
       "      <td>71053</td>\n",
       "      <td>6</td>\n",
       "      <td>29-Nov-16</td>\n",
       "      <td>3.39</td>\n",
       "      <td>United Kingdom</td>\n",
       "      <td>17850.00</td>\n",
       "    </tr>\n",
       "    <tr>\n",
       "      <th>2</th>\n",
       "      <td>536365</td>\n",
       "      <td>84406B</td>\n",
       "      <td>8</td>\n",
       "      <td>29-Nov-16</td>\n",
       "      <td>2.75</td>\n",
       "      <td>United Kingdom</td>\n",
       "      <td>17850.00</td>\n",
       "    </tr>\n",
       "    <tr>\n",
       "      <th>3</th>\n",
       "      <td>536365</td>\n",
       "      <td>84029G</td>\n",
       "      <td>6</td>\n",
       "      <td>29-Nov-16</td>\n",
       "      <td>3.39</td>\n",
       "      <td>United Kingdom</td>\n",
       "      <td>17850.00</td>\n",
       "    </tr>\n",
       "    <tr>\n",
       "      <th>4</th>\n",
       "      <td>536365</td>\n",
       "      <td>84029E</td>\n",
       "      <td>6</td>\n",
       "      <td>29-Nov-16</td>\n",
       "      <td>3.39</td>\n",
       "      <td>United Kingdom</td>\n",
       "      <td>17850.00</td>\n",
       "    </tr>\n",
       "  </tbody>\n",
       "</table>\n",
       "</div>"
      ],
      "text/plain": [
       "  invoice_no stock_code  quantity invoice_date  unit_price         country  \\\n",
       "0     536365     85123A         6    29-Nov-16        2.55  United Kingdom   \n",
       "1     536365      71053         6    29-Nov-16        3.39  United Kingdom   \n",
       "2     536365     84406B         8    29-Nov-16        2.75  United Kingdom   \n",
       "3     536365     84029G         6    29-Nov-16        3.39  United Kingdom   \n",
       "4     536365     84029E         6    29-Nov-16        3.39  United Kingdom   \n",
       "\n",
       "   customer_id  \n",
       "0     17850.00  \n",
       "1     17850.00  \n",
       "2     17850.00  \n",
       "3     17850.00  \n",
       "4     17850.00  "
      ]
     },
     "execution_count": 206,
     "metadata": {},
     "output_type": "execute_result"
    }
   ],
   "source": [
    "df1.head()"
   ]
  }
 ],
 "metadata": {
  "kernelspec": {
   "display_name": "Python 3 (ipykernel)",
   "language": "python",
   "name": "python3"
  },
  "language_info": {
   "codemirror_mode": {
    "name": "ipython",
    "version": 3
   },
   "file_extension": ".py",
   "mimetype": "text/x-python",
   "name": "python",
   "nbconvert_exporter": "python",
   "pygments_lexer": "ipython3",
   "version": "3.10.9"
  }
 },
 "nbformat": 4,
 "nbformat_minor": 5
}
