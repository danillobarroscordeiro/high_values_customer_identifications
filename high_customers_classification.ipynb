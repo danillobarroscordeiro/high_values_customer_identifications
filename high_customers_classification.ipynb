{
 "cells": [
  {
   "cell_type": "markdown",
   "id": "b7138727-dfc0-4901-ad63-644cb660ddf9",
   "metadata": {},
   "source": [
    "## Solution Planning\n",
    "\n",
    "# Input\n",
    "\n",
    "    Business Problem\n",
    "        Select most valuable customers to create a loyalty program called Insiders\n",
    "\n",
    "    Data\n",
    "        One year of e-commerce sales\n",
    "\n",
    "# Output\n",
    "\n",
    "    A list of customers that will be part of Insiders\n",
    "    A report answering business questions\n",
    "        Who are the eligible customers to participate in the Insiders program?\n",
    "        How many customers will be part of the program?\n",
    "        What are the main characteristics of these customers?\n",
    "        What revenue percentage comes from Insiders?\n",
    "        What is the Insiders' expected revenue for the coming months?\n",
    "        What are the conditions for a customer to be eligible for the Insiders program?\n",
    "        What are the conditions for a customer to be removed from the Insiders program?\n",
    "        What is the guarantee that the Insiders program is better than the regular customer database?\n",
    "        What actions can the marketing team make to increase the revenue?\n",
    "\n",
    "# Tasks\n",
    "\n",
    "    A report answering business questions:\n",
    "\n",
    "        Who are the eligible customers to participate in the Insiders program?\n",
    "            Understand the criteria to a eligible customer.\n",
    "            Criteria examples:\n",
    "                Revenue\n",
    "                    High average ticket\n",
    "                    High LTV (lifetime value)\n",
    "                    Low recency\n",
    "                    High basket size\n",
    "                    Low churn probability\n",
    "                Expenses\n",
    "                    Return rate\n",
    "                Buying Experience\n",
    "                    High average notes on reviews\n",
    "\n",
    "        How many customers will be part of the program?\n",
    "            Calculate the percentage of customers that belong to Insiders program over the total number of customers.\n",
    "\n",
    "        What are the main characteristics of these customers?\n",
    "            Indicate customer characteristics:\n",
    "                Age\n",
    "                City\n",
    "                Education level\n",
    "                Localization, etc.\n",
    "            Indicate consumption characteristics:\n",
    "                Clusters attributes\n",
    "\n",
    "        What revenue percentage comes from Insiders?\n",
    "            Calculate the percentage of Insiders revenue over the total revenue.\n",
    "\n",
    "        What is the Insiders' expected revenue for the coming months?\n",
    "            Calculate Insiders' LTV\n",
    "            Calculate Cohort Analysis.\n",
    "\n",
    "        What are the conditions for a customer to be eligible for the Insiders program?\n",
    "            Define verification periodicity (monthly, quarterly, etc.)\n",
    "            The customer must be similar to a customer on Insiders.\n",
    "\n",
    "        What are the conditions for a customer to be removed from the Insiders program?\n",
    "            Define verification periodicity (monthly, quarterly, etc.)\n",
    "            The customer must be dissimilar to a customer on Insiders.\n",
    "\n",
    "        What is the guarantee that the Insiders program is better than the regular customer database?\n",
    "            Perform A/B Test\n",
    "            Perform A/B Bayesian Test\n",
    "            Perform Hypothesis Test\n",
    "\n",
    "        What actions can the marketing team make to increase the revenue?\n",
    "            Discount\n",
    "            Buying preferences\n",
    "            Shipping options\n",
    "            Promote a visit to the company, etc.\n",
    "\n"
   ]
  },
  {
   "cell_type": "markdown",
   "id": "ee3e48cb-bcf7-427b-bf52-bcba8dde7520",
   "metadata": {
    "execution": {
     "iopub.execute_input": "2023-02-15T12:02:37.011271Z",
     "iopub.status.busy": "2023-02-15T12:02:37.010987Z",
     "iopub.status.idle": "2023-02-15T12:02:41.293084Z",
     "shell.execute_reply": "2023-02-15T12:02:41.292242Z",
     "shell.execute_reply.started": "2023-02-15T12:02:37.011250Z"
    },
    "tags": []
   },
   "source": [
    "# Imports and helper functions"
   ]
  },
  {
   "cell_type": "code",
   "execution_count": 15,
   "id": "4042e3dd-e48c-4e1b-9f54-d3946065955c",
   "metadata": {
    "execution": {
     "iopub.execute_input": "2023-02-17T11:33:11.959510Z",
     "iopub.status.busy": "2023-02-17T11:33:11.959031Z",
     "iopub.status.idle": "2023-02-17T11:33:11.966514Z",
     "shell.execute_reply": "2023-02-17T11:33:11.965597Z",
     "shell.execute_reply.started": "2023-02-17T11:33:11.959487Z"
    },
    "tags": []
   },
   "outputs": [],
   "source": [
    "import dtype_diet\n",
    "import pandas as pd\n",
    "pd.set_option('display.float_format', lambda x: '%.2f' % x)\n",
    "import numpy as np\n",
    "from matplotlib import pyplot as plt\n",
    "from matplotlib import gridspec\n",
    "from IPython.display import display, HTML\n",
    "from IPython.display import Image\n",
    "import seaborn as sns\n",
    "import csv\n",
    "from dython import nominal\n",
    "from scipy.stats import chi2_contingency\n",
    "import dataframe_image as dfi\n",
    "import re\n",
    "import snakecase\n",
    "from datetime import datetime as dt\n",
    "def data_description(df):\n",
    "    print('Variables:\\n\\n{}'.format(df.dtypes), end='\\n\\n')\n",
    "    print('Number of rows {}'.format(df.shape[0]), end='\\n\\n')\n",
    "    print('Number of columns {}'.format(df.shape[1]), end='\\n\\n')\n",
    "    print('NA analysis'.format(end='\\n') )\n",
    "    for i in df.columns:\n",
    "        print('column {}: {} {}'.format(i,df[i].isna().any(), df[i].isna().sum() ) )"
   ]
  },
  {
   "cell_type": "markdown",
   "id": "bf328ef0-4e28-4af1-bd1f-fc0ada49809a",
   "metadata": {
    "tags": []
   },
   "source": [
    "# Loading data"
   ]
  },
  {
   "cell_type": "code",
   "execution_count": 115,
   "id": "0e66082f-7768-4796-b85a-1dea98871c6c",
   "metadata": {
    "execution": {
     "iopub.execute_input": "2023-02-17T12:24:58.786545Z",
     "iopub.status.busy": "2023-02-17T12:24:58.786364Z",
     "iopub.status.idle": "2023-02-17T12:24:59.100394Z",
     "shell.execute_reply": "2023-02-17T12:24:59.099843Z",
     "shell.execute_reply.started": "2023-02-17T12:24:58.786533Z"
    },
    "tags": []
   },
   "outputs": [],
   "source": [
    "df = pd.read_csv('../high_value_customer_identification/data.csv',low_memory=True)"
   ]
  },
  {
   "cell_type": "markdown",
   "id": "d407a342-0aa5-43f1-a978-637f2b3dd649",
   "metadata": {},
   "source": [
    "# Data Description"
   ]
  },
  {
   "cell_type": "code",
   "execution_count": 94,
   "id": "d55c55e3-67fa-4871-aefa-e8ab45b2f49e",
   "metadata": {
    "execution": {
     "iopub.execute_input": "2023-02-17T12:21:49.454422Z",
     "iopub.status.busy": "2023-02-17T12:21:49.453833Z",
     "iopub.status.idle": "2023-02-17T12:21:49.460300Z",
     "shell.execute_reply": "2023-02-17T12:21:49.459860Z",
     "shell.execute_reply.started": "2023-02-17T12:21:49.454397Z"
    },
    "tags": []
   },
   "outputs": [
    {
     "data": {
      "text/html": [
       "<div>\n",
       "<style scoped>\n",
       "    .dataframe tbody tr th:only-of-type {\n",
       "        vertical-align: middle;\n",
       "    }\n",
       "\n",
       "    .dataframe tbody tr th {\n",
       "        vertical-align: top;\n",
       "    }\n",
       "\n",
       "    .dataframe thead th {\n",
       "        text-align: right;\n",
       "    }\n",
       "</style>\n",
       "<table border=\"1\" class=\"dataframe\">\n",
       "  <thead>\n",
       "    <tr style=\"text-align: right;\">\n",
       "      <th></th>\n",
       "      <th>InvoiceNo</th>\n",
       "      <th>StockCode</th>\n",
       "      <th>Description</th>\n",
       "      <th>Quantity</th>\n",
       "      <th>InvoiceDate</th>\n",
       "      <th>UnitPrice</th>\n",
       "      <th>CustomerID</th>\n",
       "      <th>Country</th>\n",
       "    </tr>\n",
       "  </thead>\n",
       "  <tbody>\n",
       "    <tr>\n",
       "      <th>0</th>\n",
       "      <td>536365</td>\n",
       "      <td>85123A</td>\n",
       "      <td>WHITE HANGING HEART T-LIGHT HOLDER</td>\n",
       "      <td>6</td>\n",
       "      <td>29-Nov-16</td>\n",
       "      <td>2.55</td>\n",
       "      <td>17850.00</td>\n",
       "      <td>United Kingdom</td>\n",
       "    </tr>\n",
       "    <tr>\n",
       "      <th>1</th>\n",
       "      <td>536365</td>\n",
       "      <td>71053</td>\n",
       "      <td>WHITE METAL LANTERN</td>\n",
       "      <td>6</td>\n",
       "      <td>29-Nov-16</td>\n",
       "      <td>3.39</td>\n",
       "      <td>17850.00</td>\n",
       "      <td>United Kingdom</td>\n",
       "    </tr>\n",
       "    <tr>\n",
       "      <th>2</th>\n",
       "      <td>536365</td>\n",
       "      <td>84406B</td>\n",
       "      <td>CREAM CUPID HEARTS COAT HANGER</td>\n",
       "      <td>8</td>\n",
       "      <td>29-Nov-16</td>\n",
       "      <td>2.75</td>\n",
       "      <td>17850.00</td>\n",
       "      <td>United Kingdom</td>\n",
       "    </tr>\n",
       "    <tr>\n",
       "      <th>3</th>\n",
       "      <td>536365</td>\n",
       "      <td>84029G</td>\n",
       "      <td>KNITTED UNION FLAG HOT WATER BOTTLE</td>\n",
       "      <td>6</td>\n",
       "      <td>29-Nov-16</td>\n",
       "      <td>3.39</td>\n",
       "      <td>17850.00</td>\n",
       "      <td>United Kingdom</td>\n",
       "    </tr>\n",
       "    <tr>\n",
       "      <th>4</th>\n",
       "      <td>536365</td>\n",
       "      <td>84029E</td>\n",
       "      <td>RED WOOLLY HOTTIE WHITE HEART.</td>\n",
       "      <td>6</td>\n",
       "      <td>29-Nov-16</td>\n",
       "      <td>3.39</td>\n",
       "      <td>17850.00</td>\n",
       "      <td>United Kingdom</td>\n",
       "    </tr>\n",
       "  </tbody>\n",
       "</table>\n",
       "</div>"
      ],
      "text/plain": [
       "  InvoiceNo StockCode                          Description  Quantity  \\\n",
       "0    536365    85123A   WHITE HANGING HEART T-LIGHT HOLDER         6   \n",
       "1    536365     71053                  WHITE METAL LANTERN         6   \n",
       "2    536365    84406B       CREAM CUPID HEARTS COAT HANGER         8   \n",
       "3    536365    84029G  KNITTED UNION FLAG HOT WATER BOTTLE         6   \n",
       "4    536365    84029E       RED WOOLLY HOTTIE WHITE HEART.         6   \n",
       "\n",
       "  InvoiceDate  UnitPrice  CustomerID         Country  \n",
       "0   29-Nov-16       2.55    17850.00  United Kingdom  \n",
       "1   29-Nov-16       3.39    17850.00  United Kingdom  \n",
       "2   29-Nov-16       2.75    17850.00  United Kingdom  \n",
       "3   29-Nov-16       3.39    17850.00  United Kingdom  \n",
       "4   29-Nov-16       3.39    17850.00  United Kingdom  "
      ]
     },
     "execution_count": 94,
     "metadata": {},
     "output_type": "execute_result"
    }
   ],
   "source": [
    "df.head()"
   ]
  },
  {
   "cell_type": "code",
   "execution_count": 95,
   "id": "c9a38c70-b559-4f19-b0db-92cdd11bc614",
   "metadata": {
    "execution": {
     "iopub.execute_input": "2023-02-17T12:21:50.816172Z",
     "iopub.status.busy": "2023-02-17T12:21:50.815743Z",
     "iopub.status.idle": "2023-02-17T12:21:50.990446Z",
     "shell.execute_reply": "2023-02-17T12:21:50.989911Z",
     "shell.execute_reply.started": "2023-02-17T12:21:50.816137Z"
    },
    "tags": []
   },
   "outputs": [
    {
     "name": "stdout",
     "output_type": "stream",
     "text": [
      "Variables:\n",
      "\n",
      "InvoiceNo       object\n",
      "StockCode       object\n",
      "Description     object\n",
      "Quantity         int64\n",
      "InvoiceDate     object\n",
      "UnitPrice      float64\n",
      "CustomerID     float64\n",
      "Country         object\n",
      "dtype: object\n",
      "\n",
      "Number of rows 541909\n",
      "\n",
      "Number of columns 8\n",
      "\n",
      "NA analysis\n",
      "column InvoiceNo: False 0\n",
      "column StockCode: False 0\n",
      "column Description: True 1454\n",
      "column Quantity: False 0\n",
      "column InvoiceDate: False 0\n",
      "column UnitPrice: False 0\n",
      "column CustomerID: True 135080\n",
      "column Country: False 0\n"
     ]
    }
   ],
   "source": [
    "data_description(df)"
   ]
  },
  {
   "cell_type": "markdown",
   "id": "1d8555c3-f86c-4145-9f40-35031466b785",
   "metadata": {},
   "source": [
    "# Data Wrangling"
   ]
  },
  {
   "cell_type": "code",
   "execution_count": 116,
   "id": "216b802d-9c56-46ee-aa0f-5784b987f2fe",
   "metadata": {
    "execution": {
     "iopub.execute_input": "2023-02-17T12:25:00.607863Z",
     "iopub.status.busy": "2023-02-17T12:25:00.607612Z",
     "iopub.status.idle": "2023-02-17T12:25:00.731849Z",
     "shell.execute_reply": "2023-02-17T12:25:00.731387Z",
     "shell.execute_reply.started": "2023-02-17T12:25:00.607844Z"
    },
    "tags": []
   },
   "outputs": [],
   "source": [
    "for i in df.columns:\n",
    "    df = df.rename(columns={i:snakecase.convert(i) } )\n"
   ]
  },
  {
   "cell_type": "markdown",
   "id": "84672c96-b063-4ee9-a216-94f382a520a8",
   "metadata": {},
   "source": [
    "## Categorical attributes analysis"
   ]
  },
  {
   "cell_type": "markdown",
   "id": "2ac61536-2807-4677-a37c-2a7af70f3add",
   "metadata": {},
   "source": [
    "### invoice_no"
   ]
  },
  {
   "cell_type": "code",
   "execution_count": 117,
   "id": "42a75d63-06e4-4969-b0bd-97090e2d54c1",
   "metadata": {
    "execution": {
     "iopub.execute_input": "2023-02-17T12:25:02.826488Z",
     "iopub.status.busy": "2023-02-17T12:25:02.826206Z",
     "iopub.status.idle": "2023-02-17T12:25:03.204100Z",
     "shell.execute_reply": "2023-02-17T12:25:03.203512Z",
     "shell.execute_reply.started": "2023-02-17T12:25:02.826466Z"
    },
    "tags": []
   },
   "outputs": [],
   "source": [
    "#There is some invoices with a letter C, probably is return invoices. They will be removed to just focus on buying invoices\n",
    "#for the moment\n",
    "df['invoice_no'].unique()\n",
    "\n",
    "\n",
    "df =  df[~df['invoice_no'].astype(str).apply(lambda x: bool(re.search('[^0-9]+',x) ) ) ]"
   ]
  },
  {
   "cell_type": "markdown",
   "id": "2d3c6847-1b00-4b44-a4a2-6af295806d56",
   "metadata": {
    "execution": {
     "iopub.execute_input": "2023-02-15T15:27:05.546068Z",
     "iopub.status.busy": "2023-02-15T15:27:05.545756Z",
     "iopub.status.idle": "2023-02-15T15:27:05.951918Z",
     "shell.execute_reply": "2023-02-15T15:27:05.951001Z",
     "shell.execute_reply.started": "2023-02-15T15:27:05.546047Z"
    },
    "tags": []
   },
   "source": [
    "### stock_code"
   ]
  },
  {
   "cell_type": "code",
   "execution_count": 118,
   "id": "a367bcd4-6af9-4604-b7af-ebcccb7a841f",
   "metadata": {
    "execution": {
     "iopub.execute_input": "2023-02-17T12:25:04.119869Z",
     "iopub.status.busy": "2023-02-17T12:25:04.119194Z",
     "iopub.status.idle": "2023-02-17T12:25:04.480024Z",
     "shell.execute_reply": "2023-02-17T12:25:04.479532Z",
     "shell.execute_reply.started": "2023-02-17T12:25:04.119845Z"
    },
    "tags": []
   },
   "outputs": [],
   "source": [
    "#There is some stockCode with just a letter (D, M,m), some with letter and number and others with numbers. Also, there is some stockcode with just letters (POST,DOT...).\n",
    "#The POST,DOT,BANK CHARGES, PADS and AMAZONFEE will be removed as they do not represents products but other operations.\n",
    "\n",
    "np.set_printoptions(threshold=sys.maxsize)\n",
    "\n",
    "np.array(df[df['stock_code'].astype(str).apply(lambda x: bool(re.search('[A-Z]{3,}',x) ) ) ]['stock_code'].unique())\n",
    "\n",
    "df = df[~df['stock_code'].isin(['DOT','BANK CHARGES','AMAZONFEE','PADS','POST','M','D','m'])]"
   ]
  },
  {
   "cell_type": "markdown",
   "id": "bce1d948-dfa1-4b16-b7b9-4bdd07fe1f32",
   "metadata": {
    "execution": {
     "iopub.execute_input": "2023-02-16T11:04:25.654902Z",
     "iopub.status.busy": "2023-02-16T11:04:25.654618Z",
     "iopub.status.idle": "2023-02-16T11:04:25.657546Z",
     "shell.execute_reply": "2023-02-16T11:04:25.656988Z",
     "shell.execute_reply.started": "2023-02-16T11:04:25.654888Z"
    },
    "tags": []
   },
   "source": [
    "## country"
   ]
  },
  {
   "cell_type": "code",
   "execution_count": 99,
   "id": "866b578c-c00e-4080-95f1-b550c7acfaf1",
   "metadata": {
    "execution": {
     "iopub.execute_input": "2023-02-17T12:22:11.100543Z",
     "iopub.status.busy": "2023-02-17T12:22:11.100280Z",
     "iopub.status.idle": "2023-02-17T12:22:11.124421Z",
     "shell.execute_reply": "2023-02-17T12:22:11.123975Z",
     "shell.execute_reply.started": "2023-02-17T12:22:11.100531Z"
    },
    "tags": []
   },
   "outputs": [
    {
     "data": {
      "text/plain": [
       "United Kingdom         0.92\n",
       "Germany                0.02\n",
       "France                 0.02\n",
       "EIRE                   0.01\n",
       "Spain                  0.00\n",
       "Netherlands            0.00\n",
       "Switzerland            0.00\n",
       "Belgium                0.00\n",
       "Portugal               0.00\n",
       "Australia              0.00\n",
       "Norway                 0.00\n",
       "Channel Islands        0.00\n",
       "Italy                  0.00\n",
       "Finland                0.00\n",
       "Cyprus                 0.00\n",
       "Unspecified            0.00\n",
       "Sweden                 0.00\n",
       "Austria                0.00\n",
       "Denmark                0.00\n",
       "Poland                 0.00\n",
       "Japan                  0.00\n",
       "Israel                 0.00\n",
       "Hong Kong              0.00\n",
       "Singapore              0.00\n",
       "Iceland                0.00\n",
       "USA                    0.00\n",
       "Canada                 0.00\n",
       "Greece                 0.00\n",
       "Malta                  0.00\n",
       "United Arab Emirates   0.00\n",
       "European Community     0.00\n",
       "RSA                    0.00\n",
       "Lebanon                0.00\n",
       "Lithuania              0.00\n",
       "Brazil                 0.00\n",
       "Czech Republic         0.00\n",
       "Bahrain                0.00\n",
       "Saudi Arabia           0.00\n",
       "Name: country, dtype: float64"
      ]
     },
     "execution_count": 99,
     "metadata": {},
     "output_type": "execute_result"
    }
   ],
   "source": [
    "#92% of customers is from UK and since data is very unbalanced this columns would not be used for now   \n",
    "df['country'].value_counts(normalize=True)"
   ]
  },
  {
   "cell_type": "markdown",
   "id": "a073edbe-157a-4f20-b0db-48875bd26e91",
   "metadata": {},
   "source": [
    "### invoice_date"
   ]
  },
  {
   "cell_type": "code",
   "execution_count": 119,
   "id": "980f60fb-138d-4c8b-a3d4-805b1337bc36",
   "metadata": {
    "execution": {
     "iopub.execute_input": "2023-02-17T12:25:06.137108Z",
     "iopub.status.busy": "2023-02-17T12:25:06.136500Z",
     "iopub.status.idle": "2023-02-17T12:25:08.460730Z",
     "shell.execute_reply": "2023-02-17T12:25:08.460012Z",
     "shell.execute_reply.started": "2023-02-17T12:25:06.137081Z"
    },
    "tags": []
   },
   "outputs": [],
   "source": [
    "df['invoice_date'] = df['invoice_date'].apply(lambda x: dt.strptime(x,'%d-%b-%y') )"
   ]
  },
  {
   "cell_type": "markdown",
   "id": "1119e05c-47cb-4ccc-bb9e-ba0b2140c035",
   "metadata": {},
   "source": [
    "## Quantitative analysis"
   ]
  },
  {
   "cell_type": "markdown",
   "id": "37cd7bb8-65e9-4abe-aad1-b1e254e42481",
   "metadata": {},
   "source": [
    "### Descriptive statistics"
   ]
  },
  {
   "cell_type": "code",
   "execution_count": 101,
   "id": "4f537c94-92b3-4d40-9554-c7a8b643bf6f",
   "metadata": {
    "execution": {
     "iopub.execute_input": "2023-02-17T12:22:16.964755Z",
     "iopub.status.busy": "2023-02-17T12:22:16.964560Z",
     "iopub.status.idle": "2023-02-17T12:22:16.996562Z",
     "shell.execute_reply": "2023-02-17T12:22:16.996156Z",
     "shell.execute_reply.started": "2023-02-17T12:22:16.964741Z"
    },
    "tags": []
   },
   "outputs": [
    {
     "data": {
      "text/html": [
       "<div>\n",
       "<style scoped>\n",
       "    .dataframe tbody tr th:only-of-type {\n",
       "        vertical-align: middle;\n",
       "    }\n",
       "\n",
       "    .dataframe tbody tr th {\n",
       "        vertical-align: top;\n",
       "    }\n",
       "\n",
       "    .dataframe thead th {\n",
       "        text-align: right;\n",
       "    }\n",
       "</style>\n",
       "<table border=\"1\" class=\"dataframe\">\n",
       "  <thead>\n",
       "    <tr style=\"text-align: right;\">\n",
       "      <th></th>\n",
       "      <th>quantity</th>\n",
       "      <th>unit_price</th>\n",
       "    </tr>\n",
       "  </thead>\n",
       "  <tbody>\n",
       "    <tr>\n",
       "      <th>count</th>\n",
       "      <td>530433.00</td>\n",
       "      <td>530433.00</td>\n",
       "    </tr>\n",
       "    <tr>\n",
       "      <th>mean</th>\n",
       "      <td>10.25</td>\n",
       "      <td>3.26</td>\n",
       "    </tr>\n",
       "    <tr>\n",
       "      <th>std</th>\n",
       "      <td>159.87</td>\n",
       "      <td>4.44</td>\n",
       "    </tr>\n",
       "    <tr>\n",
       "      <th>min</th>\n",
       "      <td>-9600.00</td>\n",
       "      <td>0.00</td>\n",
       "    </tr>\n",
       "    <tr>\n",
       "      <th>25%</th>\n",
       "      <td>1.00</td>\n",
       "      <td>1.25</td>\n",
       "    </tr>\n",
       "    <tr>\n",
       "      <th>50%</th>\n",
       "      <td>3.00</td>\n",
       "      <td>2.08</td>\n",
       "    </tr>\n",
       "    <tr>\n",
       "      <th>75%</th>\n",
       "      <td>10.00</td>\n",
       "      <td>4.13</td>\n",
       "    </tr>\n",
       "    <tr>\n",
       "      <th>max</th>\n",
       "      <td>80995.00</td>\n",
       "      <td>649.50</td>\n",
       "    </tr>\n",
       "  </tbody>\n",
       "</table>\n",
       "</div>"
      ],
      "text/plain": [
       "       quantity  unit_price\n",
       "count 530433.00   530433.00\n",
       "mean      10.25        3.26\n",
       "std      159.87        4.44\n",
       "min    -9600.00        0.00\n",
       "25%        1.00        1.25\n",
       "50%        3.00        2.08\n",
       "75%       10.00        4.13\n",
       "max    80995.00      649.50"
      ]
     },
     "execution_count": 101,
     "metadata": {},
     "output_type": "execute_result"
    }
   ],
   "source": [
    "df[['quantity','unit_price']].describe()"
   ]
  },
  {
   "cell_type": "code",
   "execution_count": 120,
   "id": "1195eea9-38fc-40fc-a00d-a58ef49c7130",
   "metadata": {
    "execution": {
     "iopub.execute_input": "2023-02-17T12:25:08.661940Z",
     "iopub.status.busy": "2023-02-17T12:25:08.661750Z",
     "iopub.status.idle": "2023-02-17T12:25:08.691153Z",
     "shell.execute_reply": "2023-02-17T12:25:08.690248Z",
     "shell.execute_reply.started": "2023-02-17T12:25:08.661927Z"
    },
    "tags": []
   },
   "outputs": [],
   "source": [
    "# There is some itens with negative quantities and unit_price equals to zero. Looking at description could be products that were in stock but something happened such as they were lost, damaged or other situations.  These situations does not represents customer purchases. They would be removed.\n",
    "# There are purchases with high quantities per item but it appears to be normal purchases so they would be kept in data. \n",
    "\n",
    "df[df['quantity'] < 0].tail(50)\n",
    "df = df[df['quantity'] > 0]"
   ]
  },
  {
   "cell_type": "code",
   "execution_count": 121,
   "id": "a567ed77-1a1e-468a-8737-2c764af6d658",
   "metadata": {
    "execution": {
     "iopub.execute_input": "2023-02-17T12:25:09.175858Z",
     "iopub.status.busy": "2023-02-17T12:25:09.175609Z",
     "iopub.status.idle": "2023-02-17T12:25:09.217618Z",
     "shell.execute_reply": "2023-02-17T12:25:09.216870Z",
     "shell.execute_reply.started": "2023-02-17T12:25:09.175840Z"
    },
    "tags": []
   },
   "outputs": [],
   "source": [
    "# there are products with unit_price equals to zero and most of these lines do not have neither product descriptions nor customer id. These do not seems to be normal purchases and since this situations represents less than 1% of the total data they will be removed\n",
    "df = df[df['unit_price'] != 0]"
   ]
  },
  {
   "cell_type": "markdown",
   "id": "95086831-069b-4615-aa95-9181f27f33dc",
   "metadata": {
    "tags": []
   },
   "source": [
    "## Checking/Replace NAs"
   ]
  },
  {
   "cell_type": "code",
   "execution_count": 122,
   "id": "1fa8daa3-64cd-46ae-9432-093ab5ffe80a",
   "metadata": {
    "execution": {
     "iopub.execute_input": "2023-02-17T12:25:10.300912Z",
     "iopub.status.busy": "2023-02-17T12:25:10.300621Z",
     "iopub.status.idle": "2023-02-17T12:25:10.439594Z",
     "shell.execute_reply": "2023-02-17T12:25:10.439029Z",
     "shell.execute_reply.started": "2023-02-17T12:25:10.300890Z"
    },
    "tags": []
   },
   "outputs": [],
   "source": [
    "#In order to not loosing more than 20% of whole data because some customers do not have ID, we will create artifical IDs starting with 25000\n",
    "df_aux = pd.DataFrame(df[df['customer_id'].isna()]['invoice_no'].drop_duplicates() )\n",
    "df_aux['customer_id'] = np.arange(20000, 20000 + len(df_aux), 1)\n",
    "\n",
    "df = pd.merge(df,df_aux, how='left', on='invoice_no')\n",
    "df['customer_id'] = df['customer_id_x'].combine_first(df['customer_id_y'] )\n",
    "df = df.drop(columns=['customer_id_x','customer_id_y'], axis=1)\n",
    "df['customer_id'] = df['customer_id'].astype(int)"
   ]
  },
  {
   "cell_type": "markdown",
   "id": "ad1225e4-1c9a-422f-9420-d792f0622a76",
   "metadata": {
    "execution": {
     "iopub.execute_input": "2023-02-16T15:55:06.534637Z",
     "iopub.status.busy": "2023-02-16T15:55:06.534397Z",
     "iopub.status.idle": "2023-02-16T15:55:06.537779Z",
     "shell.execute_reply": "2023-02-16T15:55:06.537193Z",
     "shell.execute_reply.started": "2023-02-16T15:55:06.534620Z"
    },
    "tags": []
   },
   "source": [
    "## Feature filtering"
   ]
  },
  {
   "cell_type": "code",
   "execution_count": 123,
   "id": "a7d1a4fa-db2c-4ecb-a349-56f119911577",
   "metadata": {
    "execution": {
     "iopub.execute_input": "2023-02-17T12:25:11.781589Z",
     "iopub.status.busy": "2023-02-17T12:25:11.781339Z",
     "iopub.status.idle": "2023-02-17T12:25:11.805698Z",
     "shell.execute_reply": "2023-02-17T12:25:11.805104Z",
     "shell.execute_reply.started": "2023-02-17T12:25:11.781576Z"
    },
    "tags": []
   },
   "outputs": [],
   "source": [
    "df = df.drop(columns=['description','country'])"
   ]
  },
  {
   "cell_type": "markdown",
   "id": "385f3b75-a174-4c78-9a20-40c793142fb9",
   "metadata": {},
   "source": [
    "# Feature Engineering"
   ]
  },
  {
   "cell_type": "code",
   "execution_count": 124,
   "id": "2e690586-6dd0-479d-bcf9-d4f15a57a8ea",
   "metadata": {
    "execution": {
     "iopub.execute_input": "2023-02-17T12:25:16.207701Z",
     "iopub.status.busy": "2023-02-17T12:25:16.207420Z",
     "iopub.status.idle": "2023-02-17T12:25:16.222598Z",
     "shell.execute_reply": "2023-02-17T12:25:16.221955Z",
     "shell.execute_reply.started": "2023-02-17T12:25:16.207679Z"
    },
    "tags": []
   },
   "outputs": [],
   "source": [
    "df1 = df.copy()"
   ]
  },
  {
   "cell_type": "code",
   "execution_count": null,
   "id": "252fa596-8fcf-43ca-a78e-3515308573cd",
   "metadata": {},
   "outputs": [],
   "source": [
    "# ticket_size - quantity x unit_price  average per purchase\n",
    "# basket_size - sum of all quantities per purchase\n",
    "# unique_basket_size - quantity of distincts product per purchase \n",
    "# gross_revenue (monetary) - quantity x unit_price\n",
    "# Recency - time in days since last purchase\n",
    "# Average Recency days - average time between purchases\n",
    "# Frequency - How many times customer purchase\n",
    "# Quantity of purchase per month - How many purchases a customer did in a month"
   ]
  },
  {
   "cell_type": "code",
   "execution_count": 125,
   "id": "012df345-e46d-4e5c-92ec-55d1e98807c5",
   "metadata": {
    "execution": {
     "iopub.execute_input": "2023-02-17T12:25:17.668093Z",
     "iopub.status.busy": "2023-02-17T12:25:17.667518Z",
     "iopub.status.idle": "2023-02-17T12:25:17.674983Z",
     "shell.execute_reply": "2023-02-17T12:25:17.674245Z",
     "shell.execute_reply.started": "2023-02-17T12:25:17.668070Z"
    },
    "tags": []
   },
   "outputs": [
    {
     "data": {
      "text/html": [
       "<div>\n",
       "<style scoped>\n",
       "    .dataframe tbody tr th:only-of-type {\n",
       "        vertical-align: middle;\n",
       "    }\n",
       "\n",
       "    .dataframe tbody tr th {\n",
       "        vertical-align: top;\n",
       "    }\n",
       "\n",
       "    .dataframe thead th {\n",
       "        text-align: right;\n",
       "    }\n",
       "</style>\n",
       "<table border=\"1\" class=\"dataframe\">\n",
       "  <thead>\n",
       "    <tr style=\"text-align: right;\">\n",
       "      <th></th>\n",
       "      <th>invoice_no</th>\n",
       "      <th>stock_code</th>\n",
       "      <th>quantity</th>\n",
       "      <th>invoice_date</th>\n",
       "      <th>unit_price</th>\n",
       "      <th>customer_id</th>\n",
       "    </tr>\n",
       "  </thead>\n",
       "  <tbody>\n",
       "    <tr>\n",
       "      <th>0</th>\n",
       "      <td>536365</td>\n",
       "      <td>85123A</td>\n",
       "      <td>6</td>\n",
       "      <td>2016-11-29</td>\n",
       "      <td>2.55</td>\n",
       "      <td>17850</td>\n",
       "    </tr>\n",
       "    <tr>\n",
       "      <th>1</th>\n",
       "      <td>536365</td>\n",
       "      <td>71053</td>\n",
       "      <td>6</td>\n",
       "      <td>2016-11-29</td>\n",
       "      <td>3.39</td>\n",
       "      <td>17850</td>\n",
       "    </tr>\n",
       "    <tr>\n",
       "      <th>2</th>\n",
       "      <td>536365</td>\n",
       "      <td>84406B</td>\n",
       "      <td>8</td>\n",
       "      <td>2016-11-29</td>\n",
       "      <td>2.75</td>\n",
       "      <td>17850</td>\n",
       "    </tr>\n",
       "    <tr>\n",
       "      <th>3</th>\n",
       "      <td>536365</td>\n",
       "      <td>84029G</td>\n",
       "      <td>6</td>\n",
       "      <td>2016-11-29</td>\n",
       "      <td>3.39</td>\n",
       "      <td>17850</td>\n",
       "    </tr>\n",
       "    <tr>\n",
       "      <th>4</th>\n",
       "      <td>536365</td>\n",
       "      <td>84029E</td>\n",
       "      <td>6</td>\n",
       "      <td>2016-11-29</td>\n",
       "      <td>3.39</td>\n",
       "      <td>17850</td>\n",
       "    </tr>\n",
       "  </tbody>\n",
       "</table>\n",
       "</div>"
      ],
      "text/plain": [
       "  invoice_no stock_code  quantity invoice_date  unit_price  customer_id\n",
       "0     536365     85123A         6   2016-11-29        2.55        17850\n",
       "1     536365      71053         6   2016-11-29        3.39        17850\n",
       "2     536365     84406B         8   2016-11-29        2.75        17850\n",
       "3     536365     84029G         6   2016-11-29        3.39        17850\n",
       "4     536365     84029E         6   2016-11-29        3.39        17850"
      ]
     },
     "execution_count": 125,
     "metadata": {},
     "output_type": "execute_result"
    }
   ],
   "source": [
    "df1.head()"
   ]
  },
  {
   "cell_type": "markdown",
   "id": "1b20b857-7074-4df9-8478-a9fe677116d8",
   "metadata": {
    "execution": {
     "iopub.execute_input": "2023-02-17T11:30:22.202374Z",
     "iopub.status.busy": "2023-02-17T11:30:22.201639Z",
     "iopub.status.idle": "2023-02-17T11:30:22.215415Z",
     "shell.execute_reply": "2023-02-17T11:30:22.214722Z",
     "shell.execute_reply.started": "2023-02-17T11:30:22.202338Z"
    },
    "tags": []
   },
   "source": [
    "## Ticket Size"
   ]
  },
  {
   "cell_type": "code",
   "execution_count": 108,
   "id": "c858fe8d-b89e-4e61-85cb-7af9e8b30b8f",
   "metadata": {
    "execution": {
     "iopub.execute_input": "2023-02-17T12:22:39.143276Z",
     "iopub.status.busy": "2023-02-17T12:22:39.142997Z",
     "iopub.status.idle": "2023-02-17T12:22:39.162889Z",
     "shell.execute_reply": "2023-02-17T12:22:39.161958Z",
     "shell.execute_reply.started": "2023-02-17T12:22:39.143254Z"
    },
    "tags": []
   },
   "outputs": [
    {
     "data": {
      "text/html": [
       "<div>\n",
       "<style scoped>\n",
       "    .dataframe tbody tr th:only-of-type {\n",
       "        vertical-align: middle;\n",
       "    }\n",
       "\n",
       "    .dataframe tbody tr th {\n",
       "        vertical-align: top;\n",
       "    }\n",
       "\n",
       "    .dataframe thead th {\n",
       "        text-align: right;\n",
       "    }\n",
       "</style>\n",
       "<table border=\"1\" class=\"dataframe\">\n",
       "  <thead>\n",
       "    <tr style=\"text-align: right;\">\n",
       "      <th></th>\n",
       "      <th>invoice_no</th>\n",
       "      <th>quantity</th>\n",
       "      <th>unit_price</th>\n",
       "      <th>ticket_size</th>\n",
       "    </tr>\n",
       "  </thead>\n",
       "  <tbody>\n",
       "    <tr>\n",
       "      <th>0</th>\n",
       "      <td>536365</td>\n",
       "      <td>6</td>\n",
       "      <td>2.55</td>\n",
       "      <td>15.30</td>\n",
       "    </tr>\n",
       "    <tr>\n",
       "      <th>1</th>\n",
       "      <td>536365</td>\n",
       "      <td>6</td>\n",
       "      <td>3.39</td>\n",
       "      <td>20.34</td>\n",
       "    </tr>\n",
       "    <tr>\n",
       "      <th>2</th>\n",
       "      <td>536365</td>\n",
       "      <td>8</td>\n",
       "      <td>2.75</td>\n",
       "      <td>22.00</td>\n",
       "    </tr>\n",
       "    <tr>\n",
       "      <th>3</th>\n",
       "      <td>536365</td>\n",
       "      <td>6</td>\n",
       "      <td>3.39</td>\n",
       "      <td>20.34</td>\n",
       "    </tr>\n",
       "    <tr>\n",
       "      <th>4</th>\n",
       "      <td>536365</td>\n",
       "      <td>6</td>\n",
       "      <td>3.39</td>\n",
       "      <td>20.34</td>\n",
       "    </tr>\n",
       "    <tr>\n",
       "      <th>...</th>\n",
       "      <td>...</td>\n",
       "      <td>...</td>\n",
       "      <td>...</td>\n",
       "      <td>...</td>\n",
       "    </tr>\n",
       "    <tr>\n",
       "      <th>527927</th>\n",
       "      <td>581587</td>\n",
       "      <td>12</td>\n",
       "      <td>0.85</td>\n",
       "      <td>10.20</td>\n",
       "    </tr>\n",
       "    <tr>\n",
       "      <th>527928</th>\n",
       "      <td>581587</td>\n",
       "      <td>6</td>\n",
       "      <td>2.10</td>\n",
       "      <td>12.60</td>\n",
       "    </tr>\n",
       "    <tr>\n",
       "      <th>527929</th>\n",
       "      <td>581587</td>\n",
       "      <td>4</td>\n",
       "      <td>4.15</td>\n",
       "      <td>16.60</td>\n",
       "    </tr>\n",
       "    <tr>\n",
       "      <th>527930</th>\n",
       "      <td>581587</td>\n",
       "      <td>4</td>\n",
       "      <td>4.15</td>\n",
       "      <td>16.60</td>\n",
       "    </tr>\n",
       "    <tr>\n",
       "      <th>527931</th>\n",
       "      <td>581587</td>\n",
       "      <td>3</td>\n",
       "      <td>4.95</td>\n",
       "      <td>14.85</td>\n",
       "    </tr>\n",
       "  </tbody>\n",
       "</table>\n",
       "<p>527932 rows × 4 columns</p>\n",
       "</div>"
      ],
      "text/plain": [
       "       invoice_no  quantity  unit_price  ticket_size\n",
       "0          536365         6        2.55        15.30\n",
       "1          536365         6        3.39        20.34\n",
       "2          536365         8        2.75        22.00\n",
       "3          536365         6        3.39        20.34\n",
       "4          536365         6        3.39        20.34\n",
       "...           ...       ...         ...          ...\n",
       "527927     581587        12        0.85        10.20\n",
       "527928     581587         6        2.10        12.60\n",
       "527929     581587         4        4.15        16.60\n",
       "527930     581587         4        4.15        16.60\n",
       "527931     581587         3        4.95        14.85\n",
       "\n",
       "[527932 rows x 4 columns]"
      ]
     },
     "execution_count": 108,
     "metadata": {},
     "output_type": "execute_result"
    }
   ],
   "source": [
    "df1_aux = df1.loc[:,['invoice_no','quantity','unit_price']]\n",
    "df1_aux['ticket_size'] = df1['quantity']*df1['unit_price']\n",
    "df1_aux"
   ]
  },
  {
   "cell_type": "code",
   "execution_count": 110,
   "id": "bc231d16-cad3-4ffd-a430-dbac672a8e17",
   "metadata": {
    "execution": {
     "iopub.execute_input": "2023-02-17T12:23:04.014047Z",
     "iopub.status.busy": "2023-02-17T12:23:04.013589Z",
     "iopub.status.idle": "2023-02-17T12:23:04.072117Z",
     "shell.execute_reply": "2023-02-17T12:23:04.071497Z",
     "shell.execute_reply.started": "2023-02-17T12:23:04.014026Z"
    },
    "tags": []
   },
   "outputs": [
    {
     "data": {
      "text/html": [
       "<div>\n",
       "<style scoped>\n",
       "    .dataframe tbody tr th:only-of-type {\n",
       "        vertical-align: middle;\n",
       "    }\n",
       "\n",
       "    .dataframe tbody tr th {\n",
       "        vertical-align: top;\n",
       "    }\n",
       "\n",
       "    .dataframe thead th {\n",
       "        text-align: right;\n",
       "    }\n",
       "</style>\n",
       "<table border=\"1\" class=\"dataframe\">\n",
       "  <thead>\n",
       "    <tr style=\"text-align: right;\">\n",
       "      <th></th>\n",
       "      <th>ticket_size</th>\n",
       "    </tr>\n",
       "    <tr>\n",
       "      <th>invoice_no</th>\n",
       "      <th></th>\n",
       "    </tr>\n",
       "  </thead>\n",
       "  <tbody>\n",
       "    <tr>\n",
       "      <th>536365</th>\n",
       "      <td>19.87</td>\n",
       "    </tr>\n",
       "    <tr>\n",
       "      <th>536366</th>\n",
       "      <td>11.10</td>\n",
       "    </tr>\n",
       "    <tr>\n",
       "      <th>536367</th>\n",
       "      <td>23.23</td>\n",
       "    </tr>\n",
       "    <tr>\n",
       "      <th>536368</th>\n",
       "      <td>17.51</td>\n",
       "    </tr>\n",
       "    <tr>\n",
       "      <th>536369</th>\n",
       "      <td>17.85</td>\n",
       "    </tr>\n",
       "    <tr>\n",
       "      <th>...</th>\n",
       "      <td>...</td>\n",
       "    </tr>\n",
       "    <tr>\n",
       "      <th>581583</th>\n",
       "      <td>62.30</td>\n",
       "    </tr>\n",
       "    <tr>\n",
       "      <th>581584</th>\n",
       "      <td>70.32</td>\n",
       "    </tr>\n",
       "    <tr>\n",
       "      <th>581585</th>\n",
       "      <td>15.67</td>\n",
       "    </tr>\n",
       "    <tr>\n",
       "      <th>581586</th>\n",
       "      <td>84.80</td>\n",
       "    </tr>\n",
       "    <tr>\n",
       "      <th>581587</th>\n",
       "      <td>16.63</td>\n",
       "    </tr>\n",
       "  </tbody>\n",
       "</table>\n",
       "<p>19778 rows × 1 columns</p>\n",
       "</div>"
      ],
      "text/plain": [
       "            ticket_size\n",
       "invoice_no             \n",
       "536365            19.87\n",
       "536366            11.10\n",
       "536367            23.23\n",
       "536368            17.51\n",
       "536369            17.85\n",
       "...                 ...\n",
       "581583            62.30\n",
       "581584            70.32\n",
       "581585            15.67\n",
       "581586            84.80\n",
       "581587            16.63\n",
       "\n",
       "[19778 rows x 1 columns]"
      ]
     },
     "execution_count": 110,
     "metadata": {},
     "output_type": "execute_result"
    }
   ],
   "source": [
    "df1_aux[['invoice_no','ticket_size']].groupby('invoice_no').agg({'ticket_size':'mean'})"
   ]
  }
 ],
 "metadata": {
  "kernelspec": {
   "display_name": "Python 3 (ipykernel)",
   "language": "python",
   "name": "python3"
  },
  "language_info": {
   "codemirror_mode": {
    "name": "ipython",
    "version": 3
   },
   "file_extension": ".py",
   "mimetype": "text/x-python",
   "name": "python",
   "nbconvert_exporter": "python",
   "pygments_lexer": "ipython3",
   "version": "3.10.9"
  }
 },
 "nbformat": 4,
 "nbformat_minor": 5
}
